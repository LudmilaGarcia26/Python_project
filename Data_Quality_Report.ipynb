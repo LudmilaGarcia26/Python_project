{
  "cells": [
    {
      "cell_type": "markdown",
      "metadata": {
        "id": "view-in-github",
        "colab_type": "text"
      },
      "source": [
        "<a href=\"https://colab.research.google.com/github/LudmilaGarcia26/Python_project/blob/main/Data_Quality_Report.ipynb\" target=\"_parent\"><img src=\"https://colab.research.google.com/assets/colab-badge.svg\" alt=\"Open In Colab\"/></a>"
      ]
    },
    {
      "cell_type": "markdown",
      "id": "38bcec7a-f9ab-48e8-9553-e9ded639a576",
      "metadata": {
        "id": "38bcec7a-f9ab-48e8-9553-e9ded639a576"
      },
      "source": [
        "# Trees in Camden\n",
        "Use this notebook to complete your analysis.\n",
        "Enter code and comments after the TODOs.\n",
        "\n",
        "There are some code cells completed for you.  These are highlighted with a <font style=\"color:crimson;background-color:lemonchiffon\">TODO</font> comment.  You can use these to guide the subsequent tasks.  Other cells require you to read documentation or search for answers.  The markdown comments give you links to some useful documentation and articles.  Read the documentation, look at the examples provided in the documentation and then try to apply them to your data.\n",
        "\n",
        "Remember that you can find information on the pandas functions on the Pandas website https://pandas.pydata.org/pandas-docs/stable/reference/frame.html or directly in the notebook by puttin a ? before or after the function name. for instance: `?df.head()` or `df['Maturity'].value_counts()?`"
      ]
    },
    {
      "cell_type": "markdown",
      "id": "71f2c016-f440-4601-8262-1d814315d1bb",
      "metadata": {
        "id": "71f2c016-f440-4601-8262-1d814315d1bb"
      },
      "source": [
        "## Imports\n",
        "Import the libraries we need to perform the analysis."
      ]
    },
    {
      "cell_type": "code",
      "execution_count": 1,
      "id": "26c7393c-3a3f-4224-8c88-10aa58310351",
      "metadata": {
        "id": "26c7393c-3a3f-4224-8c88-10aa58310351"
      },
      "outputs": [],
      "source": [
        "import pandas as pd"
      ]
    },
    {
      "cell_type": "markdown",
      "id": "ddcf618b-a928-498c-b07e-991c7eb09bb7",
      "metadata": {
        "tags": [],
        "toc-hr-collapsed": true,
        "id": "ddcf618b-a928-498c-b07e-991c7eb09bb7"
      },
      "source": [
        "## Task 2: Load Data and Perform Initial Exploration\n",
        "Load the data from the supplied data files.  The files are in different **file formats**, but Pandas can handle this.\n",
        "\n",
        "You should read the data in using the appropriate function:\n",
        "\n",
        "- [pandas.read_excel](https://pandas.pydata.org/pandas-docs/stable/reference/api/pandas.read_excel.html)\n",
        "- [pandas.read_csv](https://pandas.pydata.org/docs/reference/api/pandas.read_csv.html)\n",
        "- [pandas.read_json](https://pandas.pydata.org/pandas-docs/version/0.23.4/generated/pandas.read_json.html)\n",
        "\n",
        "You can then inspect the first few rows of the loaded dataframe:\n",
        "\n",
        "[pandas.DataFrame.head](https://pandas.pydata.org/docs/reference/api/pandas.DataFrame.head.html)\n",
        "\n",
        "You can get the number of rows and columns:\n",
        "\n",
        "[pandas.DataFrame.shape](https://pandas.pydata.org/pandas-docs/stable/reference/api/pandas.DataFrame.shape.html)\n",
        "\n",
        "You can get the list of column names:\n",
        "\n",
        "[pandas.DataFrame.columns](https://pandas.pydata.org/docs/reference/api/pandas.DataFrame.columns.html)\n",
        "\n",
        "And you can list the data types of the columns:\n",
        "\n",
        "[pandas.DataFrames.dtypes](https://pandas.pydata.org/pandas-docs/stable/reference/api/pandas.DataFrame.dtypes.html)\n",
        "\n",
        "I've done the first one (loading `\"camden_trees.xlsx\"`) for you.  Please load `\"camden_trees_environmental.csv\"` and `\"tree_common_names.json\"` and analyse them in the same way.\n"
      ]
    },
    {
      "cell_type": "markdown",
      "id": "be1b77e3-ef79-49da-a896-dafbc51a3e10",
      "metadata": {
        "id": "be1b77e3-ef79-49da-a896-dafbc51a3e10"
      },
      "source": [
        "### 2.1 Trees\n",
        "The file `\"camden_trees.xlsx\"` is an Excel file, so we use the `read_excel()` function."
      ]
    },
    {
      "cell_type": "code",
      "execution_count": 2,
      "id": "dcc71d80-c6e5-41fa-bdd2-8a9c1c129cc7",
      "metadata": {
        "id": "dcc71d80-c6e5-41fa-bdd2-8a9c1c129cc7"
      },
      "outputs": [],
      "source": [
        "# Create a Pandas dataframe called trees that contains the contents of the Excel file\n",
        "trees = pd.read_excel(\"camden_trees.xlsx\")"
      ]
    },
    {
      "cell_type": "code",
      "source": [
        "from google.colab import drive\n",
        "drive.mount('/content/drive')"
      ],
      "metadata": {
        "id": "zB-h22db_pZ6",
        "colab": {
          "base_uri": "https://localhost:8080/"
        },
        "outputId": "40c1d91c-d4ed-4ba1-9175-68e6b29d3a0b"
      },
      "id": "zB-h22db_pZ6",
      "execution_count": null,
      "outputs": [
        {
          "output_type": "stream",
          "name": "stdout",
          "text": [
            "Drive already mounted at /content/drive; to attempt to forcibly remount, call drive.mount(\"/content/drive\", force_remount=True).\n"
          ]
        }
      ]
    },
    {
      "cell_type": "markdown",
      "id": "13689979-f709-4e37-87bc-e005a9dfd0ea",
      "metadata": {
        "id": "13689979-f709-4e37-87bc-e005a9dfd0ea"
      },
      "source": [
        "We can now inspect the first few rows using `head()`.  By default, `head()` displays the first 5 rows."
      ]
    },
    {
      "cell_type": "code",
      "execution_count": null,
      "id": "34c737a4-0666-450f-8db3-b14fd2c2fec5",
      "metadata": {
        "id": "34c737a4-0666-450f-8db3-b14fd2c2fec5",
        "colab": {
          "base_uri": "https://localhost:8080/",
          "height": 424
        },
        "outputId": "601a553b-f3d8-401c-b7eb-d91919ab1e37"
      },
      "outputs": [
        {
          "output_type": "execute_result",
          "data": {
            "text/plain": [
              "  Identifier  Number Of Trees                   Site Name Contract Area  \\\n",
              "0   00060053              1.0    Russell Nurseries Estate       Housing   \n",
              "1   00057855              1.0           BRECKNOCK JMI (E)     Education   \n",
              "2   00059953              1.0  Estate 51 Ravenshaw Street       Housing   \n",
              "3   00059915              1.0           ROSARY RC JMI (E)     Education   \n",
              "4   00010762              1.0          Holly Lodge Estate       Housing   \n",
              "\n",
              "        Scientific Name Inspection Date Inspection Due Date  Height In Metres  \\\n",
              "0       Vacant Tree Pit             NaT                 NaN               NaN   \n",
              "1       Vacant Tree Pit      2019-07-17           2022/2023               NaN   \n",
              "2          Ficus carica             NaT                 NaN               5.0   \n",
              "3   Betula jacquemontii             NaT                 NaN               4.0   \n",
              "4  Ilex x altaclarensis      2017-06-14           2020/2021              14.0   \n",
              "\n",
              "   Spread In Metres  Diameter In Centimetres At Breast Height  Ward Code  \\\n",
              "0               NaN                                       NaN  E05000135   \n",
              "1               NaN                                       NaN  E05000131   \n",
              "2               4.0                                      10.0        NaN   \n",
              "3               1.0                                       6.0  E05000135   \n",
              "4               6.0                                      26.0  E05000137   \n",
              "\n",
              "        Ward Name  Easting  Northing  Longitude   Latitude  \\\n",
              "0  Hampstead Town   527305    185240  -0.165240  51.551693   \n",
              "1      Cantelowes   529923    184782  -0.127681  51.546984   \n",
              "2             NaN        0         0        NaN        NaN   \n",
              "3  Hampstead Town   527249    185261  -0.166051  51.551901   \n",
              "4        Highgate   528414    186770  -0.148704  51.565198   \n",
              "\n",
              "                 Location  \n",
              "0   (51.551693, -0.16524)  \n",
              "1  (51.546984, -0.127681)  \n",
              "2                     NaN  \n",
              "3  (51.551901, -0.166051)  \n",
              "4  (51.565198, -0.148704)  "
            ],
            "text/html": [
              "\n",
              "  <div id=\"df-11ec036e-d3c5-4a5c-a41c-3b6dd075ac61\">\n",
              "    <div class=\"colab-df-container\">\n",
              "      <div>\n",
              "<style scoped>\n",
              "    .dataframe tbody tr th:only-of-type {\n",
              "        vertical-align: middle;\n",
              "    }\n",
              "\n",
              "    .dataframe tbody tr th {\n",
              "        vertical-align: top;\n",
              "    }\n",
              "\n",
              "    .dataframe thead th {\n",
              "        text-align: right;\n",
              "    }\n",
              "</style>\n",
              "<table border=\"1\" class=\"dataframe\">\n",
              "  <thead>\n",
              "    <tr style=\"text-align: right;\">\n",
              "      <th></th>\n",
              "      <th>Identifier</th>\n",
              "      <th>Number Of Trees</th>\n",
              "      <th>Site Name</th>\n",
              "      <th>Contract Area</th>\n",
              "      <th>Scientific Name</th>\n",
              "      <th>Inspection Date</th>\n",
              "      <th>Inspection Due Date</th>\n",
              "      <th>Height In Metres</th>\n",
              "      <th>Spread In Metres</th>\n",
              "      <th>Diameter In Centimetres At Breast Height</th>\n",
              "      <th>Ward Code</th>\n",
              "      <th>Ward Name</th>\n",
              "      <th>Easting</th>\n",
              "      <th>Northing</th>\n",
              "      <th>Longitude</th>\n",
              "      <th>Latitude</th>\n",
              "      <th>Location</th>\n",
              "    </tr>\n",
              "  </thead>\n",
              "  <tbody>\n",
              "    <tr>\n",
              "      <th>0</th>\n",
              "      <td>00060053</td>\n",
              "      <td>1.0</td>\n",
              "      <td>Russell Nurseries Estate</td>\n",
              "      <td>Housing</td>\n",
              "      <td>Vacant Tree Pit</td>\n",
              "      <td>NaT</td>\n",
              "      <td>NaN</td>\n",
              "      <td>NaN</td>\n",
              "      <td>NaN</td>\n",
              "      <td>NaN</td>\n",
              "      <td>E05000135</td>\n",
              "      <td>Hampstead Town</td>\n",
              "      <td>527305</td>\n",
              "      <td>185240</td>\n",
              "      <td>-0.165240</td>\n",
              "      <td>51.551693</td>\n",
              "      <td>(51.551693, -0.16524)</td>\n",
              "    </tr>\n",
              "    <tr>\n",
              "      <th>1</th>\n",
              "      <td>00057855</td>\n",
              "      <td>1.0</td>\n",
              "      <td>BRECKNOCK JMI (E)</td>\n",
              "      <td>Education</td>\n",
              "      <td>Vacant Tree Pit</td>\n",
              "      <td>2019-07-17</td>\n",
              "      <td>2022/2023</td>\n",
              "      <td>NaN</td>\n",
              "      <td>NaN</td>\n",
              "      <td>NaN</td>\n",
              "      <td>E05000131</td>\n",
              "      <td>Cantelowes</td>\n",
              "      <td>529923</td>\n",
              "      <td>184782</td>\n",
              "      <td>-0.127681</td>\n",
              "      <td>51.546984</td>\n",
              "      <td>(51.546984, -0.127681)</td>\n",
              "    </tr>\n",
              "    <tr>\n",
              "      <th>2</th>\n",
              "      <td>00059953</td>\n",
              "      <td>1.0</td>\n",
              "      <td>Estate 51 Ravenshaw Street</td>\n",
              "      <td>Housing</td>\n",
              "      <td>Ficus carica</td>\n",
              "      <td>NaT</td>\n",
              "      <td>NaN</td>\n",
              "      <td>5.0</td>\n",
              "      <td>4.0</td>\n",
              "      <td>10.0</td>\n",
              "      <td>NaN</td>\n",
              "      <td>NaN</td>\n",
              "      <td>0</td>\n",
              "      <td>0</td>\n",
              "      <td>NaN</td>\n",
              "      <td>NaN</td>\n",
              "      <td>NaN</td>\n",
              "    </tr>\n",
              "    <tr>\n",
              "      <th>3</th>\n",
              "      <td>00059915</td>\n",
              "      <td>1.0</td>\n",
              "      <td>ROSARY RC JMI (E)</td>\n",
              "      <td>Education</td>\n",
              "      <td>Betula jacquemontii</td>\n",
              "      <td>NaT</td>\n",
              "      <td>NaN</td>\n",
              "      <td>4.0</td>\n",
              "      <td>1.0</td>\n",
              "      <td>6.0</td>\n",
              "      <td>E05000135</td>\n",
              "      <td>Hampstead Town</td>\n",
              "      <td>527249</td>\n",
              "      <td>185261</td>\n",
              "      <td>-0.166051</td>\n",
              "      <td>51.551901</td>\n",
              "      <td>(51.551901, -0.166051)</td>\n",
              "    </tr>\n",
              "    <tr>\n",
              "      <th>4</th>\n",
              "      <td>00010762</td>\n",
              "      <td>1.0</td>\n",
              "      <td>Holly Lodge Estate</td>\n",
              "      <td>Housing</td>\n",
              "      <td>Ilex x altaclarensis</td>\n",
              "      <td>2017-06-14</td>\n",
              "      <td>2020/2021</td>\n",
              "      <td>14.0</td>\n",
              "      <td>6.0</td>\n",
              "      <td>26.0</td>\n",
              "      <td>E05000137</td>\n",
              "      <td>Highgate</td>\n",
              "      <td>528414</td>\n",
              "      <td>186770</td>\n",
              "      <td>-0.148704</td>\n",
              "      <td>51.565198</td>\n",
              "      <td>(51.565198, -0.148704)</td>\n",
              "    </tr>\n",
              "  </tbody>\n",
              "</table>\n",
              "</div>\n",
              "      <button class=\"colab-df-convert\" onclick=\"convertToInteractive('df-11ec036e-d3c5-4a5c-a41c-3b6dd075ac61')\"\n",
              "              title=\"Convert this dataframe to an interactive table.\"\n",
              "              style=\"display:none;\">\n",
              "        \n",
              "  <svg xmlns=\"http://www.w3.org/2000/svg\" height=\"24px\"viewBox=\"0 0 24 24\"\n",
              "       width=\"24px\">\n",
              "    <path d=\"M0 0h24v24H0V0z\" fill=\"none\"/>\n",
              "    <path d=\"M18.56 5.44l.94 2.06.94-2.06 2.06-.94-2.06-.94-.94-2.06-.94 2.06-2.06.94zm-11 1L8.5 8.5l.94-2.06 2.06-.94-2.06-.94L8.5 2.5l-.94 2.06-2.06.94zm10 10l.94 2.06.94-2.06 2.06-.94-2.06-.94-.94-2.06-.94 2.06-2.06.94z\"/><path d=\"M17.41 7.96l-1.37-1.37c-.4-.4-.92-.59-1.43-.59-.52 0-1.04.2-1.43.59L10.3 9.45l-7.72 7.72c-.78.78-.78 2.05 0 2.83L4 21.41c.39.39.9.59 1.41.59.51 0 1.02-.2 1.41-.59l7.78-7.78 2.81-2.81c.8-.78.8-2.07 0-2.86zM5.41 20L4 18.59l7.72-7.72 1.47 1.35L5.41 20z\"/>\n",
              "  </svg>\n",
              "      </button>\n",
              "      \n",
              "  <style>\n",
              "    .colab-df-container {\n",
              "      display:flex;\n",
              "      flex-wrap:wrap;\n",
              "      gap: 12px;\n",
              "    }\n",
              "\n",
              "    .colab-df-convert {\n",
              "      background-color: #E8F0FE;\n",
              "      border: none;\n",
              "      border-radius: 50%;\n",
              "      cursor: pointer;\n",
              "      display: none;\n",
              "      fill: #1967D2;\n",
              "      height: 32px;\n",
              "      padding: 0 0 0 0;\n",
              "      width: 32px;\n",
              "    }\n",
              "\n",
              "    .colab-df-convert:hover {\n",
              "      background-color: #E2EBFA;\n",
              "      box-shadow: 0px 1px 2px rgba(60, 64, 67, 0.3), 0px 1px 3px 1px rgba(60, 64, 67, 0.15);\n",
              "      fill: #174EA6;\n",
              "    }\n",
              "\n",
              "    [theme=dark] .colab-df-convert {\n",
              "      background-color: #3B4455;\n",
              "      fill: #D2E3FC;\n",
              "    }\n",
              "\n",
              "    [theme=dark] .colab-df-convert:hover {\n",
              "      background-color: #434B5C;\n",
              "      box-shadow: 0px 1px 3px 1px rgba(0, 0, 0, 0.15);\n",
              "      filter: drop-shadow(0px 1px 2px rgba(0, 0, 0, 0.3));\n",
              "      fill: #FFFFFF;\n",
              "    }\n",
              "  </style>\n",
              "\n",
              "      <script>\n",
              "        const buttonEl =\n",
              "          document.querySelector('#df-11ec036e-d3c5-4a5c-a41c-3b6dd075ac61 button.colab-df-convert');\n",
              "        buttonEl.style.display =\n",
              "          google.colab.kernel.accessAllowed ? 'block' : 'none';\n",
              "\n",
              "        async function convertToInteractive(key) {\n",
              "          const element = document.querySelector('#df-11ec036e-d3c5-4a5c-a41c-3b6dd075ac61');\n",
              "          const dataTable =\n",
              "            await google.colab.kernel.invokeFunction('convertToInteractive',\n",
              "                                                     [key], {});\n",
              "          if (!dataTable) return;\n",
              "\n",
              "          const docLinkHtml = 'Like what you see? Visit the ' +\n",
              "            '<a target=\"_blank\" href=https://colab.research.google.com/notebooks/data_table.ipynb>data table notebook</a>'\n",
              "            + ' to learn more about interactive tables.';\n",
              "          element.innerHTML = '';\n",
              "          dataTable['output_type'] = 'display_data';\n",
              "          await google.colab.output.renderOutput(dataTable, element);\n",
              "          const docLink = document.createElement('div');\n",
              "          docLink.innerHTML = docLinkHtml;\n",
              "          element.appendChild(docLink);\n",
              "        }\n",
              "      </script>\n",
              "    </div>\n",
              "  </div>\n",
              "  "
            ]
          },
          "metadata": {},
          "execution_count": 19
        }
      ],
      "source": [
        "# Display the first few rows\n",
        "trees.head()"
      ]
    },
    {
      "cell_type": "markdown",
      "id": "2dc1c27b-7658-41be-92f5-6d1ee07f49c0",
      "metadata": {
        "id": "2dc1c27b-7658-41be-92f5-6d1ee07f49c0"
      },
      "source": [
        "It's good to understand the size of the dataset we are dealing with.  The `shape` property does this for us."
      ]
    },
    {
      "cell_type": "code",
      "execution_count": null,
      "id": "9e7f1cf1-4e79-4cdd-a6b8-0a41c16cb153",
      "metadata": {
        "id": "9e7f1cf1-4e79-4cdd-a6b8-0a41c16cb153",
        "colab": {
          "base_uri": "https://localhost:8080/"
        },
        "outputId": "b78baabb-71bb-4049-f3bd-d9fa2c4267d5"
      },
      "outputs": [
        {
          "output_type": "execute_result",
          "data": {
            "text/plain": [
              "(23444, 17)"
            ]
          },
          "metadata": {},
          "execution_count": 30
        }
      ],
      "source": [
        "# Get the number of rows and columns\n",
        "trees.shape"
      ]
    },
    {
      "cell_type": "markdown",
      "id": "d499f569-4200-48e9-b0a5-b84fc72a228a",
      "metadata": {
        "id": "d499f569-4200-48e9-b0a5-b84fc72a228a"
      },
      "source": [
        "If there are lots of columns we can't always see all of them in the `head()` list above.  We can use the `columns` property to get a full list:"
      ]
    },
    {
      "cell_type": "code",
      "execution_count": null,
      "id": "be4badda-f1c9-481c-a274-8251330cbc5a",
      "metadata": {
        "id": "be4badda-f1c9-481c-a274-8251330cbc5a",
        "colab": {
          "base_uri": "https://localhost:8080/"
        },
        "outputId": "2fe8b0ca-594f-456b-c810-83e74078a5b2"
      },
      "outputs": [
        {
          "output_type": "execute_result",
          "data": {
            "text/plain": [
              "Index(['Identifier', 'Number Of Trees', 'Site Name', 'Contract Area',\n",
              "       'Scientific Name', 'Inspection Date', 'Inspection Due Date',\n",
              "       'Height In Metres', 'Spread In Metres',\n",
              "       'Diameter In Centimetres At Breast Height', 'Ward Code', 'Ward Name',\n",
              "       'Easting', 'Northing', 'Longitude', 'Latitude', 'Location'],\n",
              "      dtype='object')"
            ]
          },
          "metadata": {},
          "execution_count": 20
        }
      ],
      "source": [
        "# Get a list of all the columns in the dataframe\n",
        "trees.columns"
      ]
    },
    {
      "cell_type": "markdown",
      "id": "7b184dfb-0498-43c0-afa7-9d4be449863a",
      "metadata": {
        "id": "7b184dfb-0498-43c0-afa7-9d4be449863a"
      },
      "source": [
        "In order to process the data properly, we should understand the data type for each column.  Pandas attempts to work this out for us, but sometimes we need to give it a bit of a hand.  We can use the `dtypes` property to list the data types.  Note that `object` is Pandas way of saying `string`, i.e. a text data type."
      ]
    },
    {
      "cell_type": "code",
      "execution_count": null,
      "id": "f5b603ef-9ce1-4667-a672-5a86fe9daf1a",
      "metadata": {
        "id": "f5b603ef-9ce1-4667-a672-5a86fe9daf1a",
        "colab": {
          "base_uri": "https://localhost:8080/"
        },
        "outputId": "85861a17-69e4-4d94-eb1c-91aced5fa41c"
      },
      "outputs": [
        {
          "output_type": "execute_result",
          "data": {
            "text/plain": [
              "Identifier                                          object\n",
              "Number Of Trees                                    float64\n",
              "Site Name                                           object\n",
              "Contract Area                                       object\n",
              "Scientific Name                                     object\n",
              "Inspection Date                             datetime64[ns]\n",
              "Inspection Due Date                                 object\n",
              "Height In Metres                                   float64\n",
              "Spread In Metres                                   float64\n",
              "Diameter In Centimetres At Breast Height           float64\n",
              "Ward Code                                           object\n",
              "Ward Name                                           object\n",
              "Easting                                            float64\n",
              "Northing                                           float64\n",
              "Longitude                                          float64\n",
              "Latitude                                           float64\n",
              "Location                                            object\n",
              "dtype: object"
            ]
          },
          "metadata": {},
          "execution_count": 11
        }
      ],
      "source": [
        "# List the data types of each column\n",
        "trees.dtypes"
      ]
    },
    {
      "cell_type": "markdown",
      "id": "722d9b40-5f9c-4362-9b46-b052b2449898",
      "metadata": {
        "id": "722d9b40-5f9c-4362-9b46-b052b2449898"
      },
      "source": [
        "### 2.2 Environmental\n",
        "The file `\"camden_trees_environmental.csv\"` is a csv file.  Use the appropriate function to load it into a Pandas DataFrame."
      ]
    },
    {
      "cell_type": "markdown",
      "id": "5585e3b9-4c1c-436e-a34f-f8f19a0cbd02",
      "metadata": {
        "id": "5585e3b9-4c1c-436e-a34f-f8f19a0cbd02"
      },
      "source": [
        "<div style=\"background-color:lemonchiffon; border:1px solid; padding:5px; margin:5px; font-weight:bold\"><font color=\"crimson\">\n",
        "TODO: Complete the following code cells\n",
        "    </font></div>"
      ]
    },
    {
      "cell_type": "code",
      "execution_count": 3,
      "id": "a12780eb-bcb5-4955-bc9b-28439ee81d22",
      "metadata": {
        "id": "a12780eb-bcb5-4955-bc9b-28439ee81d22"
      },
      "outputs": [],
      "source": [
        "# Create a Pandas dataframe called trees that contains the contents of the csv file\n",
        "# TODO\n",
        "camden_trees_environmental = pd.read_csv(\"camden_trees_environmental.csv\")"
      ]
    },
    {
      "cell_type": "code",
      "execution_count": null,
      "id": "4d6e254d-a3df-4004-b262-004923fdbf9a",
      "metadata": {
        "id": "4d6e254d-a3df-4004-b262-004923fdbf9a",
        "colab": {
          "base_uri": "https://localhost:8080/",
          "height": 320
        },
        "outputId": "25b596d3-fae8-4937-d324-6ca7bd897f2f"
      },
      "outputs": [
        {
          "output_type": "execute_result",
          "data": {
            "text/plain": [
              "  Identifier     Maturity Physiological Condition Tree Set To Be Removed  \\\n",
              "0   00055125     Juvenile                    Good                     No   \n",
              "1   00059429  Middle aged                    Fair                     No   \n",
              "2   00018254       Mature                    Fair                     No   \n",
              "3   00027155       Mature                    Fair                     No   \n",
              "4   00041326     Juvenile                    Good                     No   \n",
              "\n",
              "  Removal Reason  Capital Asset Value For Amenity Trees  \\\n",
              "0            NaN                                 115.07   \n",
              "1            NaN                                7518.08   \n",
              "2            NaN                               20419.63   \n",
              "3            NaN                               21447.74   \n",
              "4            NaN                                 524.30   \n",
              "\n",
              "   Carbon Storage In Kilograms  \\\n",
              "0                          1.6   \n",
              "1                          NaN   \n",
              "2                        426.4   \n",
              "3                        448.3   \n",
              "4                          9.9   \n",
              "\n",
              "   Gross Carbon Sequestration Per Year In Kilograms  \\\n",
              "0                                               0.5   \n",
              "1                                               NaN   \n",
              "2                                               8.8   \n",
              "3                                               9.6   \n",
              "4                                               1.4   \n",
              "\n",
              "   Pollution Removal Per Year In Grams  \n",
              "0                                  5.7  \n",
              "1                                  NaN  \n",
              "2                                215.2  \n",
              "3                                379.1  \n",
              "4                                 12.8  "
            ],
            "text/html": [
              "\n",
              "  <div id=\"df-28185509-1a92-462b-91bb-d435333c17f2\">\n",
              "    <div class=\"colab-df-container\">\n",
              "      <div>\n",
              "<style scoped>\n",
              "    .dataframe tbody tr th:only-of-type {\n",
              "        vertical-align: middle;\n",
              "    }\n",
              "\n",
              "    .dataframe tbody tr th {\n",
              "        vertical-align: top;\n",
              "    }\n",
              "\n",
              "    .dataframe thead th {\n",
              "        text-align: right;\n",
              "    }\n",
              "</style>\n",
              "<table border=\"1\" class=\"dataframe\">\n",
              "  <thead>\n",
              "    <tr style=\"text-align: right;\">\n",
              "      <th></th>\n",
              "      <th>Identifier</th>\n",
              "      <th>Maturity</th>\n",
              "      <th>Physiological Condition</th>\n",
              "      <th>Tree Set To Be Removed</th>\n",
              "      <th>Removal Reason</th>\n",
              "      <th>Capital Asset Value For Amenity Trees</th>\n",
              "      <th>Carbon Storage In Kilograms</th>\n",
              "      <th>Gross Carbon Sequestration Per Year In Kilograms</th>\n",
              "      <th>Pollution Removal Per Year In Grams</th>\n",
              "    </tr>\n",
              "  </thead>\n",
              "  <tbody>\n",
              "    <tr>\n",
              "      <th>0</th>\n",
              "      <td>00055125</td>\n",
              "      <td>Juvenile</td>\n",
              "      <td>Good</td>\n",
              "      <td>No</td>\n",
              "      <td>NaN</td>\n",
              "      <td>115.07</td>\n",
              "      <td>1.6</td>\n",
              "      <td>0.5</td>\n",
              "      <td>5.7</td>\n",
              "    </tr>\n",
              "    <tr>\n",
              "      <th>1</th>\n",
              "      <td>00059429</td>\n",
              "      <td>Middle aged</td>\n",
              "      <td>Fair</td>\n",
              "      <td>No</td>\n",
              "      <td>NaN</td>\n",
              "      <td>7518.08</td>\n",
              "      <td>NaN</td>\n",
              "      <td>NaN</td>\n",
              "      <td>NaN</td>\n",
              "    </tr>\n",
              "    <tr>\n",
              "      <th>2</th>\n",
              "      <td>00018254</td>\n",
              "      <td>Mature</td>\n",
              "      <td>Fair</td>\n",
              "      <td>No</td>\n",
              "      <td>NaN</td>\n",
              "      <td>20419.63</td>\n",
              "      <td>426.4</td>\n",
              "      <td>8.8</td>\n",
              "      <td>215.2</td>\n",
              "    </tr>\n",
              "    <tr>\n",
              "      <th>3</th>\n",
              "      <td>00027155</td>\n",
              "      <td>Mature</td>\n",
              "      <td>Fair</td>\n",
              "      <td>No</td>\n",
              "      <td>NaN</td>\n",
              "      <td>21447.74</td>\n",
              "      <td>448.3</td>\n",
              "      <td>9.6</td>\n",
              "      <td>379.1</td>\n",
              "    </tr>\n",
              "    <tr>\n",
              "      <th>4</th>\n",
              "      <td>00041326</td>\n",
              "      <td>Juvenile</td>\n",
              "      <td>Good</td>\n",
              "      <td>No</td>\n",
              "      <td>NaN</td>\n",
              "      <td>524.30</td>\n",
              "      <td>9.9</td>\n",
              "      <td>1.4</td>\n",
              "      <td>12.8</td>\n",
              "    </tr>\n",
              "  </tbody>\n",
              "</table>\n",
              "</div>\n",
              "      <button class=\"colab-df-convert\" onclick=\"convertToInteractive('df-28185509-1a92-462b-91bb-d435333c17f2')\"\n",
              "              title=\"Convert this dataframe to an interactive table.\"\n",
              "              style=\"display:none;\">\n",
              "        \n",
              "  <svg xmlns=\"http://www.w3.org/2000/svg\" height=\"24px\"viewBox=\"0 0 24 24\"\n",
              "       width=\"24px\">\n",
              "    <path d=\"M0 0h24v24H0V0z\" fill=\"none\"/>\n",
              "    <path d=\"M18.56 5.44l.94 2.06.94-2.06 2.06-.94-2.06-.94-.94-2.06-.94 2.06-2.06.94zm-11 1L8.5 8.5l.94-2.06 2.06-.94-2.06-.94L8.5 2.5l-.94 2.06-2.06.94zm10 10l.94 2.06.94-2.06 2.06-.94-2.06-.94-.94-2.06-.94 2.06-2.06.94z\"/><path d=\"M17.41 7.96l-1.37-1.37c-.4-.4-.92-.59-1.43-.59-.52 0-1.04.2-1.43.59L10.3 9.45l-7.72 7.72c-.78.78-.78 2.05 0 2.83L4 21.41c.39.39.9.59 1.41.59.51 0 1.02-.2 1.41-.59l7.78-7.78 2.81-2.81c.8-.78.8-2.07 0-2.86zM5.41 20L4 18.59l7.72-7.72 1.47 1.35L5.41 20z\"/>\n",
              "  </svg>\n",
              "      </button>\n",
              "      \n",
              "  <style>\n",
              "    .colab-df-container {\n",
              "      display:flex;\n",
              "      flex-wrap:wrap;\n",
              "      gap: 12px;\n",
              "    }\n",
              "\n",
              "    .colab-df-convert {\n",
              "      background-color: #E8F0FE;\n",
              "      border: none;\n",
              "      border-radius: 50%;\n",
              "      cursor: pointer;\n",
              "      display: none;\n",
              "      fill: #1967D2;\n",
              "      height: 32px;\n",
              "      padding: 0 0 0 0;\n",
              "      width: 32px;\n",
              "    }\n",
              "\n",
              "    .colab-df-convert:hover {\n",
              "      background-color: #E2EBFA;\n",
              "      box-shadow: 0px 1px 2px rgba(60, 64, 67, 0.3), 0px 1px 3px 1px rgba(60, 64, 67, 0.15);\n",
              "      fill: #174EA6;\n",
              "    }\n",
              "\n",
              "    [theme=dark] .colab-df-convert {\n",
              "      background-color: #3B4455;\n",
              "      fill: #D2E3FC;\n",
              "    }\n",
              "\n",
              "    [theme=dark] .colab-df-convert:hover {\n",
              "      background-color: #434B5C;\n",
              "      box-shadow: 0px 1px 3px 1px rgba(0, 0, 0, 0.15);\n",
              "      filter: drop-shadow(0px 1px 2px rgba(0, 0, 0, 0.3));\n",
              "      fill: #FFFFFF;\n",
              "    }\n",
              "  </style>\n",
              "\n",
              "      <script>\n",
              "        const buttonEl =\n",
              "          document.querySelector('#df-28185509-1a92-462b-91bb-d435333c17f2 button.colab-df-convert');\n",
              "        buttonEl.style.display =\n",
              "          google.colab.kernel.accessAllowed ? 'block' : 'none';\n",
              "\n",
              "        async function convertToInteractive(key) {\n",
              "          const element = document.querySelector('#df-28185509-1a92-462b-91bb-d435333c17f2');\n",
              "          const dataTable =\n",
              "            await google.colab.kernel.invokeFunction('convertToInteractive',\n",
              "                                                     [key], {});\n",
              "          if (!dataTable) return;\n",
              "\n",
              "          const docLinkHtml = 'Like what you see? Visit the ' +\n",
              "            '<a target=\"_blank\" href=https://colab.research.google.com/notebooks/data_table.ipynb>data table notebook</a>'\n",
              "            + ' to learn more about interactive tables.';\n",
              "          element.innerHTML = '';\n",
              "          dataTable['output_type'] = 'display_data';\n",
              "          await google.colab.output.renderOutput(dataTable, element);\n",
              "          const docLink = document.createElement('div');\n",
              "          docLink.innerHTML = docLinkHtml;\n",
              "          element.appendChild(docLink);\n",
              "        }\n",
              "      </script>\n",
              "    </div>\n",
              "  </div>\n",
              "  "
            ]
          },
          "metadata": {},
          "execution_count": 16
        }
      ],
      "source": [
        "# Display the first few rows\n",
        "# TODO\n",
        "camden_trees_environmental.head()"
      ]
    },
    {
      "cell_type": "code",
      "execution_count": null,
      "id": "66c23391-628f-4612-936b-7f55c561fd1b",
      "metadata": {
        "id": "66c23391-628f-4612-936b-7f55c561fd1b",
        "colab": {
          "base_uri": "https://localhost:8080/"
        },
        "outputId": "7160453b-7578-42a9-aaeb-ad24bbb47c57"
      },
      "outputs": [
        {
          "output_type": "execute_result",
          "data": {
            "text/plain": [
              "(23415, 9)"
            ]
          },
          "metadata": {},
          "execution_count": 14
        }
      ],
      "source": [
        "# Get the number of rows and columns\n",
        "# TODO\n",
        "camden_trees_environmental.shape"
      ]
    },
    {
      "cell_type": "code",
      "execution_count": null,
      "id": "2ccce95e-0aec-4b3b-a961-5356606c2d60",
      "metadata": {
        "id": "2ccce95e-0aec-4b3b-a961-5356606c2d60",
        "colab": {
          "base_uri": "https://localhost:8080/"
        },
        "outputId": "1f5aaac3-38f2-4b32-a85d-0720ac659d98"
      },
      "outputs": [
        {
          "output_type": "execute_result",
          "data": {
            "text/plain": [
              "Index(['Identifier', 'Maturity', 'Physiological Condition',\n",
              "       'Tree Set To Be Removed', 'Removal Reason',\n",
              "       'Capital Asset Value For Amenity Trees', 'Carbon Storage In Kilograms',\n",
              "       'Gross Carbon Sequestration Per Year In Kilograms',\n",
              "       'Pollution Removal Per Year In Grams'],\n",
              "      dtype='object')"
            ]
          },
          "metadata": {},
          "execution_count": 16
        }
      ],
      "source": [
        "# Get a list of all the columns in the dataframe\n",
        "# TODO\n",
        "camden_trees_environmental.columns"
      ]
    },
    {
      "cell_type": "code",
      "execution_count": null,
      "id": "b32a0236-40fc-44d8-a0b1-d2afb3baba19",
      "metadata": {
        "id": "b32a0236-40fc-44d8-a0b1-d2afb3baba19",
        "colab": {
          "base_uri": "https://localhost:8080/"
        },
        "outputId": "9e895496-2e47-48cc-bcda-016723024b50"
      },
      "outputs": [
        {
          "output_type": "execute_result",
          "data": {
            "text/plain": [
              "Identifier                                           object\n",
              "Maturity                                             object\n",
              "Physiological Condition                              object\n",
              "Tree Set To Be Removed                               object\n",
              "Removal Reason                                       object\n",
              "Capital Asset Value For Amenity Trees               float64\n",
              "Carbon Storage In Kilograms                         float64\n",
              "Gross Carbon Sequestration Per Year In Kilograms    float64\n",
              "Pollution Removal Per Year In Grams                 float64\n",
              "dtype: object"
            ]
          },
          "metadata": {},
          "execution_count": 17
        }
      ],
      "source": [
        "# List the data types of each column\n",
        "# TODO\n",
        "camden_trees_environmental.dtypes"
      ]
    },
    {
      "cell_type": "markdown",
      "id": "35e2a8fe-944e-4ef0-b944-0a536f699455",
      "metadata": {
        "id": "35e2a8fe-944e-4ef0-b944-0a536f699455"
      },
      "source": [
        "<hr/>"
      ]
    },
    {
      "cell_type": "markdown",
      "id": "faa2e5f5-67d8-4382-bad0-549486826c3a",
      "metadata": {
        "id": "faa2e5f5-67d8-4382-bad0-549486826c3a"
      },
      "source": [
        "### 2.3 Common and Scientific Names\n",
        "The file `\"tree_common_names.json\"` is a json file.  Use the appropriate function to load it into a Pandas DataFrame."
      ]
    },
    {
      "cell_type": "markdown",
      "id": "c60ddc1e-1bc2-498b-83c8-296e182a5048",
      "metadata": {
        "id": "c60ddc1e-1bc2-498b-83c8-296e182a5048"
      },
      "source": [
        "<div style=\"background-color:lemonchiffon; border:1px solid; padding:5px; margin:5px; font-weight:bold\"><font color=\"crimson\">\n",
        "TODO: Complete the following code cells\n",
        "    </font></div>"
      ]
    },
    {
      "cell_type": "code",
      "execution_count": 4,
      "id": "9d3eef7b-123a-4e3d-8d19-5808becb2d35",
      "metadata": {
        "id": "9d3eef7b-123a-4e3d-8d19-5808becb2d35"
      },
      "outputs": [],
      "source": [
        "# Create a Pandas dataframe called trees that contains the contents of the json file\n",
        "# TODO\n",
        "tree_common_names = pd.read_json(\"tree_common_names.json\")"
      ]
    },
    {
      "cell_type": "code",
      "source": [
        "url=\"https://s3.eu-west-1.amazonaws.com/course.oc-static.com/projects/DAN_UK_App_P3/tree_common_names.json\"\n",
        "tree_common_names = pd.read_json(url)\n",
        "tree_common_names.head()"
      ],
      "metadata": {
        "colab": {
          "base_uri": "https://localhost:8080/",
          "height": 206
        },
        "id": "91_ljUi9c-ON",
        "outputId": "01eac039-56ab-47b1-8d00-4a3927ea9d28"
      },
      "id": "91_ljUi9c-ON",
      "execution_count": null,
      "outputs": [
        {
          "output_type": "execute_result",
          "data": {
            "text/plain": [
              "              Scientific Name          Common Name\n",
              "0      Carpinus betulus Lucas  Hornbeam - European\n",
              "1            Prunus 'Pandora'  Cherry - Ornamental\n",
              "2  Tilia unidentified species                 Lime\n",
              "3   Rosa unidentified species                 None\n",
              "4               Cedrus libani     Cedar of Lebanon"
            ],
            "text/html": [
              "\n",
              "  <div id=\"df-eec9c40b-42b5-4fd5-be27-715c123a2a6b\">\n",
              "    <div class=\"colab-df-container\">\n",
              "      <div>\n",
              "<style scoped>\n",
              "    .dataframe tbody tr th:only-of-type {\n",
              "        vertical-align: middle;\n",
              "    }\n",
              "\n",
              "    .dataframe tbody tr th {\n",
              "        vertical-align: top;\n",
              "    }\n",
              "\n",
              "    .dataframe thead th {\n",
              "        text-align: right;\n",
              "    }\n",
              "</style>\n",
              "<table border=\"1\" class=\"dataframe\">\n",
              "  <thead>\n",
              "    <tr style=\"text-align: right;\">\n",
              "      <th></th>\n",
              "      <th>Scientific Name</th>\n",
              "      <th>Common Name</th>\n",
              "    </tr>\n",
              "  </thead>\n",
              "  <tbody>\n",
              "    <tr>\n",
              "      <th>0</th>\n",
              "      <td>Carpinus betulus Lucas</td>\n",
              "      <td>Hornbeam - European</td>\n",
              "    </tr>\n",
              "    <tr>\n",
              "      <th>1</th>\n",
              "      <td>Prunus 'Pandora'</td>\n",
              "      <td>Cherry - Ornamental</td>\n",
              "    </tr>\n",
              "    <tr>\n",
              "      <th>2</th>\n",
              "      <td>Tilia unidentified species</td>\n",
              "      <td>Lime</td>\n",
              "    </tr>\n",
              "    <tr>\n",
              "      <th>3</th>\n",
              "      <td>Rosa unidentified species</td>\n",
              "      <td>None</td>\n",
              "    </tr>\n",
              "    <tr>\n",
              "      <th>4</th>\n",
              "      <td>Cedrus libani</td>\n",
              "      <td>Cedar of Lebanon</td>\n",
              "    </tr>\n",
              "  </tbody>\n",
              "</table>\n",
              "</div>\n",
              "      <button class=\"colab-df-convert\" onclick=\"convertToInteractive('df-eec9c40b-42b5-4fd5-be27-715c123a2a6b')\"\n",
              "              title=\"Convert this dataframe to an interactive table.\"\n",
              "              style=\"display:none;\">\n",
              "        \n",
              "  <svg xmlns=\"http://www.w3.org/2000/svg\" height=\"24px\"viewBox=\"0 0 24 24\"\n",
              "       width=\"24px\">\n",
              "    <path d=\"M0 0h24v24H0V0z\" fill=\"none\"/>\n",
              "    <path d=\"M18.56 5.44l.94 2.06.94-2.06 2.06-.94-2.06-.94-.94-2.06-.94 2.06-2.06.94zm-11 1L8.5 8.5l.94-2.06 2.06-.94-2.06-.94L8.5 2.5l-.94 2.06-2.06.94zm10 10l.94 2.06.94-2.06 2.06-.94-2.06-.94-.94-2.06-.94 2.06-2.06.94z\"/><path d=\"M17.41 7.96l-1.37-1.37c-.4-.4-.92-.59-1.43-.59-.52 0-1.04.2-1.43.59L10.3 9.45l-7.72 7.72c-.78.78-.78 2.05 0 2.83L4 21.41c.39.39.9.59 1.41.59.51 0 1.02-.2 1.41-.59l7.78-7.78 2.81-2.81c.8-.78.8-2.07 0-2.86zM5.41 20L4 18.59l7.72-7.72 1.47 1.35L5.41 20z\"/>\n",
              "  </svg>\n",
              "      </button>\n",
              "      \n",
              "  <style>\n",
              "    .colab-df-container {\n",
              "      display:flex;\n",
              "      flex-wrap:wrap;\n",
              "      gap: 12px;\n",
              "    }\n",
              "\n",
              "    .colab-df-convert {\n",
              "      background-color: #E8F0FE;\n",
              "      border: none;\n",
              "      border-radius: 50%;\n",
              "      cursor: pointer;\n",
              "      display: none;\n",
              "      fill: #1967D2;\n",
              "      height: 32px;\n",
              "      padding: 0 0 0 0;\n",
              "      width: 32px;\n",
              "    }\n",
              "\n",
              "    .colab-df-convert:hover {\n",
              "      background-color: #E2EBFA;\n",
              "      box-shadow: 0px 1px 2px rgba(60, 64, 67, 0.3), 0px 1px 3px 1px rgba(60, 64, 67, 0.15);\n",
              "      fill: #174EA6;\n",
              "    }\n",
              "\n",
              "    [theme=dark] .colab-df-convert {\n",
              "      background-color: #3B4455;\n",
              "      fill: #D2E3FC;\n",
              "    }\n",
              "\n",
              "    [theme=dark] .colab-df-convert:hover {\n",
              "      background-color: #434B5C;\n",
              "      box-shadow: 0px 1px 3px 1px rgba(0, 0, 0, 0.15);\n",
              "      filter: drop-shadow(0px 1px 2px rgba(0, 0, 0, 0.3));\n",
              "      fill: #FFFFFF;\n",
              "    }\n",
              "  </style>\n",
              "\n",
              "      <script>\n",
              "        const buttonEl =\n",
              "          document.querySelector('#df-eec9c40b-42b5-4fd5-be27-715c123a2a6b button.colab-df-convert');\n",
              "        buttonEl.style.display =\n",
              "          google.colab.kernel.accessAllowed ? 'block' : 'none';\n",
              "\n",
              "        async function convertToInteractive(key) {\n",
              "          const element = document.querySelector('#df-eec9c40b-42b5-4fd5-be27-715c123a2a6b');\n",
              "          const dataTable =\n",
              "            await google.colab.kernel.invokeFunction('convertToInteractive',\n",
              "                                                     [key], {});\n",
              "          if (!dataTable) return;\n",
              "\n",
              "          const docLinkHtml = 'Like what you see? Visit the ' +\n",
              "            '<a target=\"_blank\" href=https://colab.research.google.com/notebooks/data_table.ipynb>data table notebook</a>'\n",
              "            + ' to learn more about interactive tables.';\n",
              "          element.innerHTML = '';\n",
              "          dataTable['output_type'] = 'display_data';\n",
              "          await google.colab.output.renderOutput(dataTable, element);\n",
              "          const docLink = document.createElement('div');\n",
              "          docLink.innerHTML = docLinkHtml;\n",
              "          element.appendChild(docLink);\n",
              "        }\n",
              "      </script>\n",
              "    </div>\n",
              "  </div>\n",
              "  "
            ]
          },
          "metadata": {},
          "execution_count": 39
        }
      ]
    },
    {
      "cell_type": "code",
      "execution_count": null,
      "id": "5d05c25c-b462-481b-b8ca-485f4b5a6cec",
      "metadata": {
        "id": "5d05c25c-b462-481b-b8ca-485f4b5a6cec",
        "colab": {
          "base_uri": "https://localhost:8080/",
          "height": 206
        },
        "outputId": "7b9abaf7-61a8-45cb-eb38-9e910ea4ee03"
      },
      "outputs": [
        {
          "output_type": "execute_result",
          "data": {
            "text/plain": [
              "              Scientific Name          Common Name\n",
              "0      Carpinus betulus Lucas  Hornbeam - European\n",
              "1            Prunus 'Pandora'  Cherry - Ornamental\n",
              "2  Tilia unidentified species                 Lime\n",
              "3   Rosa unidentified species                 None\n",
              "4               Cedrus libani     Cedar of Lebanon"
            ],
            "text/html": [
              "\n",
              "  <div id=\"df-f4fd136f-2fd9-4fdd-a0d8-764387943e85\">\n",
              "    <div class=\"colab-df-container\">\n",
              "      <div>\n",
              "<style scoped>\n",
              "    .dataframe tbody tr th:only-of-type {\n",
              "        vertical-align: middle;\n",
              "    }\n",
              "\n",
              "    .dataframe tbody tr th {\n",
              "        vertical-align: top;\n",
              "    }\n",
              "\n",
              "    .dataframe thead th {\n",
              "        text-align: right;\n",
              "    }\n",
              "</style>\n",
              "<table border=\"1\" class=\"dataframe\">\n",
              "  <thead>\n",
              "    <tr style=\"text-align: right;\">\n",
              "      <th></th>\n",
              "      <th>Scientific Name</th>\n",
              "      <th>Common Name</th>\n",
              "    </tr>\n",
              "  </thead>\n",
              "  <tbody>\n",
              "    <tr>\n",
              "      <th>0</th>\n",
              "      <td>Carpinus betulus Lucas</td>\n",
              "      <td>Hornbeam - European</td>\n",
              "    </tr>\n",
              "    <tr>\n",
              "      <th>1</th>\n",
              "      <td>Prunus 'Pandora'</td>\n",
              "      <td>Cherry - Ornamental</td>\n",
              "    </tr>\n",
              "    <tr>\n",
              "      <th>2</th>\n",
              "      <td>Tilia unidentified species</td>\n",
              "      <td>Lime</td>\n",
              "    </tr>\n",
              "    <tr>\n",
              "      <th>3</th>\n",
              "      <td>Rosa unidentified species</td>\n",
              "      <td>None</td>\n",
              "    </tr>\n",
              "    <tr>\n",
              "      <th>4</th>\n",
              "      <td>Cedrus libani</td>\n",
              "      <td>Cedar of Lebanon</td>\n",
              "    </tr>\n",
              "  </tbody>\n",
              "</table>\n",
              "</div>\n",
              "      <button class=\"colab-df-convert\" onclick=\"convertToInteractive('df-f4fd136f-2fd9-4fdd-a0d8-764387943e85')\"\n",
              "              title=\"Convert this dataframe to an interactive table.\"\n",
              "              style=\"display:none;\">\n",
              "        \n",
              "  <svg xmlns=\"http://www.w3.org/2000/svg\" height=\"24px\"viewBox=\"0 0 24 24\"\n",
              "       width=\"24px\">\n",
              "    <path d=\"M0 0h24v24H0V0z\" fill=\"none\"/>\n",
              "    <path d=\"M18.56 5.44l.94 2.06.94-2.06 2.06-.94-2.06-.94-.94-2.06-.94 2.06-2.06.94zm-11 1L8.5 8.5l.94-2.06 2.06-.94-2.06-.94L8.5 2.5l-.94 2.06-2.06.94zm10 10l.94 2.06.94-2.06 2.06-.94-2.06-.94-.94-2.06-.94 2.06-2.06.94z\"/><path d=\"M17.41 7.96l-1.37-1.37c-.4-.4-.92-.59-1.43-.59-.52 0-1.04.2-1.43.59L10.3 9.45l-7.72 7.72c-.78.78-.78 2.05 0 2.83L4 21.41c.39.39.9.59 1.41.59.51 0 1.02-.2 1.41-.59l7.78-7.78 2.81-2.81c.8-.78.8-2.07 0-2.86zM5.41 20L4 18.59l7.72-7.72 1.47 1.35L5.41 20z\"/>\n",
              "  </svg>\n",
              "      </button>\n",
              "      \n",
              "  <style>\n",
              "    .colab-df-container {\n",
              "      display:flex;\n",
              "      flex-wrap:wrap;\n",
              "      gap: 12px;\n",
              "    }\n",
              "\n",
              "    .colab-df-convert {\n",
              "      background-color: #E8F0FE;\n",
              "      border: none;\n",
              "      border-radius: 50%;\n",
              "      cursor: pointer;\n",
              "      display: none;\n",
              "      fill: #1967D2;\n",
              "      height: 32px;\n",
              "      padding: 0 0 0 0;\n",
              "      width: 32px;\n",
              "    }\n",
              "\n",
              "    .colab-df-convert:hover {\n",
              "      background-color: #E2EBFA;\n",
              "      box-shadow: 0px 1px 2px rgba(60, 64, 67, 0.3), 0px 1px 3px 1px rgba(60, 64, 67, 0.15);\n",
              "      fill: #174EA6;\n",
              "    }\n",
              "\n",
              "    [theme=dark] .colab-df-convert {\n",
              "      background-color: #3B4455;\n",
              "      fill: #D2E3FC;\n",
              "    }\n",
              "\n",
              "    [theme=dark] .colab-df-convert:hover {\n",
              "      background-color: #434B5C;\n",
              "      box-shadow: 0px 1px 3px 1px rgba(0, 0, 0, 0.15);\n",
              "      filter: drop-shadow(0px 1px 2px rgba(0, 0, 0, 0.3));\n",
              "      fill: #FFFFFF;\n",
              "    }\n",
              "  </style>\n",
              "\n",
              "      <script>\n",
              "        const buttonEl =\n",
              "          document.querySelector('#df-f4fd136f-2fd9-4fdd-a0d8-764387943e85 button.colab-df-convert');\n",
              "        buttonEl.style.display =\n",
              "          google.colab.kernel.accessAllowed ? 'block' : 'none';\n",
              "\n",
              "        async function convertToInteractive(key) {\n",
              "          const element = document.querySelector('#df-f4fd136f-2fd9-4fdd-a0d8-764387943e85');\n",
              "          const dataTable =\n",
              "            await google.colab.kernel.invokeFunction('convertToInteractive',\n",
              "                                                     [key], {});\n",
              "          if (!dataTable) return;\n",
              "\n",
              "          const docLinkHtml = 'Like what you see? Visit the ' +\n",
              "            '<a target=\"_blank\" href=https://colab.research.google.com/notebooks/data_table.ipynb>data table notebook</a>'\n",
              "            + ' to learn more about interactive tables.';\n",
              "          element.innerHTML = '';\n",
              "          dataTable['output_type'] = 'display_data';\n",
              "          await google.colab.output.renderOutput(dataTable, element);\n",
              "          const docLink = document.createElement('div');\n",
              "          docLink.innerHTML = docLinkHtml;\n",
              "          element.appendChild(docLink);\n",
              "        }\n",
              "      </script>\n",
              "    </div>\n",
              "  </div>\n",
              "  "
            ]
          },
          "metadata": {},
          "execution_count": 19
        }
      ],
      "source": [
        "# Display the first few rows\n",
        "# TODO\n",
        "tree_common_names.head()"
      ]
    },
    {
      "cell_type": "code",
      "execution_count": null,
      "id": "d6b7cc1e-1ec9-4a5e-a526-23143c0702f7",
      "metadata": {
        "id": "d6b7cc1e-1ec9-4a5e-a526-23143c0702f7",
        "colab": {
          "base_uri": "https://localhost:8080/"
        },
        "outputId": "f40637d7-5542-48f8-d806-2ce263db58f2"
      },
      "outputs": [
        {
          "output_type": "execute_result",
          "data": {
            "text/plain": [
              "(589, 2)"
            ]
          },
          "metadata": {},
          "execution_count": 12
        }
      ],
      "source": [
        "# Get the number of rows and columns\n",
        "# TODO\n",
        "tree_common_names.shape"
      ]
    },
    {
      "cell_type": "code",
      "execution_count": null,
      "id": "f349e0ba-c2d0-469b-9f16-530394e85446",
      "metadata": {
        "id": "f349e0ba-c2d0-469b-9f16-530394e85446",
        "colab": {
          "base_uri": "https://localhost:8080/"
        },
        "outputId": "3a19dd83-5b92-46a4-dea1-7c86ea9aa393"
      },
      "outputs": [
        {
          "output_type": "execute_result",
          "data": {
            "text/plain": [
              "Index(['Scientific Name', 'Common Name'], dtype='object')"
            ]
          },
          "metadata": {},
          "execution_count": 21
        }
      ],
      "source": [
        "# Get a list of all the columns in the dataframe\n",
        "# TODO\n",
        "tree_common_names.columns"
      ]
    },
    {
      "cell_type": "code",
      "execution_count": null,
      "id": "aa722c8d-db42-4d95-85cc-eb3d87bcdc5a",
      "metadata": {
        "id": "aa722c8d-db42-4d95-85cc-eb3d87bcdc5a",
        "colab": {
          "base_uri": "https://localhost:8080/"
        },
        "outputId": "0506e1b8-19df-41e2-ccb5-3e34ba780ae8"
      },
      "outputs": [
        {
          "output_type": "execute_result",
          "data": {
            "text/plain": [
              "Scientific Name    object\n",
              "Common Name        object\n",
              "dtype: object"
            ]
          },
          "metadata": {},
          "execution_count": 22
        }
      ],
      "source": [
        "# List the data types of each column\n",
        "# TODO\n",
        "tree_common_names.dtypes"
      ]
    },
    {
      "cell_type": "markdown",
      "id": "17473375-5a50-4709-9d87-8ba11c738dc9",
      "metadata": {
        "id": "17473375-5a50-4709-9d87-8ba11c738dc9"
      },
      "source": [
        "<hr/>"
      ]
    },
    {
      "cell_type": "markdown",
      "id": "5034de69-86fd-4332-9fbd-9ce160540ded",
      "metadata": {
        "id": "5034de69-86fd-4332-9fbd-9ce160540ded"
      },
      "source": [
        "### 2.4 Review\n",
        "At the end of this task you should have a good basic understanding of the contents and overall shape of the different data files.  If you don't, do back and review the outputs above."
      ]
    },
    {
      "cell_type": "markdown",
      "id": "0ba2d5d3-ad1e-4961-a2c6-c6ecd1bcc9e0",
      "metadata": {
        "tags": [],
        "id": "0ba2d5d3-ad1e-4961-a2c6-c6ecd1bcc9e0"
      },
      "source": [
        "## Task 3: Further Inspect the Datasets\n",
        "The initial inspection gave you a very high-level understanding of the data.  We will now drill a bit deeper and try to understand the data column-by-column.\n",
        "\n",
        "For columns with a string data type (`object` in Pandas) we have **qualitative** data.  It would be good to know how many *different* values we have in the column, what those values are and the *count* how many of each different value we have.  This will help us understand if the qualitative variable is **binary**, **nominal** or **ordinal**.\n",
        "\n",
        "For columns with a numeric data type (`int` or `float`) we have **quantitative** data.  Usually integer type variables can the thought of as **discrete** and float type variables can be thought of as **continuous**.  It would be good to know some summary descriptive statistics for these columns.   \n",
        "\n",
        "If you are unsure of what these different data classifications mean, read this:\n",
        "\n",
        "[Types of Variables](https://openclassrooms.com/en/courses/6037301-perform-an-initial-data-analysis/6051886-discover-the-four-variable-types)\n",
        "\n",
        "You can get the list of values and counts for a column using this function:\n",
        "\n",
        "[pandas.Series.value_counts](https://pandas.pydata.org/docs/reference/api/pandas.Series.value_counts.html)\n",
        "\n",
        "You can get the descriptive statistics for a DataFrame using this function:\n",
        "\n",
        "[pandas.DataFrame.describe](https://pandas.pydata.org/pandas-docs/stable/reference/api/pandas.DataFrame.describe.html)\n",
        "\n",
        "Note that Pandas may treat integer columns as floats if there are null values in the columns.  So if you see a float data type it might be worth checking the actual values to confirm if it really is a float or if it really is an int with nulls.  You can check the actual values with:\n",
        "\n",
        "[pandas.Series.unique](https://pandas.pydata.org/docs/reference/api/pandas.Series.unique.html)\n",
        "\n"
      ]
    },
    {
      "cell_type": "markdown",
      "id": "9899c07e-0430-49db-875a-6d5a629d6887",
      "metadata": {
        "id": "9899c07e-0430-49db-875a-6d5a629d6887"
      },
      "source": [
        "### 3.1 Further Inspect the Trees Dataset\n",
        "Let's start with the trees dataset.\n"
      ]
    },
    {
      "cell_type": "markdown",
      "id": "e220daf9-b12b-4d67-9253-6f61b1952e2f",
      "metadata": {
        "id": "e220daf9-b12b-4d67-9253-6f61b1952e2f"
      },
      "source": [
        "#### 3.1.a Counts of Values for String Types Columns\n",
        "Go through each column that is a string (object) type and count the number of rows for each value in the column.  After each one, classify the data as binary, nominal or ordinal using a markdown comment.\n",
        "\n",
        "I've done the first one for you.\n"
      ]
    },
    {
      "cell_type": "markdown",
      "id": "3dd0dd30-406d-4635-888b-4157fa5e3f37",
      "metadata": {
        "id": "3dd0dd30-406d-4635-888b-4157fa5e3f37"
      },
      "source": [
        "**Site Name**"
      ]
    },
    {
      "cell_type": "code",
      "execution_count": null,
      "id": "3a4a0915-8d0e-45a2-a919-6b9fd49160da",
      "metadata": {
        "id": "3a4a0915-8d0e-45a2-a919-6b9fd49160da",
        "colab": {
          "base_uri": "https://localhost:8080/"
        },
        "outputId": "101e3066-a1b6-471f-9638-54f9c8f41314"
      },
      "outputs": [
        {
          "output_type": "execute_result",
          "data": {
            "text/plain": [
              "WATERLOW PARK (LS)                         920\n",
              "Alexandra & Ainsworth Estate               289\n",
              "Belsize nature reserve, Russell Nursery    278\n",
              "Holly Lodge Estate                         272\n",
              "LINCOLN'S INN FIELDS, GARDENS (LS)         193\n",
              "                                          ... \n",
              "GOLDINGTON CRESCENT                          1\n",
              "ALLCROFT ROAD                                1\n",
              "WOBURN WALK, LAND BEHIND 4-18                1\n",
              "KILBURN PRIORY                               1\n",
              "GOODGE PLACE                                 1\n",
              "Name: Site Name, Length: 1135, dtype: int64"
            ]
          },
          "metadata": {},
          "execution_count": 35
        }
      ],
      "source": [
        "# List of values in Site Name column and their counts\n",
        "trees[\"Site Name\"].value_counts()"
      ]
    },
    {
      "cell_type": "markdown",
      "id": "9117ae6f-8ecb-429f-9e1e-84931d1291c2",
      "metadata": {
        "id": "9117ae6f-8ecb-429f-9e1e-84931d1291c2"
      },
      "source": [
        "Site Name is **qualitative nominal**."
      ]
    },
    {
      "cell_type": "markdown",
      "id": "62f1b4ef-e76a-4464-af20-70a31385091f",
      "metadata": {
        "id": "62f1b4ef-e76a-4464-af20-70a31385091f"
      },
      "source": [
        "Now do the same on the other string columns.  Use `value_counts()` and then classify as binary, ordered or unordered using a markdown comment.  As you do each one, stop and look at the values and counts and think about how the data in the column might be useful for supporting the council's initiatives.  Don't just treat this as a mechanical copy/paste task. The objective is, after all, to get really intimate with the data!"
      ]
    },
    {
      "cell_type": "markdown",
      "id": "51845db9-18f6-4373-a8fc-e19492568561",
      "metadata": {
        "id": "51845db9-18f6-4373-a8fc-e19492568561"
      },
      "source": [
        "<div style=\"background-color:lemonchiffon; border:1px solid; padding:5px; margin:5px; font-weight:bold\"><font color=\"crimson\">\n",
        "TODO: Enter your code below.  Use one code cell per column and then add a markdown cell after each one to classify the column as in the above example.  Add as many cells as you need.\n",
        "    </font></div>"
      ]
    },
    {
      "cell_type": "code",
      "execution_count": null,
      "id": "30f79dcc-0c78-407e-9479-131db91b2400",
      "metadata": {
        "id": "30f79dcc-0c78-407e-9479-131db91b2400",
        "colab": {
          "base_uri": "https://localhost:8080/"
        },
        "outputId": "6ac21e28-d58e-482d-b9e9-71247b837747"
      },
      "outputs": [
        {
          "output_type": "execute_result",
          "data": {
            "text/plain": [
              "Highways              10062\n",
              "Housing                7500\n",
              "Parks                  4330\n",
              "Education              1288\n",
              "Corporate Landlord      264\n",
              "Name: Contract Area, dtype: int64"
            ]
          },
          "metadata": {},
          "execution_count": 24
        }
      ],
      "source": [
        "trees[\"Contract Area\"].value_counts()"
      ]
    },
    {
      "cell_type": "markdown",
      "source": [
        "Contract Area is **qualitative nominal**"
      ],
      "metadata": {
        "id": "G6UL57wq_ize"
      },
      "id": "G6UL57wq_ize"
    },
    {
      "cell_type": "code",
      "execution_count": null,
      "id": "90a2c62b-fb2c-492d-a529-06cc6066802d",
      "metadata": {
        "id": "90a2c62b-fb2c-492d-a529-06cc6066802d",
        "colab": {
          "base_uri": "https://localhost:8080/"
        },
        "outputId": "24b4207e-15aa-495c-d32d-5e6816e2dfe5"
      },
      "outputs": [
        {
          "output_type": "execute_result",
          "data": {
            "text/plain": [
              "Platanus x hispanica                                 3340\n",
              "Tilia europaea                                       1468\n",
              "Acer pseudoplatanus                                   941\n",
              "Betula pendula                                        765\n",
              "Fraxinus excelsior                                    754\n",
              "                                                     ... \n",
              "Vacant Tree Pit (planned: Populus tremula)              1\n",
              "Liriodendron fastigiata                                 1\n",
              "Sequoia sempervirens                                    1\n",
              "Sorbus x hybrida                                        1\n",
              "Vacant Tree Pit (planned: Acer rubrum 'Amstrong')       1\n",
              "Name: Scientific Name, Length: 543, dtype: int64"
            ]
          },
          "metadata": {},
          "execution_count": 25
        }
      ],
      "source": [
        "trees[\"Scientific Name\"].value_counts()"
      ]
    },
    {
      "cell_type": "markdown",
      "source": [
        "Scientific Name is **qualitative nominal**"
      ],
      "metadata": {
        "id": "MDqGbGaUAO65"
      },
      "id": "MDqGbGaUAO65"
    },
    {
      "cell_type": "code",
      "execution_count": null,
      "id": "1f38b812-f955-481d-8964-55ce58be0290",
      "metadata": {
        "id": "1f38b812-f955-481d-8964-55ce58be0290",
        "colab": {
          "base_uri": "https://localhost:8080/"
        },
        "outputId": "e378a920-03fc-46ef-cfa2-fe782547e9ca"
      },
      "outputs": [
        {
          "output_type": "execute_result",
          "data": {
            "text/plain": [
              "2022/2023    7921\n",
              "2021/2022    7353\n",
              "2020/2021    6577\n",
              "2019/2020    1157\n",
              "2018/2019      16\n",
              "2017/2018       5\n",
              "2016/2017       4\n",
              "2001/2002       4\n",
              "2003/2004       2\n",
              "2006/2007       1\n",
              "2012/2013       1\n",
              "2013/2014       1\n",
              "2011/2012       1\n",
              "Name: Inspection Due Date, dtype: int64"
            ]
          },
          "metadata": {},
          "execution_count": 31
        }
      ],
      "source": [
        "trees[\"Inspection Due Date\"].value_counts()"
      ]
    },
    {
      "cell_type": "markdown",
      "source": [
        "Inspection Due Date is **qualitative ordinal**"
      ],
      "metadata": {
        "id": "g84ljJSQA_S9"
      },
      "id": "g84ljJSQA_S9"
    },
    {
      "cell_type": "code",
      "execution_count": null,
      "id": "128fc054-89ec-494f-b651-2e01a5e95442",
      "metadata": {
        "id": "128fc054-89ec-494f-b651-2e01a5e95442",
        "colab": {
          "base_uri": "https://localhost:8080/"
        },
        "outputId": "bb05149d-ef02-4d17-84d7-e8c8d121b22d"
      },
      "outputs": [
        {
          "output_type": "execute_result",
          "data": {
            "text/plain": [
              "E05000137    2799\n",
              "E05000143    1832\n",
              "E05000134    1541\n",
              "E05000140    1540\n",
              "E05000139    1463\n",
              "E05000136    1424\n",
              "E05000135    1340\n",
              "E05000138    1293\n",
              "E05000132    1284\n",
              "E05000131    1231\n",
              "E05000133    1229\n",
              "E05000129    1008\n",
              "E05000142     989\n",
              "E05000144     978\n",
              "E05000130     899\n",
              "E05000145     853\n",
              "E05000141     824\n",
              "E05000128     691\n",
              "Name: Ward Code, dtype: int64"
            ]
          },
          "metadata": {},
          "execution_count": 32
        }
      ],
      "source": [
        "trees[\"Ward Code\"].value_counts()"
      ]
    },
    {
      "cell_type": "markdown",
      "source": [
        "Ward Code is **qualitative nominal**"
      ],
      "metadata": {
        "id": "HKuhWRAWJjAg"
      },
      "id": "HKuhWRAWJjAg"
    },
    {
      "cell_type": "code",
      "source": [
        "trees[\"Ward Name\"].value_counts()"
      ],
      "metadata": {
        "colab": {
          "base_uri": "https://localhost:8080/"
        },
        "id": "jkTGQvzsenr3",
        "outputId": "9fc6d8ff-f747-4d90-d6af-37b180ae290b"
      },
      "id": "jkTGQvzsenr3",
      "execution_count": null,
      "outputs": [
        {
          "output_type": "execute_result",
          "data": {
            "text/plain": [
              "Highgate                          2799\n",
              "St Pancras and Somers Town        1832\n",
              "Gospel Oak                        1541\n",
              "Kilburn                           1540\n",
              "Kentish Town                      1463\n",
              "Haverstock                        1424\n",
              "Hampstead Town                    1340\n",
              "Holborn and Covent Garden         1293\n",
              "Fortune Green                     1284\n",
              "Cantelowes                        1231\n",
              "Frognal and Fitzjohns             1229\n",
              "Bloomsbury                        1008\n",
              "Regent's Park                      989\n",
              "Swiss Cottage                      978\n",
              "Camden Town with Primrose Hill     899\n",
              "West Hampstead                     853\n",
              "King's Cross                       824\n",
              "Belsize                            691\n",
              "Name: Ward Name, dtype: int64"
            ]
          },
          "metadata": {},
          "execution_count": 33
        }
      ]
    },
    {
      "cell_type": "markdown",
      "source": [
        "Ward Name is **qualitative nominal**"
      ],
      "metadata": {
        "id": "RiDK4V4bfi48"
      },
      "id": "RiDK4V4bfi48"
    },
    {
      "cell_type": "code",
      "source": [
        "trees[\"Location\"].value_counts()"
      ],
      "metadata": {
        "colab": {
          "base_uri": "https://localhost:8080/"
        },
        "id": "CVreGuvvfLZV",
        "outputId": "88ceb57e-c75c-476d-d95d-5099625a312b"
      },
      "id": "CVreGuvvfLZV",
      "execution_count": null,
      "outputs": [
        {
          "output_type": "execute_result",
          "data": {
            "text/plain": [
              "(51.556205, -0.173776)    3\n",
              "(51.553475, -0.152668)    3\n",
              "(51.548133, -0.144922)    2\n",
              "(51.544482, -0.144465)    2\n",
              "(51.55468, -0.164744)     2\n",
              "                         ..\n",
              "(51.525312, -0.128846)    1\n",
              "(51.540297, -0.181512)    1\n",
              "(51.556013, -0.211326)    1\n",
              "(51.55969, -0.182457)     1\n",
              "(51.552397, -0.173397)    1\n",
              "Name: Location, Length: 23262, dtype: int64"
            ]
          },
          "metadata": {},
          "execution_count": 34
        }
      ]
    },
    {
      "cell_type": "markdown",
      "source": [
        "Location is **qualitative nominal**"
      ],
      "metadata": {
        "id": "Dd5WlF8WfonP"
      },
      "id": "Dd5WlF8WfonP"
    },
    {
      "cell_type": "markdown",
      "id": "098f1891-aa39-4304-9845-13cf7041d27f",
      "metadata": {
        "id": "098f1891-aa39-4304-9845-13cf7041d27f"
      },
      "source": [
        "<hr/>"
      ]
    },
    {
      "cell_type": "markdown",
      "id": "65820ccc-8566-4b63-b141-7dffa8e9d067",
      "metadata": {
        "id": "65820ccc-8566-4b63-b141-7dffa8e9d067"
      },
      "source": [
        "#### 3.1.b Descriptive Stats for Numeric Type Columns\n",
        "Use the `describe()` function to get the descriptive stats for the numeric columns.\n",
        "\n",
        "For each column, classify the column as discrete or continuous (use the data type to guide you, but check any floats to confirm whether they are really floats or just ints with null values.  Use `pandas.Series.unique()` to check this).\n"
      ]
    },
    {
      "cell_type": "markdown",
      "id": "bef50831-d839-4dd0-833e-cabfda83cba4",
      "metadata": {
        "id": "bef50831-d839-4dd0-833e-cabfda83cba4"
      },
      "source": [
        "<div style=\"background-color:lemonchiffon; border:1px solid; padding:5px; margin:5px; font-weight:bold\"><font color=\"crimson\">\n",
        "TODO: Complete the following code cells\n",
        "    </font></div>"
      ]
    },
    {
      "cell_type": "code",
      "execution_count": null,
      "id": "0f449063-a7c5-4526-a057-fd20bd17ba6f",
      "metadata": {
        "id": "0f449063-a7c5-4526-a057-fd20bd17ba6f",
        "colab": {
          "base_uri": "https://localhost:8080/"
        },
        "outputId": "8ad95152-448b-4b6f-b73a-565eb028f9cb"
      },
      "outputs": [
        {
          "output_type": "execute_result",
          "data": {
            "text/plain": [
              "count    23422.000000\n",
              "mean         1.100034\n",
              "std          1.288041\n",
              "min          0.000000\n",
              "25%          1.000000\n",
              "50%          1.000000\n",
              "75%          1.000000\n",
              "max         67.000000\n",
              "Name: Number Of Trees, dtype: float64"
            ]
          },
          "metadata": {},
          "execution_count": 32
        }
      ],
      "source": [
        "# Get the descriptive stats for the numeric columns\n",
        "trees[\"Number Of Trees\"].describe()"
      ]
    },
    {
      "cell_type": "markdown",
      "source": [
        "Number of trees is **quantitative discreet**"
      ],
      "metadata": {
        "id": "h2jB5sN2N7Tt"
      },
      "id": "h2jB5sN2N7Tt"
    },
    {
      "cell_type": "code",
      "source": [
        "trees[\"Height In Metres\"].describe()"
      ],
      "metadata": {
        "colab": {
          "base_uri": "https://localhost:8080/"
        },
        "id": "lYqY50OO5o4r",
        "outputId": "b6f2cdf7-85d6-4f80-c12e-e4b9988109fc"
      },
      "id": "lYqY50OO5o4r",
      "execution_count": null,
      "outputs": [
        {
          "output_type": "execute_result",
          "data": {
            "text/plain": [
              "count    23006.000000\n",
              "mean        10.307029\n",
              "std          6.325293\n",
              "min          0.000000\n",
              "25%          5.000000\n",
              "50%          9.000000\n",
              "75%         15.000000\n",
              "max        127.000000\n",
              "Name: Height In Metres, dtype: float64"
            ]
          },
          "metadata": {},
          "execution_count": 36
        }
      ]
    },
    {
      "cell_type": "markdown",
      "source": [
        "Height in metres is **quantitative continuous**"
      ],
      "metadata": {
        "id": "epaDMupnONMv"
      },
      "id": "epaDMupnONMv"
    },
    {
      "cell_type": "code",
      "source": [
        "trees[\"Spread In Metres\"].describe()"
      ],
      "metadata": {
        "colab": {
          "base_uri": "https://localhost:8080/"
        },
        "id": "SrUZhYZ0L3nN",
        "outputId": "e6dccc4c-0755-47df-f47b-f07893041992"
      },
      "id": "SrUZhYZ0L3nN",
      "execution_count": null,
      "outputs": [
        {
          "output_type": "execute_result",
          "data": {
            "text/plain": [
              "count    23006.000000\n",
              "mean         5.997612\n",
              "std          4.132379\n",
              "min          0.000000\n",
              "25%          3.000000\n",
              "50%          5.000000\n",
              "75%          8.000000\n",
              "max         88.000000\n",
              "Name: Spread In Metres, dtype: float64"
            ]
          },
          "metadata": {},
          "execution_count": 37
        }
      ]
    },
    {
      "cell_type": "markdown",
      "source": [
        "Spread in metres is **quantitative continuous**"
      ],
      "metadata": {
        "id": "uER0dlnCL9Ty"
      },
      "id": "uER0dlnCL9Ty"
    },
    {
      "cell_type": "code",
      "source": [
        "trees[\"Diameter In Centimetres At Breast Height\"].describe()"
      ],
      "metadata": {
        "colab": {
          "base_uri": "https://localhost:8080/"
        },
        "id": "ecca0sbvMHrW",
        "outputId": "1ab81e77-09cc-43d6-ec92-9faab1538d73"
      },
      "id": "ecca0sbvMHrW",
      "execution_count": null,
      "outputs": [
        {
          "output_type": "execute_result",
          "data": {
            "text/plain": [
              "count    23005.000000\n",
              "mean        32.595262\n",
              "std         26.149994\n",
              "min          0.000000\n",
              "25%         12.000000\n",
              "50%         27.000000\n",
              "75%         46.000000\n",
              "max        228.000000\n",
              "Name: Diameter In Centimetres At Breast Height, dtype: float64"
            ]
          },
          "metadata": {},
          "execution_count": 38
        }
      ]
    },
    {
      "cell_type": "markdown",
      "source": [
        "Diameter In Centimetres At Breast Height is **quantitative discrete**"
      ],
      "metadata": {
        "id": "iwWlYsCdMQVO"
      },
      "id": "iwWlYsCdMQVO"
    },
    {
      "cell_type": "code",
      "source": [
        "trees[\"Easting\"].describe()"
      ],
      "metadata": {
        "colab": {
          "base_uri": "https://localhost:8080/"
        },
        "id": "FeBXIEPX_AOS",
        "outputId": "ff6a2fb7-a993-491d-e3bd-91396b4b36a0"
      },
      "id": "FeBXIEPX_AOS",
      "execution_count": null,
      "outputs": [
        {
          "output_type": "execute_result",
          "data": {
            "text/plain": [
              "count     23444.000000\n",
              "mean     526762.518171\n",
              "std       25835.857212\n",
              "min           0.000000\n",
              "25%      526583.750000\n",
              "50%      528456.500000\n",
              "75%      529369.000000\n",
              "max      531514.000000\n",
              "Name: Easting, dtype: float64"
            ]
          },
          "metadata": {},
          "execution_count": 22
        }
      ]
    },
    {
      "cell_type": "markdown",
      "source": [
        "Easting is **quantitative continuous**"
      ],
      "metadata": {
        "id": "kec64Is3AuEn"
      },
      "id": "kec64Is3AuEn"
    },
    {
      "cell_type": "code",
      "source": [
        "trees[\"Northing\"].describe()"
      ],
      "metadata": {
        "colab": {
          "base_uri": "https://localhost:8080/"
        },
        "id": "XW3m3LwbB22r",
        "outputId": "b9142b2d-610e-4bfa-aee0-e0059b1266c2"
      },
      "id": "XW3m3LwbB22r",
      "execution_count": null,
      "outputs": [
        {
          "output_type": "execute_result",
          "data": {
            "text/plain": [
              "count     23444.000000\n",
              "mean     184085.188662\n",
              "std        9121.059755\n",
              "min           0.000000\n",
              "25%      183665.000000\n",
              "50%      184690.000000\n",
              "75%      185481.000000\n",
              "max      196188.000000\n",
              "Name: Northing, dtype: float64"
            ]
          },
          "metadata": {},
          "execution_count": 23
        }
      ]
    },
    {
      "cell_type": "markdown",
      "source": [
        "Northing is **quantitative continuous**"
      ],
      "metadata": {
        "id": "2_FGndMyB7_K"
      },
      "id": "2_FGndMyB7_K"
    },
    {
      "cell_type": "code",
      "source": [
        "trees[\"Longitude\"].describe()"
      ],
      "metadata": {
        "colab": {
          "base_uri": "https://localhost:8080/"
        },
        "id": "EOzP0sVrCBSR",
        "outputId": "6ae123a3-07ad-4305-89a3-f04aa31c86f5"
      },
      "id": "EOzP0sVrCBSR",
      "execution_count": null,
      "outputs": [
        {
          "output_type": "execute_result",
          "data": {
            "text/plain": [
              "count    23388.000000\n",
              "mean        -0.155145\n",
              "std          0.025058\n",
              "min         -0.261719\n",
              "25%         -0.175734\n",
              "50%         -0.148478\n",
              "75%         -0.135978\n",
              "max         -0.105858\n",
              "Name: Longitude, dtype: float64"
            ]
          },
          "metadata": {},
          "execution_count": 25
        }
      ]
    },
    {
      "cell_type": "markdown",
      "source": [
        "Longitude is **quantitative continuous**"
      ],
      "metadata": {
        "id": "Wxv6l-_yCIz1"
      },
      "id": "Wxv6l-_yCIz1"
    },
    {
      "cell_type": "code",
      "source": [
        "trees[\"Latitude\"].describe()"
      ],
      "metadata": {
        "colab": {
          "base_uri": "https://localhost:8080/"
        },
        "id": "FWqyT08cCaIa",
        "outputId": "5df81c34-2c98-4278-cc04-22901af524ee"
      },
      "id": "FWqyT08cCaIa",
      "execution_count": null,
      "outputs": [
        {
          "output_type": "execute_result",
          "data": {
            "text/plain": [
              "count    23388.000000\n",
              "mean        51.545115\n",
              "std          0.013067\n",
              "min         51.512858\n",
              "25%         51.537472\n",
              "50%         51.546669\n",
              "75%         51.554032\n",
              "max         51.650843\n",
              "Name: Latitude, dtype: float64"
            ]
          },
          "metadata": {},
          "execution_count": 26
        }
      ]
    },
    {
      "cell_type": "markdown",
      "source": [
        "Latitude is **quantitative continuous**"
      ],
      "metadata": {
        "id": "G50mjcGSCgLC"
      },
      "id": "G50mjcGSCgLC"
    },
    {
      "cell_type": "code",
      "source": [
        "trees[\"Location\"].describe()"
      ],
      "metadata": {
        "colab": {
          "base_uri": "https://localhost:8080/"
        },
        "id": "CrYY6QWNCsEH",
        "outputId": "1e676658-d348-4c78-9b00-6f2fa6eb6814"
      },
      "id": "CrYY6QWNCsEH",
      "execution_count": null,
      "outputs": [
        {
          "output_type": "execute_result",
          "data": {
            "text/plain": [
              "count                      23388\n",
              "unique                     23262\n",
              "top       (51.556205, -0.173776)\n",
              "freq                           3\n",
              "Name: Location, dtype: object"
            ]
          },
          "metadata": {},
          "execution_count": 27
        }
      ]
    },
    {
      "cell_type": "markdown",
      "source": [
        "Location is **quantitative discrete**"
      ],
      "metadata": {
        "id": "ep-1AZy7C4Bs"
      },
      "id": "ep-1AZy7C4Bs"
    },
    {
      "cell_type": "code",
      "execution_count": null,
      "id": "9b793f70-5799-4eb0-aa11-4cb38f86baba",
      "metadata": {
        "id": "9b793f70-5799-4eb0-aa11-4cb38f86baba",
        "colab": {
          "base_uri": "https://localhost:8080/"
        },
        "outputId": "52885a86-9ae7-406f-bef1-7aee93c9debc"
      },
      "outputs": [
        {
          "output_type": "execute_result",
          "data": {
            "text/plain": [
              "Identifier                                          object\n",
              "Number Of Trees                                    float64\n",
              "Site Name                                           object\n",
              "Contract Area                                       object\n",
              "Scientific Name                                     object\n",
              "Inspection Date                             datetime64[ns]\n",
              "Inspection Due Date                                 object\n",
              "Height In Metres                                   float64\n",
              "Spread In Metres                                   float64\n",
              "Diameter In Centimetres At Breast Height           float64\n",
              "Ward Code                                           object\n",
              "Ward Name                                           object\n",
              "Easting                                              int64\n",
              "Northing                                             int64\n",
              "Longitude                                          float64\n",
              "Latitude                                           float64\n",
              "Location                                            object\n",
              "dtype: object"
            ]
          },
          "metadata": {},
          "execution_count": 21
        }
      ],
      "source": [
        "# Remind ourselves of the data types\n",
        "trees.dtypes"
      ]
    },
    {
      "cell_type": "markdown",
      "id": "f8139d4e-5890-4d4d-bf64-850c9f783710",
      "metadata": {
        "id": "f8139d4e-5890-4d4d-bf64-850c9f783710"
      },
      "source": [
        "<hr/>\n",
        "\n",
        "Find out if floats are really floats or ints with nulls.\n",
        "\n",
        "<div style=\"background-color:lemonchiffon; border:1px solid; padding:5px; margin:5px; font-weight:bold\"><font color=\"crimson\">\n",
        "TODO: Enter your code below.  Use one code cell per column.   Add as many cells as you need.\n",
        "    </font></div>"
      ]
    },
    {
      "cell_type": "code",
      "execution_count": null,
      "id": "ece0e5ee-9b62-43b7-ae9b-1c71086736f4",
      "metadata": {
        "id": "ece0e5ee-9b62-43b7-ae9b-1c71086736f4",
        "colab": {
          "base_uri": "https://localhost:8080/"
        },
        "outputId": "a044a993-d00a-4bd7-8ea2-d9558179889f"
      },
      "outputs": [
        {
          "output_type": "execute_result",
          "data": {
            "text/plain": [
              "0.0009384064152874935"
            ]
          },
          "metadata": {},
          "execution_count": 49
        }
      ],
      "source": [
        "trees[\"Number Of Trees\"].isnull().mean()"
      ]
    },
    {
      "cell_type": "code",
      "source": [
        "trees[\"Height In Metres\"].isnull().mean()"
      ],
      "metadata": {
        "colab": {
          "base_uri": "https://localhost:8080/"
        },
        "id": "KSFGJEGhouxy",
        "outputId": "263641e7-f818-4619-9759-eac4dac435dc"
      },
      "id": "KSFGJEGhouxy",
      "execution_count": null,
      "outputs": [
        {
          "output_type": "execute_result",
          "data": {
            "text/plain": [
              "0.018682818631632826"
            ]
          },
          "metadata": {},
          "execution_count": 50
        }
      ]
    },
    {
      "cell_type": "code",
      "source": [
        "trees[\"Spread In Metres\"].isnull().mean()"
      ],
      "metadata": {
        "colab": {
          "base_uri": "https://localhost:8080/"
        },
        "id": "evgh8UVapMX6",
        "outputId": "a9744bdf-8989-4faf-cd8c-8094f05942e0"
      },
      "id": "evgh8UVapMX6",
      "execution_count": null,
      "outputs": [
        {
          "output_type": "execute_result",
          "data": {
            "text/plain": [
              "0.018682818631632826"
            ]
          },
          "metadata": {},
          "execution_count": 53
        }
      ]
    },
    {
      "cell_type": "code",
      "source": [
        "trees[\"Diameter In Centimetres At Breast Height\"].isnull().mean()"
      ],
      "metadata": {
        "colab": {
          "base_uri": "https://localhost:8080/"
        },
        "id": "jJLr9mNopcpd",
        "outputId": "f2b32f20-05ec-473e-8c7e-29849a61ea27"
      },
      "id": "jJLr9mNopcpd",
      "execution_count": null,
      "outputs": [
        {
          "output_type": "execute_result",
          "data": {
            "text/plain": [
              "0.01872547346869135"
            ]
          },
          "metadata": {},
          "execution_count": 55
        }
      ]
    },
    {
      "cell_type": "code",
      "source": [
        "trees[\"Easting\"].isnull().mean()"
      ],
      "metadata": {
        "colab": {
          "base_uri": "https://localhost:8080/"
        },
        "id": "JHXdodvvplFG",
        "outputId": "59fd746a-1511-46b1-f5a9-553a754b8ca5"
      },
      "id": "JHXdodvvplFG",
      "execution_count": null,
      "outputs": [
        {
          "output_type": "execute_result",
          "data": {
            "text/plain": [
              "0.0"
            ]
          },
          "metadata": {},
          "execution_count": 56
        }
      ]
    },
    {
      "cell_type": "code",
      "source": [
        "trees[\"Northing\"].isnull().mean()"
      ],
      "metadata": {
        "colab": {
          "base_uri": "https://localhost:8080/"
        },
        "id": "k6mSxy0dps4I",
        "outputId": "043bf8d9-3b47-475b-a8d7-69b4fd37b06d"
      },
      "id": "k6mSxy0dps4I",
      "execution_count": null,
      "outputs": [
        {
          "output_type": "execute_result",
          "data": {
            "text/plain": [
              "0.0"
            ]
          },
          "metadata": {},
          "execution_count": 57
        }
      ]
    },
    {
      "cell_type": "code",
      "source": [
        "trees[\"Longitude\"].isnull().mean()"
      ],
      "metadata": {
        "colab": {
          "base_uri": "https://localhost:8080/"
        },
        "id": "8PzRQ3G5pxkn",
        "outputId": "c41089be-18a9-42e7-f178-afe222440deb"
      },
      "id": "8PzRQ3G5pxkn",
      "execution_count": null,
      "outputs": [
        {
          "output_type": "execute_result",
          "data": {
            "text/plain": [
              "0.0023886708752772563"
            ]
          },
          "metadata": {},
          "execution_count": 58
        }
      ]
    },
    {
      "cell_type": "code",
      "source": [
        "trees[\"Latitude\"].isnull().mean()"
      ],
      "metadata": {
        "colab": {
          "base_uri": "https://localhost:8080/"
        },
        "id": "bwsVzWPPp1qv",
        "outputId": "d81809c5-7db7-45fb-9f18-da3025664272"
      },
      "id": "bwsVzWPPp1qv",
      "execution_count": null,
      "outputs": [
        {
          "output_type": "execute_result",
          "data": {
            "text/plain": [
              "0.0023886708752772563"
            ]
          },
          "metadata": {},
          "execution_count": 59
        }
      ]
    },
    {
      "cell_type": "markdown",
      "id": "de74dc7d-a346-42ba-9def-8d07b1ef1e0c",
      "metadata": {
        "id": "de74dc7d-a346-42ba-9def-8d07b1ef1e0c"
      },
      "source": [
        "Classify the columns as discrete or continuous.\n",
        "\n",
        "<div style=\"background-color:lemonchiffon; border:1px solid; padding:5px; margin:5px; font-weight:bold\"><font color=\"crimson\">\n",
        "TODO: Enter markdown below.\n",
        "</div>"
      ]
    },
    {
      "cell_type": "markdown",
      "id": "5a7931f5-fac2-4181-84d6-b4999e983057",
      "metadata": {
        "id": "5a7931f5-fac2-4181-84d6-b4999e983057"
      },
      "source": [
        "\n",
        "ENTER AS MARKDOWN HERE\n",
        "Columns are **continuous**"
      ]
    },
    {
      "cell_type": "markdown",
      "id": "4ee2e405-e35f-49d7-bcd6-00c12d31fa8d",
      "metadata": {
        "id": "4ee2e405-e35f-49d7-bcd6-00c12d31fa8d"
      },
      "source": [
        "<hr/>"
      ]
    },
    {
      "cell_type": "markdown",
      "id": "90c6e10d-2f2e-4003-b983-f60870b6fc1a",
      "metadata": {
        "id": "90c6e10d-2f2e-4003-b983-f60870b6fc1a"
      },
      "source": [
        "### 3.2 Further Inspect the Environmental Dataset\n",
        "Now repeat the above for the environmental dataset.\n",
        "\n",
        "#### 3.2.a Counts of Values for String Type Columns \n",
        "For each string column in the environmental dataset show the counts of the unique values."
      ]
    },
    {
      "cell_type": "markdown",
      "id": "f077e892-01db-426e-9cae-e59a6b0940be",
      "metadata": {
        "id": "f077e892-01db-426e-9cae-e59a6b0940be"
      },
      "source": [
        "<div style=\"background-color:lemonchiffon; border:1px solid; padding:5px; margin:5px; font-weight:bold\"><font color=\"crimson\">\n",
        "    TODO: Enter your code below.  Use one code cell per column and then add a markdown cell after each one to classify the column.  Add as many cells as you need.\n",
        "</font></div>"
      ]
    },
    {
      "cell_type": "code",
      "execution_count": null,
      "id": "044f2b73-aa4b-4a10-8546-e3149d39d817",
      "metadata": {
        "id": "044f2b73-aa4b-4a10-8546-e3149d39d817",
        "colab": {
          "base_uri": "https://localhost:8080/"
        },
        "outputId": "3ea75945-0f1d-405d-aa12-360943fe2692"
      },
      "outputs": [
        {
          "output_type": "execute_result",
          "data": {
            "text/plain": [
              "Mature            10225\n",
              "Middle aged        7779\n",
              "Juvenile           4393\n",
              "Not Applicable      377\n",
              "Over Mature         191\n",
              "Veteran              41\n",
              "Name: Maturity, dtype: int64"
            ]
          },
          "metadata": {},
          "execution_count": 60
        }
      ],
      "source": [
        "camden_trees_environmental[\"Maturity\"].value_counts()"
      ]
    },
    {
      "cell_type": "markdown",
      "source": [
        "Maturity is **qualitative nominal**"
      ],
      "metadata": {
        "id": "icfR0pmvtOqC"
      },
      "id": "icfR0pmvtOqC"
    },
    {
      "cell_type": "code",
      "execution_count": null,
      "id": "44ba9648-4ddb-4d61-b176-264bce03818c",
      "metadata": {
        "id": "44ba9648-4ddb-4d61-b176-264bce03818c",
        "colab": {
          "base_uri": "https://localhost:8080/"
        },
        "outputId": "e2c87746-24ce-4d91-f0a0-f1e32594b474"
      },
      "outputs": [
        {
          "output_type": "execute_result",
          "data": {
            "text/plain": [
              "Good              12910\n",
              "Fair               9183\n",
              "Poor                357\n",
              "Not applicable      249\n",
              "Dead                236\n",
              "Excellent             8\n",
              "Name: Physiological Condition, dtype: int64"
            ]
          },
          "metadata": {},
          "execution_count": 62
        }
      ],
      "source": [
        "camden_trees_environmental[\"Physiological Condition\"].value_counts()"
      ]
    },
    {
      "cell_type": "markdown",
      "source": [
        "Physiological Condition is **qualitative nominal**"
      ],
      "metadata": {
        "id": "YwLKgLuytch1"
      },
      "id": "YwLKgLuytch1"
    },
    {
      "cell_type": "code",
      "execution_count": null,
      "id": "089c3831-ae1e-47f9-a907-45260efe3d56",
      "metadata": {
        "id": "089c3831-ae1e-47f9-a907-45260efe3d56",
        "colab": {
          "base_uri": "https://localhost:8080/"
        },
        "outputId": "9273c833-13f1-4c66-9835-8c68af7bbe05"
      },
      "outputs": [
        {
          "output_type": "execute_result",
          "data": {
            "text/plain": [
              "No     23331\n",
              "Yes       84\n",
              "Name: Tree Set To Be Removed, dtype: int64"
            ]
          },
          "metadata": {},
          "execution_count": 63
        }
      ],
      "source": [
        "camden_trees_environmental[\"Tree Set To Be Removed\"].value_counts()"
      ]
    },
    {
      "cell_type": "markdown",
      "source": [
        "Tree Set To Be Removed is **qualitative binary**"
      ],
      "metadata": {
        "id": "uko0ATZdtiOL"
      },
      "id": "uko0ATZdtiOL"
    },
    {
      "cell_type": "code",
      "source": [
        "camden_trees_environmental[\"Removal Reason\"].value_counts()"
      ],
      "metadata": {
        "colab": {
          "base_uri": "https://localhost:8080/"
        },
        "id": "rjhsvmWosv7J",
        "outputId": "37521739-681d-483f-be12-4fc0d2389a0a"
      },
      "id": "rjhsvmWosv7J",
      "execution_count": null,
      "outputs": [
        {
          "output_type": "execute_result",
          "data": {
            "text/plain": [
              "Dead, dying                    30\n",
              "Basal decay                    17\n",
              "Trunk decay                    10\n",
              "Tree defect                     5\n",
              "Crown die-back                  5\n",
              "Dog damage                      3\n",
              "Unsuitable location             3\n",
              "Newly planted tree failure      2\n",
              "Coppiced stump                  1\n",
              "Touching building/structure     1\n",
              "Crown decay                     1\n",
              "Split trunk                     1\n",
              "Broken/split branch             1\n",
              "Climber                         1\n",
              "No defects - work required      1\n",
              "Suppressed                      1\n",
              "ATRD                            1\n",
              "Name: Removal Reason, dtype: int64"
            ]
          },
          "metadata": {},
          "execution_count": 64
        }
      ]
    },
    {
      "cell_type": "markdown",
      "source": [
        "Removal Reason is **qualitative nominal**"
      ],
      "metadata": {
        "id": "Y63CHpeUtrJc"
      },
      "id": "Y63CHpeUtrJc"
    },
    {
      "cell_type": "markdown",
      "id": "fa84e8d1-57aa-483b-bb38-e54a07e6aff8",
      "metadata": {
        "id": "fa84e8d1-57aa-483b-bb38-e54a07e6aff8"
      },
      "source": [
        "<hr/>"
      ]
    },
    {
      "cell_type": "markdown",
      "id": "5c9ae370-ab1f-43f3-ba17-5dd062a2cbf1",
      "metadata": {
        "id": "5c9ae370-ab1f-43f3-ba17-5dd062a2cbf1"
      },
      "source": [
        "#### 3.2.b Descriptive Stats for Numeric Type Columns\n",
        "For each numeric column in the environmental dataset show the descriptive stats"
      ]
    },
    {
      "cell_type": "markdown",
      "id": "eafafa68-7cf4-4f9d-bbe1-7513151aa727",
      "metadata": {
        "id": "eafafa68-7cf4-4f9d-bbe1-7513151aa727"
      },
      "source": [
        "<div style=\"background-color:lemonchiffon; border:1px solid; padding:5px; margin:5px; font-weight:bold\"><font color=\"crimson\">\n",
        "TODO: Complete the following code cells\n",
        "    </font></div>"
      ]
    },
    {
      "cell_type": "code",
      "execution_count": null,
      "id": "4380cd76-3b4c-4488-8b5d-b8429c747228",
      "metadata": {
        "id": "4380cd76-3b4c-4488-8b5d-b8429c747228",
        "colab": {
          "base_uri": "https://localhost:8080/"
        },
        "outputId": "0dd91b73-0895-4d93-e15e-3210f323a9b5"
      },
      "outputs": [
        {
          "output_type": "execute_result",
          "data": {
            "text/plain": [
              "115.07       480\n",
              "179.80       341\n",
              "153.43       340\n",
              "0.00         277\n",
              "172.61       270\n",
              "            ... \n",
              "170114.18      1\n",
              "110563.56      1\n",
              "99526.30       1\n",
              "6340.98        1\n",
              "148012.15      1\n",
              "Name: Capital Asset Value For Amenity Trees, Length: 1509, dtype: int64"
            ]
          },
          "metadata": {},
          "execution_count": 26
        }
      ],
      "source": [
        "# Get the descriptive stats for all numeric columns\n",
        "camden_trees_environmental[\"Capital Asset Value For Amenity Trees\"].value_counts()"
      ]
    },
    {
      "cell_type": "markdown",
      "source": [
        "Capital Asset Value For Amenity Trees is **quantitative nominal**"
      ],
      "metadata": {
        "id": "Rjax8tg-uNVf"
      },
      "id": "Rjax8tg-uNVf"
    },
    {
      "cell_type": "code",
      "source": [
        "camden_trees_environmental[\"Carbon Storage In Kilograms\"].value_counts()"
      ],
      "metadata": {
        "colab": {
          "base_uri": "https://localhost:8080/"
        },
        "id": "fm3ehHLDuTmi",
        "outputId": "c9cfb237-2d63-41e8-b386-9d0577f7d7a0"
      },
      "id": "fm3ehHLDuTmi",
      "execution_count": null,
      "outputs": [
        {
          "output_type": "execute_result",
          "data": {
            "text/plain": [
              "1.4       479\n",
              "2.4       375\n",
              "2.7       251\n",
              "3.7       136\n",
              "4.3       135\n",
              "         ... \n",
              "1342.2      1\n",
              "102.7       1\n",
              "5967.5      1\n",
              "429.1       1\n",
              "481.0       1\n",
              "Name: Carbon Storage In Kilograms, Length: 3937, dtype: int64"
            ]
          },
          "metadata": {},
          "execution_count": 67
        }
      ]
    },
    {
      "cell_type": "markdown",
      "source": [
        "Carbon Storage In Kilograms is **quantitative ordinal**"
      ],
      "metadata": {
        "id": "ShOTPKENue8-"
      },
      "id": "ShOTPKENue8-"
    },
    {
      "cell_type": "code",
      "source": [
        "camden_trees_environmental[\"Gross Carbon Sequestration Per Year In Kilograms\"].value_counts()"
      ],
      "metadata": {
        "colab": {
          "base_uri": "https://localhost:8080/"
        },
        "id": "x3Nt6sBsu6Ps",
        "outputId": "4ff03530-b534-4b74-e3e8-97a58cb8a3de"
      },
      "id": "x3Nt6sBsu6Ps",
      "execution_count": null,
      "outputs": [
        {
          "output_type": "execute_result",
          "data": {
            "text/plain": [
              "0.5     607\n",
              "0.6     559\n",
              "0.7     428\n",
              "0.4     381\n",
              "1.4     314\n",
              "       ... \n",
              "43.9      1\n",
              "43.6      1\n",
              "40.9      1\n",
              "44.3      1\n",
              "49.5      1\n",
              "Name: Gross Carbon Sequestration Per Year In Kilograms, Length: 448, dtype: int64"
            ]
          },
          "metadata": {},
          "execution_count": 68
        }
      ]
    },
    {
      "cell_type": "markdown",
      "source": [
        "Gross Carbon Sequestration Per Year In Kilograms is **quantitative continuous**"
      ],
      "metadata": {
        "id": "7IaTahP8vBvX"
      },
      "id": "7IaTahP8vBvX"
    },
    {
      "cell_type": "code",
      "source": [
        "camden_trees_environmental[\"Pollution Removal Per Year In Grams\"].value_counts()"
      ],
      "metadata": {
        "colab": {
          "base_uri": "https://localhost:8080/"
        },
        "id": "EPY86MWLvHxm",
        "outputId": "f1841afd-097f-4c9c-bfd9-216873c1f3a9"
      },
      "id": "EPY86MWLvHxm",
      "execution_count": null,
      "outputs": [
        {
          "output_type": "execute_result",
          "data": {
            "text/plain": [
              "3.5      494\n",
              "12.6     316\n",
              "9.9      277\n",
              "11.6     203\n",
              "3.3      172\n",
              "        ... \n",
              "116.4      1\n",
              "321.0      1\n",
              "412.8      1\n",
              "216.0      1\n",
              "60.1       1\n",
              "Name: Pollution Removal Per Year In Grams, Length: 1858, dtype: int64"
            ]
          },
          "metadata": {},
          "execution_count": 69
        }
      ]
    },
    {
      "cell_type": "markdown",
      "source": [
        "Pollution Removal Per Year In Grams is **quantitative continuous**"
      ],
      "metadata": {
        "id": "F8ziV7A2vO8Y"
      },
      "id": "F8ziV7A2vO8Y"
    },
    {
      "cell_type": "code",
      "execution_count": null,
      "id": "d0f77821-130d-4f5d-b92e-0ce89e6b3bcd",
      "metadata": {
        "id": "d0f77821-130d-4f5d-b92e-0ce89e6b3bcd",
        "colab": {
          "base_uri": "https://localhost:8080/"
        },
        "outputId": "d6f884b6-f811-4c2d-f3e4-d94698505f22"
      },
      "outputs": [
        {
          "output_type": "execute_result",
          "data": {
            "text/plain": [
              "Identifier                                           object\n",
              "Maturity                                             object\n",
              "Physiological Condition                              object\n",
              "Tree Set To Be Removed                               object\n",
              "Removal Reason                                       object\n",
              "Capital Asset Value For Amenity Trees               float64\n",
              "Carbon Storage In Kilograms                         float64\n",
              "Gross Carbon Sequestration Per Year In Kilograms    float64\n",
              "Pollution Removal Per Year In Grams                 float64\n",
              "dtype: object"
            ]
          },
          "metadata": {},
          "execution_count": 27
        }
      ],
      "source": [
        "# Remind ourselves of the data types\n",
        "camden_trees_environmental.dtypes"
      ]
    },
    {
      "cell_type": "markdown",
      "id": "eb227586-d79a-46b9-a665-854b330a4c72",
      "metadata": {
        "id": "eb227586-d79a-46b9-a665-854b330a4c72"
      },
      "source": [
        "<hr/>\n",
        "\n",
        "Find out if floats are really floats or ints with nulls.\n",
        "\n",
        "<div style=\"background-color:lemonchiffon; border:1px solid; padding:5px; margin:5px; font-weight:bold\"><font color=\"crimson\">\n",
        "TODO: Enter your code below.  Use one code cell per column.   Add as many cells as you need.\n",
        "    </font></div>"
      ]
    },
    {
      "cell_type": "code",
      "execution_count": null,
      "id": "20d9ddc5-3be9-4836-bc1a-5974d9b6b6b8",
      "metadata": {
        "id": "20d9ddc5-3be9-4836-bc1a-5974d9b6b6b8",
        "colab": {
          "base_uri": "https://localhost:8080/"
        },
        "outputId": "1432d229-9d95-47b3-d1a9-631045607dbe"
      },
      "outputs": [
        {
          "output_type": "execute_result",
          "data": {
            "text/plain": [
              "0.018492419389280375"
            ]
          },
          "metadata": {},
          "execution_count": 70
        }
      ],
      "source": [
        "camden_trees_environmental[\"Capital Asset Value For Amenity Trees\"].isnull().mean()"
      ]
    },
    {
      "cell_type": "code",
      "execution_count": null,
      "id": "0ac2cda7-cc1c-4a51-935e-033958ee9072",
      "metadata": {
        "id": "0ac2cda7-cc1c-4a51-935e-033958ee9072",
        "colab": {
          "base_uri": "https://localhost:8080/"
        },
        "outputId": "cda35222-a706-46d3-b6ab-2eaadfe48a71"
      },
      "outputs": [
        {
          "output_type": "execute_result",
          "data": {
            "text/plain": [
              "0.1221439248345078"
            ]
          },
          "metadata": {},
          "execution_count": 71
        }
      ],
      "source": [
        "camden_trees_environmental[\"Carbon Storage In Kilograms\"].isnull().mean()"
      ]
    },
    {
      "cell_type": "code",
      "execution_count": null,
      "id": "5503930d-debf-40d0-b845-e00adc7ac40b",
      "metadata": {
        "id": "5503930d-debf-40d0-b845-e00adc7ac40b",
        "colab": {
          "base_uri": "https://localhost:8080/"
        },
        "outputId": "633df20c-ec80-49fa-a424-7d91e41aac8f"
      },
      "outputs": [
        {
          "output_type": "execute_result",
          "data": {
            "text/plain": [
              "0.1221439248345078"
            ]
          },
          "metadata": {},
          "execution_count": 72
        }
      ],
      "source": [
        "camden_trees_environmental[\"Gross Carbon Sequestration Per Year In Kilograms\"].isnull().mean()"
      ]
    },
    {
      "cell_type": "code",
      "execution_count": null,
      "id": "2a1ad19d-b9d9-4752-a876-c39121829f22",
      "metadata": {
        "id": "2a1ad19d-b9d9-4752-a876-c39121829f22",
        "colab": {
          "base_uri": "https://localhost:8080/"
        },
        "outputId": "fcc511e0-1124-4fa5-95d3-c64de1d3417d"
      },
      "outputs": [
        {
          "output_type": "execute_result",
          "data": {
            "text/plain": [
              "0.1221439248345078"
            ]
          },
          "metadata": {},
          "execution_count": 73
        }
      ],
      "source": [
        "camden_trees_environmental[\"Pollution Removal Per Year In Grams\"].isnull().mean()"
      ]
    },
    {
      "cell_type": "markdown",
      "id": "6d550cf1-defa-4c65-9fcf-7d334a0c8899",
      "metadata": {
        "id": "6d550cf1-defa-4c65-9fcf-7d334a0c8899"
      },
      "source": [
        "<hr/>"
      ]
    },
    {
      "cell_type": "markdown",
      "id": "8bda5350-317b-43c1-91b1-71aeedf06ed3",
      "metadata": {
        "id": "8bda5350-317b-43c1-91b1-71aeedf06ed3"
      },
      "source": [
        "\n",
        "Classify the columns as discrete or continuous.\n",
        "\n",
        "<div style=\"background-color:lemonchiffon; border:1px solid; padding:5px; margin:5px; font-weight:bold\"><font color=\"crimson\">\n",
        "TODO: Enter markdown below.\n",
        "    </font></div>\n"
      ]
    },
    {
      "cell_type": "markdown",
      "id": "e90ac26a-3015-491c-9c5d-a0d1b47c1f94",
      "metadata": {
        "id": "e90ac26a-3015-491c-9c5d-a0d1b47c1f94"
      },
      "source": [
        "ENTER MARKDOWN HERE - Columns are **continuous**"
      ]
    },
    {
      "cell_type": "markdown",
      "id": "1467aacd-ee75-46c9-b1d9-753c78869723",
      "metadata": {
        "id": "1467aacd-ee75-46c9-b1d9-753c78869723"
      },
      "source": [
        "<hr/>"
      ]
    },
    {
      "cell_type": "markdown",
      "id": "5edacbd1-2ef6-4719-acc7-2d8f630d4195",
      "metadata": {
        "id": "5edacbd1-2ef6-4719-acc7-2d8f630d4195"
      },
      "source": [
        "### 3.3 Further Inspect the Common Names Dataset\n",
        "Now repeat the above for the common names dataset.\n",
        "\n",
        "#### 3.3.a (Names) Counts of Values for String Type Columns \n",
        "For each string column in the common names dataset show the counts of the unique values.\n",
        "\n",
        "<div style=\"background-color:lemonchiffon; border:1px solid; padding:5px; margin:5px; font-weight:bold\"><font color=\"crimson\">\n",
        "<font color=\"crimson\">TODO: Enter your code below.  Use one code cell per column and then add a markdown cell after each one to classify the column.  Add as many cells as you need.</font>\n",
        "    </font></div>\n"
      ]
    },
    {
      "cell_type": "code",
      "execution_count": null,
      "id": "0c83c5e3-e84a-4e29-a05c-2c10b7d5dfb0",
      "metadata": {
        "id": "0c83c5e3-e84a-4e29-a05c-2c10b7d5dfb0",
        "colab": {
          "base_uri": "https://localhost:8080/"
        },
        "outputId": "8836a42b-0c30-4d0e-94e5-817079b3f764"
      },
      "outputs": [
        {
          "output_type": "execute_result",
          "data": {
            "text/plain": [
              "Cupressocyparis leylandii                             2\n",
              "Larix decidua                                         2\n",
              "Salix fragilis                                        2\n",
              "Alnus cordata                                         2\n",
              "Populus nigra                                         2\n",
              "                                                     ..\n",
              "Pyrus salicifolia 'Pendula'                           1\n",
              "Chamaecyparis lawsoniana 'unid                        1\n",
              "Platanus x hispanica Tremonia                         1\n",
              "Vacant Tree Pit (planned: Gymnocladus dioicus)        1\n",
              "Vacant Tree Pit (planned: Liquidambar styraciflua)    1\n",
              "Name: Scientific Name, Length: 560, dtype: int64"
            ]
          },
          "metadata": {},
          "execution_count": 75
        }
      ],
      "source": [
        "tree_common_names[\"Scientific Name\"].value_counts()"
      ]
    },
    {
      "cell_type": "markdown",
      "source": [
        "Scientific Name is **qualitative nominal**"
      ],
      "metadata": {
        "id": "px32rto-0GF1"
      },
      "id": "px32rto-0GF1"
    },
    {
      "cell_type": "code",
      "execution_count": null,
      "id": "ca5c98b7-a9c5-4ece-bb76-ed03a804525e",
      "metadata": {
        "id": "ca5c98b7-a9c5-4ece-bb76-ed03a804525e",
        "colab": {
          "base_uri": "https://localhost:8080/"
        },
        "outputId": "8b9d69ed-30d6-4bed-e80a-ed563bf8a160"
      },
      "outputs": [
        {
          "output_type": "execute_result",
          "data": {
            "text/plain": [
              "Cherry                         12\n",
              "Rowan                          10\n",
              "Magnolia                       10\n",
              "Vacant Tree Pit (planned: )    10\n",
              "Apple - Crab                    9\n",
              "                               ..\n",
              "Pittosporum                     1\n",
              "Birch - Purple                  1\n",
              "Maple - Column Norway           1\n",
              "Maple - Crimson King Norway     1\n",
              "Castlewellan gold               1\n",
              "Name: Common Name, Length: 431, dtype: int64"
            ]
          },
          "metadata": {},
          "execution_count": 76
        }
      ],
      "source": [
        "tree_common_names[\"Common Name\"].value_counts()"
      ]
    },
    {
      "cell_type": "markdown",
      "source": [
        "Common Name is **qualitative nominal**"
      ],
      "metadata": {
        "id": "7-96_mhu0KZY"
      },
      "id": "7-96_mhu0KZY"
    },
    {
      "cell_type": "markdown",
      "id": "2778e230-5042-42eb-b51a-022a1c9710cc",
      "metadata": {
        "id": "2778e230-5042-42eb-b51a-022a1c9710cc"
      },
      "source": [
        "<hr/>\n"
      ]
    },
    {
      "cell_type": "markdown",
      "id": "8b9a614c-0c3f-41f1-9b30-7259bcb3a2d3",
      "metadata": {
        "id": "8b9a614c-0c3f-41f1-9b30-7259bcb3a2d3"
      },
      "source": [
        "#### 3.3.b (Names) Descriptive Stats for Numeric Type Columns\n",
        "There are no numeric columns."
      ]
    },
    {
      "cell_type": "markdown",
      "id": "8641574f-7ee8-4cac-98d9-4c33a54891af",
      "metadata": {
        "tags": [],
        "id": "8641574f-7ee8-4cac-98d9-4c33a54891af"
      },
      "source": [
        "## Task 4: Identify Missing Values\n",
        "Find the number of missing values in each column.  Missing values can indicate data quality issues.  Missing are nulls in our data.  But sometimes zero values indicate missing values.  For example, a zero value for a tree height is clearly not a valid valid, so should be considered missing.\n",
        "\n",
        "Use these functions to find rows that have missing and zero values:\n",
        "\n",
        "- [pandas.DataFrame.isnull](https://pandas.pydata.org/docs/reference/api/pandas.DataFrame.isnull.html)\n",
        "- [pandas.DataFrame.isin](https://pandas.pydata.org/docs/reference/api/pandas.DataFrame.isin.html)\n",
        "- [pandas.DataFrame.mean](https://pandas.pydata.org/pandas-docs/stable/reference/api/pandas.DataFrame.mean.html)\n",
        "- [pandas.DataFrame.sum](https://pandas.pydata.org/docs/reference/api/pandas.DataFrame.sum.html)\n",
        "\n",
        "As you go through this task, think about the possible impact of the missing values on the ability of the data to deliver on the council's initiatives.  There is no absolute answer to \"how many missing values is too many\".  It depends on the context of what you intend to do with the data.  Try to make an interpretation based on your understanding of the requirements."
      ]
    },
    {
      "cell_type": "markdown",
      "id": "5ee7f2e0-20bf-4249-9f5d-57ab6cc0fa30",
      "metadata": {
        "id": "5ee7f2e0-20bf-4249-9f5d-57ab6cc0fa30"
      },
      "source": [
        "### 4.1 Missing Values for the Trees Dataset\n",
        "I've shown you how to do this for the trees dataset."
      ]
    },
    {
      "cell_type": "code",
      "execution_count": null,
      "id": "0bd1e712-9211-44f8-a22c-fb1df46c1961",
      "metadata": {
        "id": "0bd1e712-9211-44f8-a22c-fb1df46c1961",
        "colab": {
          "base_uri": "https://localhost:8080/"
        },
        "outputId": "889e12ee-accc-4047-d8d3-7d6c14d1325e"
      },
      "outputs": [
        {
          "output_type": "execute_result",
          "data": {
            "text/plain": [
              "Identifier                                  0.000000\n",
              "Number Of Trees                             0.093841\n",
              "Site Name                                   0.000000\n",
              "Contract Area                               0.000000\n",
              "Scientific Name                             0.000000\n",
              "Inspection Date                             1.710459\n",
              "Inspection Due Date                         1.710459\n",
              "Height In Metres                            1.868282\n",
              "Spread In Metres                            1.868282\n",
              "Diameter In Centimetres At Breast Height    1.872547\n",
              "Ward Code                                   0.963999\n",
              "Ward Name                                   0.963999\n",
              "Easting                                     0.000000\n",
              "Northing                                    0.000000\n",
              "Longitude                                   0.238867\n",
              "Latitude                                    0.238867\n",
              "Location                                    0.238867\n",
              "dtype: float64"
            ]
          },
          "metadata": {},
          "execution_count": 42
        }
      ],
      "source": [
        "# Percentage of null values\n",
        "trees.isnull().mean()*100"
      ]
    },
    {
      "cell_type": "code",
      "execution_count": null,
      "id": "afbf5093-5716-440a-8f89-eeb6a5d66662",
      "metadata": {
        "id": "afbf5093-5716-440a-8f89-eeb6a5d66662",
        "colab": {
          "base_uri": "https://localhost:8080/"
        },
        "outputId": "997f2440-8290-4828-ac97-a49f0edce9cb"
      },
      "outputs": [
        {
          "output_type": "execute_result",
          "data": {
            "text/plain": [
              "Identifier                                    0\n",
              "Number Of Trees                              22\n",
              "Site Name                                     0\n",
              "Contract Area                                 0\n",
              "Scientific Name                               0\n",
              "Inspection Date                             401\n",
              "Inspection Due Date                         401\n",
              "Height In Metres                            438\n",
              "Spread In Metres                            438\n",
              "Diameter In Centimetres At Breast Height    439\n",
              "Ward Code                                   226\n",
              "Ward Name                                   226\n",
              "Easting                                       0\n",
              "Northing                                      0\n",
              "Longitude                                    56\n",
              "Latitude                                     56\n",
              "Location                                     56\n",
              "dtype: int64"
            ]
          },
          "metadata": {},
          "execution_count": 43
        }
      ],
      "source": [
        "# Number of null values\n",
        "trees.isnull().sum()"
      ]
    },
    {
      "cell_type": "code",
      "execution_count": null,
      "id": "cde99d54-297d-41d8-954d-94ba2e08a2c5",
      "metadata": {
        "id": "cde99d54-297d-41d8-954d-94ba2e08a2c5",
        "colab": {
          "base_uri": "https://localhost:8080/"
        },
        "outputId": "2829c0ce-af83-46f8-feae-6ce340d89b95"
      },
      "outputs": [
        {
          "output_type": "execute_result",
          "data": {
            "text/plain": [
              "Identifier                                  0.000000\n",
              "Number Of Trees                             0.396690\n",
              "Site Name                                   0.000000\n",
              "Contract Area                               0.000000\n",
              "Scientific Name                             0.000000\n",
              "Inspection Date                             0.000000\n",
              "Inspection Due Date                         0.000000\n",
              "Height In Metres                            0.733663\n",
              "Spread In Metres                            1.181539\n",
              "Diameter In Centimetres At Breast Height    1.164477\n",
              "Ward Code                                   0.000000\n",
              "Ward Name                                   0.000000\n",
              "Easting                                     0.238867\n",
              "Northing                                    0.238867\n",
              "Longitude                                   0.000000\n",
              "Latitude                                    0.000000\n",
              "Location                                    0.000000\n",
              "dtype: float64"
            ]
          },
          "metadata": {},
          "execution_count": 44
        }
      ],
      "source": [
        "# Percentage of zero values\n",
        "trees.isin([0]).mean()*100"
      ]
    },
    {
      "cell_type": "code",
      "execution_count": null,
      "id": "d0947b5d-8978-46d8-8d57-252d29c25ca8",
      "metadata": {
        "id": "d0947b5d-8978-46d8-8d57-252d29c25ca8",
        "colab": {
          "base_uri": "https://localhost:8080/"
        },
        "outputId": "abcb0a1d-96ab-4a22-d6eb-1031afc9f26c"
      },
      "outputs": [
        {
          "output_type": "execute_result",
          "data": {
            "text/plain": [
              "Identifier                                    0\n",
              "Number Of Trees                              93\n",
              "Site Name                                     0\n",
              "Contract Area                                 0\n",
              "Scientific Name                               0\n",
              "Inspection Date                               0\n",
              "Inspection Due Date                           0\n",
              "Height In Metres                            172\n",
              "Spread In Metres                            277\n",
              "Diameter In Centimetres At Breast Height    273\n",
              "Ward Code                                     0\n",
              "Ward Name                                     0\n",
              "Easting                                      56\n",
              "Northing                                     56\n",
              "Longitude                                     0\n",
              "Latitude                                      0\n",
              "Location                                      0\n",
              "dtype: int64"
            ]
          },
          "metadata": {},
          "execution_count": 45
        }
      ],
      "source": [
        "# Number of zero values\n",
        "trees.isin([0]).sum()"
      ]
    },
    {
      "cell_type": "code",
      "execution_count": null,
      "id": "de03ea2b-8ea2-48ff-b620-d9fd16290c7b",
      "metadata": {
        "id": "de03ea2b-8ea2-48ff-b620-d9fd16290c7b",
        "colab": {
          "base_uri": "https://localhost:8080/"
        },
        "outputId": "bb42890c-50c9-4313-94a2-d24966e34e5d"
      },
      "outputs": [
        {
          "output_type": "execute_result",
          "data": {
            "text/plain": [
              "Identifier                                  0.000000\n",
              "Number Of Trees                             0.004905\n",
              "Site Name                                   0.000000\n",
              "Contract Area                               0.000000\n",
              "Scientific Name                             0.000000\n",
              "Inspection Date                             0.017105\n",
              "Inspection Due Date                         0.017105\n",
              "Height In Metres                            0.026019\n",
              "Spread In Metres                            0.030498\n",
              "Diameter In Centimetres At Breast Height    0.030370\n",
              "Ward Code                                   0.009640\n",
              "Ward Name                                   0.009640\n",
              "Easting                                     0.002389\n",
              "Northing                                    0.002389\n",
              "Longitude                                   0.002389\n",
              "Latitude                                    0.002389\n",
              "Location                                    0.002389\n",
              "dtype: float64"
            ]
          },
          "metadata": {},
          "execution_count": 46
        }
      ],
      "source": [
        "# Percentage of null and zero values\n",
        "(trees.isnull().sum() + trees.isin([0]).sum())/trees.shape[0]"
      ]
    },
    {
      "cell_type": "code",
      "execution_count": null,
      "id": "f43e38e0-00c6-4ebd-9899-8f91557becb7",
      "metadata": {
        "id": "f43e38e0-00c6-4ebd-9899-8f91557becb7",
        "colab": {
          "base_uri": "https://localhost:8080/"
        },
        "outputId": "7fc42952-9f59-4831-ec82-2a36cbc8871f"
      },
      "outputs": [
        {
          "output_type": "execute_result",
          "data": {
            "text/plain": [
              "Identifier                                    0\n",
              "Number Of Trees                             115\n",
              "Site Name                                     0\n",
              "Contract Area                                 0\n",
              "Scientific Name                               0\n",
              "Inspection Date                             401\n",
              "Inspection Due Date                         401\n",
              "Height In Metres                            610\n",
              "Spread In Metres                            715\n",
              "Diameter In Centimetres At Breast Height    712\n",
              "Ward Code                                   226\n",
              "Ward Name                                   226\n",
              "Easting                                      56\n",
              "Northing                                     56\n",
              "Longitude                                    56\n",
              "Latitude                                     56\n",
              "Location                                     56\n",
              "dtype: int64"
            ]
          },
          "metadata": {},
          "execution_count": 47
        }
      ],
      "source": [
        "# Number of null and zero values\n",
        "(trees.isnull().sum() + trees.isin([0]).sum())"
      ]
    },
    {
      "cell_type": "markdown",
      "id": "a7416001-4d63-4bd5-9bea-2412d322ed88",
      "metadata": {
        "id": "a7416001-4d63-4bd5-9bea-2412d322ed88"
      },
      "source": [
        "### 4.2 Missing Values for the Environmental Dataset\n",
        "Now repeat the missing values check for the environmental dataset.\n",
        "\n",
        "<div style=\"background-color:lemonchiffon; border:1px solid; padding:5px; margin:5px; font-weight:bold\"><font color=\"crimson\">\n",
        "TODO: Complete the following code cells\n",
        "    </font></div>"
      ]
    },
    {
      "cell_type": "code",
      "execution_count": null,
      "id": "45971fda-0b80-4652-bc63-ed8baeaad087",
      "metadata": {
        "id": "45971fda-0b80-4652-bc63-ed8baeaad087",
        "colab": {
          "base_uri": "https://localhost:8080/"
        },
        "outputId": "08ce7e2c-d554-4727-a24d-5582b4ff2d2f"
      },
      "outputs": [
        {
          "output_type": "execute_result",
          "data": {
            "text/plain": [
              "Identifier                                           0.000000\n",
              "Maturity                                             1.746744\n",
              "Physiological Condition                              2.015802\n",
              "Tree Set To Be Removed                               0.000000\n",
              "Removal Reason                                      99.641256\n",
              "Capital Asset Value For Amenity Trees                1.849242\n",
              "Carbon Storage In Kilograms                         12.214392\n",
              "Gross Carbon Sequestration Per Year In Kilograms    12.214392\n",
              "Pollution Removal Per Year In Grams                 12.214392\n",
              "dtype: float64"
            ]
          },
          "metadata": {},
          "execution_count": 78
        }
      ],
      "source": [
        "# Percentage of null values\n",
        "camden_trees_environmental.isnull().mean()*100"
      ]
    },
    {
      "cell_type": "code",
      "execution_count": null,
      "id": "35471141-aca6-453d-afc8-babde8975f14",
      "metadata": {
        "id": "35471141-aca6-453d-afc8-babde8975f14",
        "colab": {
          "base_uri": "https://localhost:8080/"
        },
        "outputId": "16816e82-a424-4549-c4fc-f03baf36f173"
      },
      "outputs": [
        {
          "output_type": "execute_result",
          "data": {
            "text/plain": [
              "Identifier                                              0\n",
              "Maturity                                              409\n",
              "Physiological Condition                               472\n",
              "Tree Set To Be Removed                                  0\n",
              "Removal Reason                                      23331\n",
              "Capital Asset Value For Amenity Trees                 433\n",
              "Carbon Storage In Kilograms                          2860\n",
              "Gross Carbon Sequestration Per Year In Kilograms     2860\n",
              "Pollution Removal Per Year In Grams                  2860\n",
              "dtype: int64"
            ]
          },
          "metadata": {},
          "execution_count": 79
        }
      ],
      "source": [
        "# Number of null values\n",
        "camden_trees_environmental.isnull().sum()"
      ]
    },
    {
      "cell_type": "code",
      "execution_count": null,
      "id": "333f86d0-8443-48b5-ba17-6bb91cfd1190",
      "metadata": {
        "id": "333f86d0-8443-48b5-ba17-6bb91cfd1190",
        "colab": {
          "base_uri": "https://localhost:8080/"
        },
        "outputId": "699f72ae-d100-4b3f-d6cb-9486c28c92b3"
      },
      "outputs": [
        {
          "output_type": "execute_result",
          "data": {
            "text/plain": [
              "Identifier                                          0.000000\n",
              "Maturity                                            0.000000\n",
              "Physiological Condition                             0.000000\n",
              "Tree Set To Be Removed                              0.000000\n",
              "Removal Reason                                      0.000000\n",
              "Capital Asset Value For Amenity Trees               1.183002\n",
              "Carbon Storage In Kilograms                         0.000000\n",
              "Gross Carbon Sequestration Per Year In Kilograms    0.025625\n",
              "Pollution Removal Per Year In Grams                 0.000000\n",
              "dtype: float64"
            ]
          },
          "metadata": {},
          "execution_count": 80
        }
      ],
      "source": [
        "# Percentage of zero values\n",
        "camden_trees_environmental.isin([0]).mean()*100"
      ]
    },
    {
      "cell_type": "code",
      "execution_count": null,
      "id": "809d3c20-113f-4665-b18d-cbdaa07b613c",
      "metadata": {
        "id": "809d3c20-113f-4665-b18d-cbdaa07b613c",
        "colab": {
          "base_uri": "https://localhost:8080/"
        },
        "outputId": "79b463ce-865d-42a0-c7d9-9309f09c9ef1"
      },
      "outputs": [
        {
          "output_type": "execute_result",
          "data": {
            "text/plain": [
              "Identifier                                            0\n",
              "Maturity                                              0\n",
              "Physiological Condition                               0\n",
              "Tree Set To Be Removed                                0\n",
              "Removal Reason                                        0\n",
              "Capital Asset Value For Amenity Trees               277\n",
              "Carbon Storage In Kilograms                           0\n",
              "Gross Carbon Sequestration Per Year In Kilograms      6\n",
              "Pollution Removal Per Year In Grams                   0\n",
              "dtype: int64"
            ]
          },
          "metadata": {},
          "execution_count": 81
        }
      ],
      "source": [
        "# Number of zero values\n",
        "camden_trees_environmental.isin([0]).sum()"
      ]
    },
    {
      "cell_type": "code",
      "execution_count": null,
      "id": "bbada47a-e7aa-43be-bfca-624feda60cb7",
      "metadata": {
        "id": "bbada47a-e7aa-43be-bfca-624feda60cb7",
        "colab": {
          "base_uri": "https://localhost:8080/"
        },
        "outputId": "872a0803-d4e4-47ae-b66c-c07a60849589"
      },
      "outputs": [
        {
          "output_type": "execute_result",
          "data": {
            "text/plain": [
              "Identifier                                          0.000000\n",
              "Maturity                                            0.017467\n",
              "Physiological Condition                             0.020158\n",
              "Tree Set To Be Removed                              0.000000\n",
              "Removal Reason                                      0.996413\n",
              "Capital Asset Value For Amenity Trees               0.030322\n",
              "Carbon Storage In Kilograms                         0.122144\n",
              "Gross Carbon Sequestration Per Year In Kilograms    0.122400\n",
              "Pollution Removal Per Year In Grams                 0.122144\n",
              "dtype: float64"
            ]
          },
          "metadata": {},
          "execution_count": 83
        }
      ],
      "source": [
        "# Percentage of null and zero values\n",
        "(camden_trees_environmental.isnull().sum() + camden_trees_environmental.isin([0]).sum())/camden_trees_environmental.shape[0]"
      ]
    },
    {
      "cell_type": "code",
      "execution_count": null,
      "id": "27dcd851-d4a3-4014-9167-9330c033738d",
      "metadata": {
        "id": "27dcd851-d4a3-4014-9167-9330c033738d",
        "colab": {
          "base_uri": "https://localhost:8080/"
        },
        "outputId": "8cb6376a-bc74-486d-eb01-8bd90e5775de"
      },
      "outputs": [
        {
          "output_type": "execute_result",
          "data": {
            "text/plain": [
              "Identifier                                              0\n",
              "Maturity                                              409\n",
              "Physiological Condition                               472\n",
              "Tree Set To Be Removed                                  0\n",
              "Removal Reason                                      23331\n",
              "Capital Asset Value For Amenity Trees                 710\n",
              "Carbon Storage In Kilograms                          2860\n",
              "Gross Carbon Sequestration Per Year In Kilograms     2866\n",
              "Pollution Removal Per Year In Grams                  2860\n",
              "dtype: int64"
            ]
          },
          "metadata": {},
          "execution_count": 84
        }
      ],
      "source": [
        "# Number of null and zero values\n",
        "(camden_trees_environmental.isnull().sum() + camden_trees_environmental.isin([0]).sum())"
      ]
    },
    {
      "cell_type": "markdown",
      "id": "cc5e09d4-fc27-454c-8462-f918e46a241e",
      "metadata": {
        "id": "cc5e09d4-fc27-454c-8462-f918e46a241e"
      },
      "source": [
        "<hr/>"
      ]
    },
    {
      "cell_type": "markdown",
      "id": "86bc5c0f-498e-47f1-b993-5ae66b325fc1",
      "metadata": {
        "id": "86bc5c0f-498e-47f1-b993-5ae66b325fc1"
      },
      "source": [
        "### 4.3 Missing Values for the Common Names Dataset\n",
        "Now repeat the missing values check for the common names dataset.\n",
        "\n",
        "<div style=\"background-color:lemonchiffon; border:1px solid; padding:5px; margin:5px; font-weight:bold\"><font color=\"crimson\">\n",
        "TODO: Enter your code below.  Add as many cells as you need.\n",
        "    </font></div>"
      ]
    },
    {
      "cell_type": "code",
      "execution_count": null,
      "id": "84581b31-98a4-4b20-a7b3-af1685cf0131",
      "metadata": {
        "id": "84581b31-98a4-4b20-a7b3-af1685cf0131",
        "colab": {
          "base_uri": "https://localhost:8080/"
        },
        "outputId": "70064359-5c5d-43d6-d9a4-08cd41b603af"
      },
      "outputs": [
        {
          "output_type": "execute_result",
          "data": {
            "text/plain": [
              "Scientific Name    0.000000\n",
              "Common Name        4.074703\n",
              "dtype: float64"
            ]
          },
          "metadata": {},
          "execution_count": 85
        }
      ],
      "source": [
        "# Percentage of null values\n",
        "tree_common_names.isnull().mean()*100"
      ]
    },
    {
      "cell_type": "code",
      "source": [
        "# Number of null values\n",
        "tree_common_names.isnull().sum()"
      ],
      "metadata": {
        "colab": {
          "base_uri": "https://localhost:8080/"
        },
        "id": "xstzW0S-JTOO",
        "outputId": "a45691bb-5fbb-4d63-ce24-33afc10bc976"
      },
      "id": "xstzW0S-JTOO",
      "execution_count": null,
      "outputs": [
        {
          "output_type": "execute_result",
          "data": {
            "text/plain": [
              "Scientific Name     0\n",
              "Common Name        24\n",
              "dtype: int64"
            ]
          },
          "metadata": {},
          "execution_count": 86
        }
      ]
    },
    {
      "cell_type": "code",
      "execution_count": null,
      "id": "b881b1d4-661d-46f6-943a-a5037f98facb",
      "metadata": {
        "id": "b881b1d4-661d-46f6-943a-a5037f98facb",
        "colab": {
          "base_uri": "https://localhost:8080/"
        },
        "outputId": "b8ba97b2-6470-4367-982f-6f591608c2bb"
      },
      "outputs": [
        {
          "output_type": "execute_result",
          "data": {
            "text/plain": [
              "Scientific Name    0.0\n",
              "Common Name        0.0\n",
              "dtype: float64"
            ]
          },
          "metadata": {},
          "execution_count": 87
        }
      ],
      "source": [
        "# Percentage of zero values\n",
        "tree_common_names.isin([0]).mean()*100"
      ]
    },
    {
      "cell_type": "code",
      "source": [
        "# Number of zero values\n",
        "tree_common_names.isin([0]).sum()"
      ],
      "metadata": {
        "colab": {
          "base_uri": "https://localhost:8080/"
        },
        "id": "FRpXnQ2SJgI-",
        "outputId": "edb85b4a-4753-4c7b-9fe2-5a990bf058a7"
      },
      "id": "FRpXnQ2SJgI-",
      "execution_count": null,
      "outputs": [
        {
          "output_type": "execute_result",
          "data": {
            "text/plain": [
              "Scientific Name    0\n",
              "Common Name        0\n",
              "dtype: int64"
            ]
          },
          "metadata": {},
          "execution_count": 88
        }
      ]
    },
    {
      "cell_type": "code",
      "source": [
        "# Percentage of null and zero values\n",
        "(tree_common_names.isnull().sum() + tree_common_names.isin([0]).sum())/tree_common_names.shape[0]"
      ],
      "metadata": {
        "colab": {
          "base_uri": "https://localhost:8080/"
        },
        "id": "ZH_Ks-vVJwZ4",
        "outputId": "34fc8982-753c-4aa3-add6-1642b7021ead"
      },
      "id": "ZH_Ks-vVJwZ4",
      "execution_count": null,
      "outputs": [
        {
          "output_type": "execute_result",
          "data": {
            "text/plain": [
              "Scientific Name    0.000000\n",
              "Common Name        0.040747\n",
              "dtype: float64"
            ]
          },
          "metadata": {},
          "execution_count": 31
        }
      ]
    },
    {
      "cell_type": "code",
      "source": [
        "# Number of null and zero values\n",
        "(tree_common_names.isnull().sum() + tree_common_names.isin([0]).sum())"
      ],
      "metadata": {
        "colab": {
          "base_uri": "https://localhost:8080/"
        },
        "id": "4gv96KeWJk4d",
        "outputId": "61cced96-743f-49a6-e046-fe5bc4e652df"
      },
      "id": "4gv96KeWJk4d",
      "execution_count": null,
      "outputs": [
        {
          "output_type": "execute_result",
          "data": {
            "text/plain": [
              "Scientific Name     0\n",
              "Common Name        24\n",
              "dtype: int64"
            ]
          },
          "metadata": {},
          "execution_count": 30
        }
      ]
    },
    {
      "cell_type": "markdown",
      "id": "fe30f689-88b0-4526-abae-1e19a320acf9",
      "metadata": {
        "id": "fe30f689-88b0-4526-abae-1e19a320acf9"
      },
      "source": [
        "<hr/>\n",
        "\n",
        "### 4.4 Observations\n",
        "\n",
        "<div style=\"background-color:lemonchiffon; border:1px solid; padding:5px; margin:5px; font-weight:bold\"><font color=\"crimson\">\n",
        "TODO: Write down your observation about the state of missing values below and comment on the extent to which this might impact the ability to deliver on the council's initiatives.\n",
        "    </font></div>\n"
      ]
    },
    {
      "cell_type": "markdown",
      "id": "ec7ce6ee-8fd6-446a-a63a-08babd1e0390",
      "metadata": {
        "id": "ec7ce6ee-8fd6-446a-a63a-08babd1e0390"
      },
      "source": [
        "\n",
        "**Observations**\n",
        "\n",
        "Trees Dataset\n",
        "\n",
        "**Height in Metres**, **Spread in Metres** and **Diameter in cm at Breast height** had high instances of:\n",
        "\n",
        "*   Percentage of missing values\n",
        "*   Number of null values\n",
        "*   Percentage of 0 values\n",
        "*   Number of 0 values\n",
        "*   Number of Null and 0 values\n",
        "\n",
        "This can be traced to Inspection Date and Inspection Due Date, which also scored high in the above metrics.\n",
        "\n",
        "Considering Council goal of using this to provide public tree data, tree measurements have high levels of inaccuracy.\n",
        "\n",
        "Environmental \n",
        "\n",
        "Removal Reason has 99% of null values, potentially due to missing inspection data. \n",
        "\n",
        "Moreover: \n",
        "*   Carbon Storage In Kilograms;  \n",
        "*   Gross Carbon Sequestration Per Year In Kilograms;\n",
        "* Pollution Removal Per Year In Grams;\n",
        "\n",
        "All have a high number (2860) of zero and null values. \n",
        "\n",
        "The above factors combined would compromise the accuracy of the planned Environment Report."
      ]
    },
    {
      "cell_type": "markdown",
      "id": "a4094437-06e3-4376-9c94-14e30a910c36",
      "metadata": {
        "id": "a4094437-06e3-4376-9c94-14e30a910c36"
      },
      "source": [
        "\n",
        "<hr/>"
      ]
    },
    {
      "cell_type": "markdown",
      "id": "33d42c68-e660-4892-b2de-0552a062c7ff",
      "metadata": {
        "tags": [],
        "id": "33d42c68-e660-4892-b2de-0552a062c7ff"
      },
      "source": [
        "## Task 5: Identify Outliers in the Trees Dimensions\n",
        "Outliers are values that are so unusual they are possibly incorrect!  We can use a boxplot to show the spread of data and any outliers.  Read the following section if you are unfamiliar with them:\n",
        "\n",
        "- [Box plots](https://openclassrooms.com/en/courses/6037301-perform-an-initial-data-analysis/6052306-calculate-the-value-spread-in-your-data#/id/r-6133902)\n",
        "\n",
        "Any circles represent what the boxplot considers outliers, but some of these might just be correct but extreme values.  We want to only highlight really *crazy* values which are clearly incorrect.\n",
        "\n",
        "We can use this function to draw boxplots:\n",
        "\n",
        "- [pandas.DataFrame.boxplot](https://pandas.pydata.org/pandas-docs/stable/reference/api/pandas.DataFrame.plot.html)\n",
        "\n",
        "Once we have found if there are outliers, it would be nice to show the rows containing the outliers.  The technique for filtering Pandas DataFrames is described here:\n",
        "\n",
        "- [Filtering Pandas DataFrames](https://pandas.pydata.org/pandas-docs/stable/getting_started/intro_tutorials/03_subset_data.html)\n",
        "\n",
        "The filtering technique creates a mask of rows that we want to select, e.g:\n",
        "\n",
        "`mask = df['mycolumn'] > 500`\n",
        "\n",
        "and then uses the mask to select rows:\n",
        "\n",
        "`df[mask]`\n",
        "\n",
        "Note that there is no absolute definition of what \"crazy\" means here.  You will need to make some judgements based on your understanding of the world (or specifically the world of trees in Camden!)."
      ]
    },
    {
      "cell_type": "markdown",
      "id": "52de8466-d0ed-4c29-af9a-bf7c79b80c09",
      "metadata": {
        "id": "52de8466-d0ed-4c29-af9a-bf7c79b80c09"
      },
      "source": [
        "### 5.1 Outliers for Height\n",
        "Find the outliers in the tree height column.\n",
        "<div style=\"background-color:lemonchiffon; border:1px solid; padding:5px; margin:5px; font-weight:bold\"><font color=\"crimson\">\n",
        "TODO: Complete the following code cells\n",
        "    </font></div>"
      ]
    },
    {
      "cell_type": "code",
      "execution_count": null,
      "id": "ecaa87b9-9558-4fd6-8383-3a8046d26a5c",
      "metadata": {
        "id": "ecaa87b9-9558-4fd6-8383-3a8046d26a5c",
        "colab": {
          "base_uri": "https://localhost:8080/",
          "height": 447
        },
        "outputId": "e044b581-7bc2-4f5b-8110-9116a6393f63"
      },
      "outputs": [
        {
          "output_type": "execute_result",
          "data": {
            "text/plain": [
              "<Axes: >"
            ]
          },
          "metadata": {},
          "execution_count": 30
        },
        {
          "output_type": "display_data",
          "data": {
            "text/plain": [
              "<Figure size 640x480 with 1 Axes>"
            ],
            "image/png": "[encoded data removed]"
          },
          "metadata": {}
        }
      ],
      "source": [
        "# Use a boxplot to find the outliers\n",
        "trees.boxplot(\"Height In Metres\")"
      ]
    },
    {
      "cell_type": "code",
      "execution_count": null,
      "id": "7a614957-0a50-41f2-bebd-ca48e3660674",
      "metadata": {
        "id": "7a614957-0a50-41f2-bebd-ca48e3660674",
        "colab": {
          "base_uri": "https://localhost:8080/",
          "height": 128
        },
        "outputId": "20114c8e-bdf5-43fe-9286-d7faeea7e6e8"
      },
      "outputs": [
        {
          "output_type": "execute_result",
          "data": {
            "text/plain": [
              "Empty DataFrame\n",
              "Columns: [Identifier, Number Of Trees, Site Name, Contract Area, Scientific Name, Inspection Date, Inspection Due Date, Height In Metres, Spread In Metres, Diameter In Centimetres At Breast Height, Ward Code, Ward Name, Easting, Northing, Longitude, Latitude, Location]\n",
              "Index: []"
            ],
            "text/html": [
              "\n",
              "  <div id=\"df-55f776d5-5110-4cc0-872f-51c60da84800\">\n",
              "    <div class=\"colab-df-container\">\n",
              "      <div>\n",
              "<style scoped>\n",
              "    .dataframe tbody tr th:only-of-type {\n",
              "        vertical-align: middle;\n",
              "    }\n",
              "\n",
              "    .dataframe tbody tr th {\n",
              "        vertical-align: top;\n",
              "    }\n",
              "\n",
              "    .dataframe thead th {\n",
              "        text-align: right;\n",
              "    }\n",
              "</style>\n",
              "<table border=\"1\" class=\"dataframe\">\n",
              "  <thead>\n",
              "    <tr style=\"text-align: right;\">\n",
              "      <th></th>\n",
              "      <th>Identifier</th>\n",
              "      <th>Number Of Trees</th>\n",
              "      <th>Site Name</th>\n",
              "      <th>Contract Area</th>\n",
              "      <th>Scientific Name</th>\n",
              "      <th>Inspection Date</th>\n",
              "      <th>Inspection Due Date</th>\n",
              "      <th>Height In Metres</th>\n",
              "      <th>Spread In Metres</th>\n",
              "      <th>Diameter In Centimetres At Breast Height</th>\n",
              "      <th>Ward Code</th>\n",
              "      <th>Ward Name</th>\n",
              "      <th>Easting</th>\n",
              "      <th>Northing</th>\n",
              "      <th>Longitude</th>\n",
              "      <th>Latitude</th>\n",
              "      <th>Location</th>\n",
              "    </tr>\n",
              "  </thead>\n",
              "  <tbody>\n",
              "  </tbody>\n",
              "</table>\n",
              "</div>\n",
              "      <button class=\"colab-df-convert\" onclick=\"convertToInteractive('df-55f776d5-5110-4cc0-872f-51c60da84800')\"\n",
              "              title=\"Convert this dataframe to an interactive table.\"\n",
              "              style=\"display:none;\">\n",
              "        \n",
              "  <svg xmlns=\"http://www.w3.org/2000/svg\" height=\"24px\"viewBox=\"0 0 24 24\"\n",
              "       width=\"24px\">\n",
              "    <path d=\"M0 0h24v24H0V0z\" fill=\"none\"/>\n",
              "    <path d=\"M18.56 5.44l.94 2.06.94-2.06 2.06-.94-2.06-.94-.94-2.06-.94 2.06-2.06.94zm-11 1L8.5 8.5l.94-2.06 2.06-.94-2.06-.94L8.5 2.5l-.94 2.06-2.06.94zm10 10l.94 2.06.94-2.06 2.06-.94-2.06-.94-.94-2.06-.94 2.06-2.06.94z\"/><path d=\"M17.41 7.96l-1.37-1.37c-.4-.4-.92-.59-1.43-.59-.52 0-1.04.2-1.43.59L10.3 9.45l-7.72 7.72c-.78.78-.78 2.05 0 2.83L4 21.41c.39.39.9.59 1.41.59.51 0 1.02-.2 1.41-.59l7.78-7.78 2.81-2.81c.8-.78.8-2.07 0-2.86zM5.41 20L4 18.59l7.72-7.72 1.47 1.35L5.41 20z\"/>\n",
              "  </svg>\n",
              "      </button>\n",
              "      \n",
              "  <style>\n",
              "    .colab-df-container {\n",
              "      display:flex;\n",
              "      flex-wrap:wrap;\n",
              "      gap: 12px;\n",
              "    }\n",
              "\n",
              "    .colab-df-convert {\n",
              "      background-color: #E8F0FE;\n",
              "      border: none;\n",
              "      border-radius: 50%;\n",
              "      cursor: pointer;\n",
              "      display: none;\n",
              "      fill: #1967D2;\n",
              "      height: 32px;\n",
              "      padding: 0 0 0 0;\n",
              "      width: 32px;\n",
              "    }\n",
              "\n",
              "    .colab-df-convert:hover {\n",
              "      background-color: #E2EBFA;\n",
              "      box-shadow: 0px 1px 2px rgba(60, 64, 67, 0.3), 0px 1px 3px 1px rgba(60, 64, 67, 0.15);\n",
              "      fill: #174EA6;\n",
              "    }\n",
              "\n",
              "    [theme=dark] .colab-df-convert {\n",
              "      background-color: #3B4455;\n",
              "      fill: #D2E3FC;\n",
              "    }\n",
              "\n",
              "    [theme=dark] .colab-df-convert:hover {\n",
              "      background-color: #434B5C;\n",
              "      box-shadow: 0px 1px 3px 1px rgba(0, 0, 0, 0.15);\n",
              "      filter: drop-shadow(0px 1px 2px rgba(0, 0, 0, 0.3));\n",
              "      fill: #FFFFFF;\n",
              "    }\n",
              "  </style>\n",
              "\n",
              "      <script>\n",
              "        const buttonEl =\n",
              "          document.querySelector('#df-55f776d5-5110-4cc0-872f-51c60da84800 button.colab-df-convert');\n",
              "        buttonEl.style.display =\n",
              "          google.colab.kernel.accessAllowed ? 'block' : 'none';\n",
              "\n",
              "        async function convertToInteractive(key) {\n",
              "          const element = document.querySelector('#df-55f776d5-5110-4cc0-872f-51c60da84800');\n",
              "          const dataTable =\n",
              "            await google.colab.kernel.invokeFunction('convertToInteractive',\n",
              "                                                     [key], {});\n",
              "          if (!dataTable) return;\n",
              "\n",
              "          const docLinkHtml = 'Like what you see? Visit the ' +\n",
              "            '<a target=\"_blank\" href=https://colab.research.google.com/notebooks/data_table.ipynb>data table notebook</a>'\n",
              "            + ' to learn more about interactive tables.';\n",
              "          element.innerHTML = '';\n",
              "          dataTable['output_type'] = 'display_data';\n",
              "          await google.colab.output.renderOutput(dataTable, element);\n",
              "          const docLink = document.createElement('div');\n",
              "          docLink.innerHTML = docLinkHtml;\n",
              "          element.appendChild(docLink);\n",
              "        }\n",
              "      </script>\n",
              "    </div>\n",
              "  </div>\n",
              "  "
            ]
          },
          "metadata": {},
          "execution_count": 45
        }
      ],
      "source": [
        "# Select the crazy outlier rows\n",
        "mask = trees[\"Height In Metres\"] > 500\n",
        "trees[mask]"
      ]
    },
    {
      "cell_type": "code",
      "source": [
        "HeightInMetres = trees[\"Height In Metres\"]\n",
        "\n",
        "HeightInMetres.head()"
      ],
      "metadata": {
        "colab": {
          "base_uri": "https://localhost:8080/"
        },
        "id": "OPVgZDUffKmq",
        "outputId": "4225342a-94fb-4e60-a21b-03bdf4f86d74"
      },
      "id": "OPVgZDUffKmq",
      "execution_count": null,
      "outputs": [
        {
          "output_type": "execute_result",
          "data": {
            "text/plain": [
              "0     NaN\n",
              "1     NaN\n",
              "2     5.0\n",
              "3     4.0\n",
              "4    14.0\n",
              "Name: Height In Metres, dtype: float64"
            ]
          },
          "metadata": {},
          "execution_count": 52
        }
      ]
    },
    {
      "cell_type": "markdown",
      "id": "c3e7ff2b-b69c-4095-a20d-bd6d2df1e68a",
      "metadata": {
        "id": "c3e7ff2b-b69c-4095-a20d-bd6d2df1e68a"
      },
      "source": [
        "<hr/>"
      ]
    },
    {
      "cell_type": "markdown",
      "id": "f4d3025c-4a29-42e3-8821-8df2d8daa5e0",
      "metadata": {
        "id": "f4d3025c-4a29-42e3-8821-8df2d8daa5e0"
      },
      "source": [
        "### 5.2 Outliers for Spread\n",
        "Now repeat the analysis for spread.\n",
        "<div style=\"background-color:lemonchiffon; border:1px solid; padding:5px; margin:5px; font-weight:bold\"><font color=\"crimson\">\n",
        "TODO: Complete the following code cells\n",
        "    </font></div>"
      ]
    },
    {
      "cell_type": "code",
      "execution_count": null,
      "id": "ce6760cf-78d0-465d-b4a3-f199596983fa",
      "metadata": {
        "id": "ce6760cf-78d0-465d-b4a3-f199596983fa",
        "colab": {
          "base_uri": "https://localhost:8080/",
          "height": 447
        },
        "outputId": "19aa69f4-a828-46c5-a604-cfbc112797a6"
      },
      "outputs": [
        {
          "output_type": "execute_result",
          "data": {
            "text/plain": [
              "<Axes: >"
            ]
          },
          "metadata": {},
          "execution_count": 46
        },
        {
          "output_type": "display_data",
          "data": {
            "text/plain": [
              "<Figure size 640x480 with 1 Axes>"
            ],
            "image/png": "[encoded data removed]"
          },
          "metadata": {}
        }
      ],
      "source": [
        "# Use a boxplot to find the outliers\n",
        "trees.boxplot(\"Spread In Metres\")"
      ]
    },
    {
      "cell_type": "code",
      "execution_count": null,
      "id": "6ab3697f-02f9-4e35-acd7-520ac7a1aa83",
      "metadata": {
        "id": "6ab3697f-02f9-4e35-acd7-520ac7a1aa83",
        "colab": {
          "base_uri": "https://localhost:8080/",
          "height": 128
        },
        "outputId": "1cfb3253-2038-4dad-f9f6-2e392f69c608"
      },
      "outputs": [
        {
          "output_type": "execute_result",
          "data": {
            "text/plain": [
              "Empty DataFrame\n",
              "Columns: [Identifier, Number Of Trees, Site Name, Contract Area, Scientific Name, Inspection Date, Inspection Due Date, Height In Metres, Spread In Metres, Diameter In Centimetres At Breast Height, Ward Code, Ward Name, Easting, Northing, Longitude, Latitude, Location]\n",
              "Index: []"
            ],
            "text/html": [
              "\n",
              "  <div id=\"df-1b54b9af-1aab-4e02-ad12-2673e8e4b53e\">\n",
              "    <div class=\"colab-df-container\">\n",
              "      <div>\n",
              "<style scoped>\n",
              "    .dataframe tbody tr th:only-of-type {\n",
              "        vertical-align: middle;\n",
              "    }\n",
              "\n",
              "    .dataframe tbody tr th {\n",
              "        vertical-align: top;\n",
              "    }\n",
              "\n",
              "    .dataframe thead th {\n",
              "        text-align: right;\n",
              "    }\n",
              "</style>\n",
              "<table border=\"1\" class=\"dataframe\">\n",
              "  <thead>\n",
              "    <tr style=\"text-align: right;\">\n",
              "      <th></th>\n",
              "      <th>Identifier</th>\n",
              "      <th>Number Of Trees</th>\n",
              "      <th>Site Name</th>\n",
              "      <th>Contract Area</th>\n",
              "      <th>Scientific Name</th>\n",
              "      <th>Inspection Date</th>\n",
              "      <th>Inspection Due Date</th>\n",
              "      <th>Height In Metres</th>\n",
              "      <th>Spread In Metres</th>\n",
              "      <th>Diameter In Centimetres At Breast Height</th>\n",
              "      <th>Ward Code</th>\n",
              "      <th>Ward Name</th>\n",
              "      <th>Easting</th>\n",
              "      <th>Northing</th>\n",
              "      <th>Longitude</th>\n",
              "      <th>Latitude</th>\n",
              "      <th>Location</th>\n",
              "    </tr>\n",
              "  </thead>\n",
              "  <tbody>\n",
              "  </tbody>\n",
              "</table>\n",
              "</div>\n",
              "      <button class=\"colab-df-convert\" onclick=\"convertToInteractive('df-1b54b9af-1aab-4e02-ad12-2673e8e4b53e')\"\n",
              "              title=\"Convert this dataframe to an interactive table.\"\n",
              "              style=\"display:none;\">\n",
              "        \n",
              "  <svg xmlns=\"http://www.w3.org/2000/svg\" height=\"24px\"viewBox=\"0 0 24 24\"\n",
              "       width=\"24px\">\n",
              "    <path d=\"M0 0h24v24H0V0z\" fill=\"none\"/>\n",
              "    <path d=\"M18.56 5.44l.94 2.06.94-2.06 2.06-.94-2.06-.94-.94-2.06-.94 2.06-2.06.94zm-11 1L8.5 8.5l.94-2.06 2.06-.94-2.06-.94L8.5 2.5l-.94 2.06-2.06.94zm10 10l.94 2.06.94-2.06 2.06-.94-2.06-.94-.94-2.06-.94 2.06-2.06.94z\"/><path d=\"M17.41 7.96l-1.37-1.37c-.4-.4-.92-.59-1.43-.59-.52 0-1.04.2-1.43.59L10.3 9.45l-7.72 7.72c-.78.78-.78 2.05 0 2.83L4 21.41c.39.39.9.59 1.41.59.51 0 1.02-.2 1.41-.59l7.78-7.78 2.81-2.81c.8-.78.8-2.07 0-2.86zM5.41 20L4 18.59l7.72-7.72 1.47 1.35L5.41 20z\"/>\n",
              "  </svg>\n",
              "      </button>\n",
              "      \n",
              "  <style>\n",
              "    .colab-df-container {\n",
              "      display:flex;\n",
              "      flex-wrap:wrap;\n",
              "      gap: 12px;\n",
              "    }\n",
              "\n",
              "    .colab-df-convert {\n",
              "      background-color: #E8F0FE;\n",
              "      border: none;\n",
              "      border-radius: 50%;\n",
              "      cursor: pointer;\n",
              "      display: none;\n",
              "      fill: #1967D2;\n",
              "      height: 32px;\n",
              "      padding: 0 0 0 0;\n",
              "      width: 32px;\n",
              "    }\n",
              "\n",
              "    .colab-df-convert:hover {\n",
              "      background-color: #E2EBFA;\n",
              "      box-shadow: 0px 1px 2px rgba(60, 64, 67, 0.3), 0px 1px 3px 1px rgba(60, 64, 67, 0.15);\n",
              "      fill: #174EA6;\n",
              "    }\n",
              "\n",
              "    [theme=dark] .colab-df-convert {\n",
              "      background-color: #3B4455;\n",
              "      fill: #D2E3FC;\n",
              "    }\n",
              "\n",
              "    [theme=dark] .colab-df-convert:hover {\n",
              "      background-color: #434B5C;\n",
              "      box-shadow: 0px 1px 3px 1px rgba(0, 0, 0, 0.15);\n",
              "      filter: drop-shadow(0px 1px 2px rgba(0, 0, 0, 0.3));\n",
              "      fill: #FFFFFF;\n",
              "    }\n",
              "  </style>\n",
              "\n",
              "      <script>\n",
              "        const buttonEl =\n",
              "          document.querySelector('#df-1b54b9af-1aab-4e02-ad12-2673e8e4b53e button.colab-df-convert');\n",
              "        buttonEl.style.display =\n",
              "          google.colab.kernel.accessAllowed ? 'block' : 'none';\n",
              "\n",
              "        async function convertToInteractive(key) {\n",
              "          const element = document.querySelector('#df-1b54b9af-1aab-4e02-ad12-2673e8e4b53e');\n",
              "          const dataTable =\n",
              "            await google.colab.kernel.invokeFunction('convertToInteractive',\n",
              "                                                     [key], {});\n",
              "          if (!dataTable) return;\n",
              "\n",
              "          const docLinkHtml = 'Like what you see? Visit the ' +\n",
              "            '<a target=\"_blank\" href=https://colab.research.google.com/notebooks/data_table.ipynb>data table notebook</a>'\n",
              "            + ' to learn more about interactive tables.';\n",
              "          element.innerHTML = '';\n",
              "          dataTable['output_type'] = 'display_data';\n",
              "          await google.colab.output.renderOutput(dataTable, element);\n",
              "          const docLink = document.createElement('div');\n",
              "          docLink.innerHTML = docLinkHtml;\n",
              "          element.appendChild(docLink);\n",
              "        }\n",
              "      </script>\n",
              "    </div>\n",
              "  </div>\n",
              "  "
            ]
          },
          "metadata": {},
          "execution_count": 50
        }
      ],
      "source": [
        "# Select the crazy outlier rows (if any)\n",
        "mask = trees[\"Spread In Metres\"] > 500\n",
        "trees[mask]"
      ]
    },
    {
      "cell_type": "markdown",
      "id": "70810045-0b5e-4dfe-bba1-fe6b0c2ea8d0",
      "metadata": {
        "id": "70810045-0b5e-4dfe-bba1-fe6b0c2ea8d0"
      },
      "source": [
        "<hr/>"
      ]
    },
    {
      "cell_type": "code",
      "source": [
        "SpreadInMetres = trees[\"Spread In Metres\"]\n",
        "\n",
        "SpreadInMetres.head()"
      ],
      "metadata": {
        "colab": {
          "base_uri": "https://localhost:8080/"
        },
        "id": "notNh7CTgZzC",
        "outputId": "11e1c1fb-0b18-4c49-acd4-adc504eaced1"
      },
      "id": "notNh7CTgZzC",
      "execution_count": null,
      "outputs": [
        {
          "output_type": "execute_result",
          "data": {
            "text/plain": [
              "0    NaN\n",
              "1    NaN\n",
              "2    4.0\n",
              "3    1.0\n",
              "4    6.0\n",
              "Name: Spread In Metres, dtype: float64"
            ]
          },
          "metadata": {},
          "execution_count": 49
        }
      ]
    },
    {
      "cell_type": "markdown",
      "id": "cc0982a2-f528-49ee-ae07-6d611cb4c564",
      "metadata": {
        "id": "cc0982a2-f528-49ee-ae07-6d611cb4c564"
      },
      "source": [
        "### 5.3 Outliers for Diameter\n",
        "Now repeat the analysis for diameter.\n",
        "<div style=\"background-color:lemonchiffon; border:1px solid; padding:5px; margin:5px; font-weight:bold\"><font color=\"crimson\">\n",
        "TODO: Complete the following code cells\n",
        "    </font></div>"
      ]
    },
    {
      "cell_type": "code",
      "execution_count": null,
      "id": "f09b82f0-44c7-4b2c-b7d6-7b1059f8e424",
      "metadata": {
        "id": "f09b82f0-44c7-4b2c-b7d6-7b1059f8e424",
        "colab": {
          "base_uri": "https://localhost:8080/",
          "height": 447
        },
        "outputId": "ba84a03c-40fb-4f9f-8ae9-0c5d35cdf970"
      },
      "outputs": [
        {
          "output_type": "execute_result",
          "data": {
            "text/plain": [
              "<Axes: >"
            ]
          },
          "metadata": {},
          "execution_count": 53
        },
        {
          "output_type": "display_data",
          "data": {
            "text/plain": [
              "<Figure size 640x480 with 1 Axes>"
            ],
            "image/png": "[encoded data removed]"
          },
          "metadata": {}
        }
      ],
      "source": [
        "# Use a boxplot to find the outliers\n",
        "trees.boxplot(\"Diameter In Centimetres At Breast Height\")"
      ]
    },
    {
      "cell_type": "code",
      "execution_count": null,
      "id": "6299642f-bf98-43da-a7bc-2880c88c002e",
      "metadata": {
        "id": "6299642f-bf98-43da-a7bc-2880c88c002e",
        "colab": {
          "base_uri": "https://localhost:8080/",
          "height": 128
        },
        "outputId": "6294893d-660f-40c2-de57-91e86831e308"
      },
      "outputs": [
        {
          "output_type": "execute_result",
          "data": {
            "text/plain": [
              "Empty DataFrame\n",
              "Columns: [Identifier, Number Of Trees, Site Name, Contract Area, Scientific Name, Inspection Date, Inspection Due Date, Height In Metres, Spread In Metres, Diameter In Centimetres At Breast Height, Ward Code, Ward Name, Easting, Northing, Longitude, Latitude, Location]\n",
              "Index: []"
            ],
            "text/html": [
              "\n",
              "  <div id=\"df-edbfc051-1af8-4c27-80e7-1bc1658cdc75\">\n",
              "    <div class=\"colab-df-container\">\n",
              "      <div>\n",
              "<style scoped>\n",
              "    .dataframe tbody tr th:only-of-type {\n",
              "        vertical-align: middle;\n",
              "    }\n",
              "\n",
              "    .dataframe tbody tr th {\n",
              "        vertical-align: top;\n",
              "    }\n",
              "\n",
              "    .dataframe thead th {\n",
              "        text-align: right;\n",
              "    }\n",
              "</style>\n",
              "<table border=\"1\" class=\"dataframe\">\n",
              "  <thead>\n",
              "    <tr style=\"text-align: right;\">\n",
              "      <th></th>\n",
              "      <th>Identifier</th>\n",
              "      <th>Number Of Trees</th>\n",
              "      <th>Site Name</th>\n",
              "      <th>Contract Area</th>\n",
              "      <th>Scientific Name</th>\n",
              "      <th>Inspection Date</th>\n",
              "      <th>Inspection Due Date</th>\n",
              "      <th>Height In Metres</th>\n",
              "      <th>Spread In Metres</th>\n",
              "      <th>Diameter In Centimetres At Breast Height</th>\n",
              "      <th>Ward Code</th>\n",
              "      <th>Ward Name</th>\n",
              "      <th>Easting</th>\n",
              "      <th>Northing</th>\n",
              "      <th>Longitude</th>\n",
              "      <th>Latitude</th>\n",
              "      <th>Location</th>\n",
              "    </tr>\n",
              "  </thead>\n",
              "  <tbody>\n",
              "  </tbody>\n",
              "</table>\n",
              "</div>\n",
              "      <button class=\"colab-df-convert\" onclick=\"convertToInteractive('df-edbfc051-1af8-4c27-80e7-1bc1658cdc75')\"\n",
              "              title=\"Convert this dataframe to an interactive table.\"\n",
              "              style=\"display:none;\">\n",
              "        \n",
              "  <svg xmlns=\"http://www.w3.org/2000/svg\" height=\"24px\"viewBox=\"0 0 24 24\"\n",
              "       width=\"24px\">\n",
              "    <path d=\"M0 0h24v24H0V0z\" fill=\"none\"/>\n",
              "    <path d=\"M18.56 5.44l.94 2.06.94-2.06 2.06-.94-2.06-.94-.94-2.06-.94 2.06-2.06.94zm-11 1L8.5 8.5l.94-2.06 2.06-.94-2.06-.94L8.5 2.5l-.94 2.06-2.06.94zm10 10l.94 2.06.94-2.06 2.06-.94-2.06-.94-.94-2.06-.94 2.06-2.06.94z\"/><path d=\"M17.41 7.96l-1.37-1.37c-.4-.4-.92-.59-1.43-.59-.52 0-1.04.2-1.43.59L10.3 9.45l-7.72 7.72c-.78.78-.78 2.05 0 2.83L4 21.41c.39.39.9.59 1.41.59.51 0 1.02-.2 1.41-.59l7.78-7.78 2.81-2.81c.8-.78.8-2.07 0-2.86zM5.41 20L4 18.59l7.72-7.72 1.47 1.35L5.41 20z\"/>\n",
              "  </svg>\n",
              "      </button>\n",
              "      \n",
              "  <style>\n",
              "    .colab-df-container {\n",
              "      display:flex;\n",
              "      flex-wrap:wrap;\n",
              "      gap: 12px;\n",
              "    }\n",
              "\n",
              "    .colab-df-convert {\n",
              "      background-color: #E8F0FE;\n",
              "      border: none;\n",
              "      border-radius: 50%;\n",
              "      cursor: pointer;\n",
              "      display: none;\n",
              "      fill: #1967D2;\n",
              "      height: 32px;\n",
              "      padding: 0 0 0 0;\n",
              "      width: 32px;\n",
              "    }\n",
              "\n",
              "    .colab-df-convert:hover {\n",
              "      background-color: #E2EBFA;\n",
              "      box-shadow: 0px 1px 2px rgba(60, 64, 67, 0.3), 0px 1px 3px 1px rgba(60, 64, 67, 0.15);\n",
              "      fill: #174EA6;\n",
              "    }\n",
              "\n",
              "    [theme=dark] .colab-df-convert {\n",
              "      background-color: #3B4455;\n",
              "      fill: #D2E3FC;\n",
              "    }\n",
              "\n",
              "    [theme=dark] .colab-df-convert:hover {\n",
              "      background-color: #434B5C;\n",
              "      box-shadow: 0px 1px 3px 1px rgba(0, 0, 0, 0.15);\n",
              "      filter: drop-shadow(0px 1px 2px rgba(0, 0, 0, 0.3));\n",
              "      fill: #FFFFFF;\n",
              "    }\n",
              "  </style>\n",
              "\n",
              "      <script>\n",
              "        const buttonEl =\n",
              "          document.querySelector('#df-edbfc051-1af8-4c27-80e7-1bc1658cdc75 button.colab-df-convert');\n",
              "        buttonEl.style.display =\n",
              "          google.colab.kernel.accessAllowed ? 'block' : 'none';\n",
              "\n",
              "        async function convertToInteractive(key) {\n",
              "          const element = document.querySelector('#df-edbfc051-1af8-4c27-80e7-1bc1658cdc75');\n",
              "          const dataTable =\n",
              "            await google.colab.kernel.invokeFunction('convertToInteractive',\n",
              "                                                     [key], {});\n",
              "          if (!dataTable) return;\n",
              "\n",
              "          const docLinkHtml = 'Like what you see? Visit the ' +\n",
              "            '<a target=\"_blank\" href=https://colab.research.google.com/notebooks/data_table.ipynb>data table notebook</a>'\n",
              "            + ' to learn more about interactive tables.';\n",
              "          element.innerHTML = '';\n",
              "          dataTable['output_type'] = 'display_data';\n",
              "          await google.colab.output.renderOutput(dataTable, element);\n",
              "          const docLink = document.createElement('div');\n",
              "          docLink.innerHTML = docLinkHtml;\n",
              "          element.appendChild(docLink);\n",
              "        }\n",
              "      </script>\n",
              "    </div>\n",
              "  </div>\n",
              "  "
            ]
          },
          "metadata": {},
          "execution_count": 54
        }
      ],
      "source": [
        "# Select the outlier rows (if any)\n",
        "mask = trees[\"Diameter In Centimetres At Breast Height\"] > 500\n",
        "trees[mask]"
      ]
    },
    {
      "cell_type": "markdown",
      "id": "19fb2357-f25f-4840-b4a7-5a016256ff28",
      "metadata": {
        "id": "19fb2357-f25f-4840-b4a7-5a016256ff28"
      },
      "source": [
        "<hr/>\n",
        "\n",
        "### 5.4 Observations\n",
        "\n",
        "<div style=\"background-color:lemonchiffon; border:1px solid; padding:5px; margin:5px; font-weight:bold\"><font color=\"crimson\">\n",
        "TODO: Write down your observation about outliers in the data.  What assumptions did you make?  Were you comfortable making these assumptions?\n",
        "    </font></div>\n"
      ]
    },
    {
      "cell_type": "markdown",
      "id": "12f67262-3fe4-4238-8e6f-e04382b8594d",
      "metadata": {
        "id": "12f67262-3fe4-4238-8e6f-e04382b8594d"
      },
      "source": [
        "ENTER MARKDOWN HERE\n",
        "\n",
        "Boxplot outliers are consistent with data issues (null, zero values) on following variables:\n",
        "\n",
        "\n",
        "*   Height in Metres\n",
        "*   Spread in Metres\n",
        "*   Diameter In Centimetres At Breast Height\n",
        "\n",
        "\n",
        "\n",
        "\n"
      ]
    },
    {
      "cell_type": "markdown",
      "id": "bd36393a-8904-4be8-affe-1a99e5d4e69f",
      "metadata": {
        "id": "bd36393a-8904-4be8-affe-1a99e5d4e69f"
      },
      "source": [
        "<hr/>"
      ]
    },
    {
      "cell_type": "markdown",
      "id": "a433b035-abc4-4ce2-b86e-484e698bd941",
      "metadata": {
        "id": "a433b035-abc4-4ce2-b86e-484e698bd941"
      },
      "source": [
        "## Task 6: Identify Duplicates in the Trees Dataset\n",
        "Sometimes data has duplicate entries.  This is another sign of data quality issues!\n",
        "\n",
        "### 6.1 Find Duplicate Rows\n",
        "\n",
        "In our dataset the `Identifier` column should be unique.  Find out if it is!  We've already used a function that can count how many times each value in a column exists.  Use it to see if we have duplicates in the trees Dataframe.\n",
        "\n",
        "<div style=\"background-color:lemonchiffon; border:1px solid; padding:5px; margin:5px; font-weight:bold\"><font color=\"crimson\">\n",
        "TODO: Complete the following code cells\n",
        "    </font></div>"
      ]
    },
    {
      "cell_type": "code",
      "execution_count": null,
      "id": "a40454f4-03e9-43b3-a0d8-6fcb756ba90b",
      "metadata": {
        "id": "a40454f4-03e9-43b3-a0d8-6fcb756ba90b",
        "colab": {
          "base_uri": "https://localhost:8080/"
        },
        "outputId": "bef0c76d-c190-4802-d693-0eb9be993bc4"
      },
      "outputs": [
        {
          "output_type": "execute_result",
          "data": {
            "text/plain": [
              "00000999    2\n",
              "00060087    2\n",
              "00022744    2\n",
              "00032549    2\n",
              "00022674    2\n",
              "           ..\n",
              "00046158    1\n",
              "00058373    1\n",
              "00059181    1\n",
              "00002274    1\n",
              "00013369    1\n",
              "Name: Identifier, Length: 23438, dtype: int64"
            ]
          },
          "metadata": {},
          "execution_count": 55
        }
      ],
      "source": [
        "# Find out if we have any duplicates\n",
        "trees[\"Identifier\"].value_counts()"
      ]
    },
    {
      "cell_type": "markdown",
      "id": "787be537-4f13-466e-9a65-108d93563fc8",
      "metadata": {
        "id": "787be537-4f13-466e-9a65-108d93563fc8"
      },
      "source": [
        "Now see if you can select the rows from trees DataFrame that are duplicates.  You will need to use the output from the cell above and use it to filter the trees dataframe."
      ]
    },
    {
      "cell_type": "code",
      "execution_count": null,
      "id": "3d2fbdbf-c839-4e84-ad7c-add0f4fa31ef",
      "metadata": {
        "id": "3d2fbdbf-c839-4e84-ad7c-add0f4fa31ef",
        "colab": {
          "base_uri": "https://localhost:8080/",
          "height": 455
        },
        "outputId": "cd4d25e5-0698-4ebc-8698-c228fbba8b12"
      },
      "outputs": [
        {
          "output_type": "execute_result",
          "data": {
            "text/plain": [
              "      Identifier  Number Of Trees         Site Name Contract Area  \\\n",
              "6111    00032549              1.0    NARCISSUS ROAD      Highways   \n",
              "9186    00022744              1.0          YORK WAY      Highways   \n",
              "10972   00060088              1.0  FREDERICK STREET      Highways   \n",
              "13098   00000999              1.0       ALMA STREET      Highways   \n",
              "13628   00022674              1.0     WOODSOME ROAD      Highways   \n",
              "15653   00060087              1.0     ARGYLE SQUARE      Highways   \n",
              "\n",
              "                                         Scientific Name Inspection Date  \\\n",
              "6111                           Betula albosinensis Fasc.      2018-09-19   \n",
              "9186                                 Ailanthus altissima      2019-10-30   \n",
              "10972  Vacant Tree Pit (planned: Acer campestre eco s...      2019-11-09   \n",
              "13098                                  Sorbus hupehensis      2017-07-25   \n",
              "13628                                             Sorbus      2017-10-07   \n",
              "15653  Vacant Tree Pit (planned: Acer campestre eco s...      2019-11-09   \n",
              "\n",
              "      Inspection Due Date  Height In Metres  Spread In Metres  \\\n",
              "6111            2021/2022               9.0               6.0   \n",
              "9186            2022/2023               7.5               3.0   \n",
              "10972           2022/2023               NaN               NaN   \n",
              "13098           2020/2021               5.0               4.0   \n",
              "13628           2020/2021               7.0               6.0   \n",
              "15653           2022/2023               NaN               NaN   \n",
              "\n",
              "       Diameter In Centimetres At Breast Height  Ward Code       Ward Name  \\\n",
              "6111                                       19.0  E05000145  West Hampstead   \n",
              "9186                                       18.0  E05000131      Cantelowes   \n",
              "10972                                       NaN  E05000141    King's Cross   \n",
              "13098                                      18.0  E05000139    Kentish Town   \n",
              "13628                                      28.0  E05000137        Highgate   \n",
              "15653                                       NaN  E05000141    King's Cross   \n",
              "\n",
              "       Easting  Northing  Longitude   Latitude                Location  \n",
              "6111    525185    185127  -0.195840  51.551159   (51.551159, -0.19584)  \n",
              "9186    529983    184724  -0.126837  51.546447  (51.546447, -0.126837)  \n",
              "10972   530770    182696  -0.116241  51.528046  (51.528046, -0.116241)  \n",
              "13098   528834    184856  -0.143337  51.547904  (51.547904, -0.143337)  \n",
              "13628   528515    186109  -0.147481  51.559237  (51.559237, -0.147481)  \n",
              "15653   530342    182839  -0.122352  51.529428  (51.529428, -0.122352)  "
            ],
            "text/html": [
              "\n",
              "  <div id=\"df-d630398b-4858-4e4d-8b4c-817f71bbf929\">\n",
              "    <div class=\"colab-df-container\">\n",
              "      <div>\n",
              "<style scoped>\n",
              "    .dataframe tbody tr th:only-of-type {\n",
              "        vertical-align: middle;\n",
              "    }\n",
              "\n",
              "    .dataframe tbody tr th {\n",
              "        vertical-align: top;\n",
              "    }\n",
              "\n",
              "    .dataframe thead th {\n",
              "        text-align: right;\n",
              "    }\n",
              "</style>\n",
              "<table border=\"1\" class=\"dataframe\">\n",
              "  <thead>\n",
              "    <tr style=\"text-align: right;\">\n",
              "      <th></th>\n",
              "      <th>Identifier</th>\n",
              "      <th>Number Of Trees</th>\n",
              "      <th>Site Name</th>\n",
              "      <th>Contract Area</th>\n",
              "      <th>Scientific Name</th>\n",
              "      <th>Inspection Date</th>\n",
              "      <th>Inspection Due Date</th>\n",
              "      <th>Height In Metres</th>\n",
              "      <th>Spread In Metres</th>\n",
              "      <th>Diameter In Centimetres At Breast Height</th>\n",
              "      <th>Ward Code</th>\n",
              "      <th>Ward Name</th>\n",
              "      <th>Easting</th>\n",
              "      <th>Northing</th>\n",
              "      <th>Longitude</th>\n",
              "      <th>Latitude</th>\n",
              "      <th>Location</th>\n",
              "    </tr>\n",
              "  </thead>\n",
              "  <tbody>\n",
              "    <tr>\n",
              "      <th>6111</th>\n",
              "      <td>00032549</td>\n",
              "      <td>1.0</td>\n",
              "      <td>NARCISSUS ROAD</td>\n",
              "      <td>Highways</td>\n",
              "      <td>Betula albosinensis Fasc.</td>\n",
              "      <td>2018-09-19</td>\n",
              "      <td>2021/2022</td>\n",
              "      <td>9.0</td>\n",
              "      <td>6.0</td>\n",
              "      <td>19.0</td>\n",
              "      <td>E05000145</td>\n",
              "      <td>West Hampstead</td>\n",
              "      <td>525185</td>\n",
              "      <td>185127</td>\n",
              "      <td>-0.195840</td>\n",
              "      <td>51.551159</td>\n",
              "      <td>(51.551159, -0.19584)</td>\n",
              "    </tr>\n",
              "    <tr>\n",
              "      <th>9186</th>\n",
              "      <td>00022744</td>\n",
              "      <td>1.0</td>\n",
              "      <td>YORK WAY</td>\n",
              "      <td>Highways</td>\n",
              "      <td>Ailanthus altissima</td>\n",
              "      <td>2019-10-30</td>\n",
              "      <td>2022/2023</td>\n",
              "      <td>7.5</td>\n",
              "      <td>3.0</td>\n",
              "      <td>18.0</td>\n",
              "      <td>E05000131</td>\n",
              "      <td>Cantelowes</td>\n",
              "      <td>529983</td>\n",
              "      <td>184724</td>\n",
              "      <td>-0.126837</td>\n",
              "      <td>51.546447</td>\n",
              "      <td>(51.546447, -0.126837)</td>\n",
              "    </tr>\n",
              "    <tr>\n",
              "      <th>10972</th>\n",
              "      <td>00060088</td>\n",
              "      <td>1.0</td>\n",
              "      <td>FREDERICK STREET</td>\n",
              "      <td>Highways</td>\n",
              "      <td>Vacant Tree Pit (planned: Acer campestre eco s...</td>\n",
              "      <td>2019-11-09</td>\n",
              "      <td>2022/2023</td>\n",
              "      <td>NaN</td>\n",
              "      <td>NaN</td>\n",
              "      <td>NaN</td>\n",
              "      <td>E05000141</td>\n",
              "      <td>King's Cross</td>\n",
              "      <td>530770</td>\n",
              "      <td>182696</td>\n",
              "      <td>-0.116241</td>\n",
              "      <td>51.528046</td>\n",
              "      <td>(51.528046, -0.116241)</td>\n",
              "    </tr>\n",
              "    <tr>\n",
              "      <th>13098</th>\n",
              "      <td>00000999</td>\n",
              "      <td>1.0</td>\n",
              "      <td>ALMA STREET</td>\n",
              "      <td>Highways</td>\n",
              "      <td>Sorbus hupehensis</td>\n",
              "      <td>2017-07-25</td>\n",
              "      <td>2020/2021</td>\n",
              "      <td>5.0</td>\n",
              "      <td>4.0</td>\n",
              "      <td>18.0</td>\n",
              "      <td>E05000139</td>\n",
              "      <td>Kentish Town</td>\n",
              "      <td>528834</td>\n",
              "      <td>184856</td>\n",
              "      <td>-0.143337</td>\n",
              "      <td>51.547904</td>\n",
              "      <td>(51.547904, -0.143337)</td>\n",
              "    </tr>\n",
              "    <tr>\n",
              "      <th>13628</th>\n",
              "      <td>00022674</td>\n",
              "      <td>1.0</td>\n",
              "      <td>WOODSOME ROAD</td>\n",
              "      <td>Highways</td>\n",
              "      <td>Sorbus</td>\n",
              "      <td>2017-10-07</td>\n",
              "      <td>2020/2021</td>\n",
              "      <td>7.0</td>\n",
              "      <td>6.0</td>\n",
              "      <td>28.0</td>\n",
              "      <td>E05000137</td>\n",
              "      <td>Highgate</td>\n",
              "      <td>528515</td>\n",
              "      <td>186109</td>\n",
              "      <td>-0.147481</td>\n",
              "      <td>51.559237</td>\n",
              "      <td>(51.559237, -0.147481)</td>\n",
              "    </tr>\n",
              "    <tr>\n",
              "      <th>15653</th>\n",
              "      <td>00060087</td>\n",
              "      <td>1.0</td>\n",
              "      <td>ARGYLE SQUARE</td>\n",
              "      <td>Highways</td>\n",
              "      <td>Vacant Tree Pit (planned: Acer campestre eco s...</td>\n",
              "      <td>2019-11-09</td>\n",
              "      <td>2022/2023</td>\n",
              "      <td>NaN</td>\n",
              "      <td>NaN</td>\n",
              "      <td>NaN</td>\n",
              "      <td>E05000141</td>\n",
              "      <td>King's Cross</td>\n",
              "      <td>530342</td>\n",
              "      <td>182839</td>\n",
              "      <td>-0.122352</td>\n",
              "      <td>51.529428</td>\n",
              "      <td>(51.529428, -0.122352)</td>\n",
              "    </tr>\n",
              "  </tbody>\n",
              "</table>\n",
              "</div>\n",
              "      <button class=\"colab-df-convert\" onclick=\"convertToInteractive('df-d630398b-4858-4e4d-8b4c-817f71bbf929')\"\n",
              "              title=\"Convert this dataframe to an interactive table.\"\n",
              "              style=\"display:none;\">\n",
              "        \n",
              "  <svg xmlns=\"http://www.w3.org/2000/svg\" height=\"24px\"viewBox=\"0 0 24 24\"\n",
              "       width=\"24px\">\n",
              "    <path d=\"M0 0h24v24H0V0z\" fill=\"none\"/>\n",
              "    <path d=\"M18.56 5.44l.94 2.06.94-2.06 2.06-.94-2.06-.94-.94-2.06-.94 2.06-2.06.94zm-11 1L8.5 8.5l.94-2.06 2.06-.94-2.06-.94L8.5 2.5l-.94 2.06-2.06.94zm10 10l.94 2.06.94-2.06 2.06-.94-2.06-.94-.94-2.06-.94 2.06-2.06.94z\"/><path d=\"M17.41 7.96l-1.37-1.37c-.4-.4-.92-.59-1.43-.59-.52 0-1.04.2-1.43.59L10.3 9.45l-7.72 7.72c-.78.78-.78 2.05 0 2.83L4 21.41c.39.39.9.59 1.41.59.51 0 1.02-.2 1.41-.59l7.78-7.78 2.81-2.81c.8-.78.8-2.07 0-2.86zM5.41 20L4 18.59l7.72-7.72 1.47 1.35L5.41 20z\"/>\n",
              "  </svg>\n",
              "      </button>\n",
              "      \n",
              "  <style>\n",
              "    .colab-df-container {\n",
              "      display:flex;\n",
              "      flex-wrap:wrap;\n",
              "      gap: 12px;\n",
              "    }\n",
              "\n",
              "    .colab-df-convert {\n",
              "      background-color: #E8F0FE;\n",
              "      border: none;\n",
              "      border-radius: 50%;\n",
              "      cursor: pointer;\n",
              "      display: none;\n",
              "      fill: #1967D2;\n",
              "      height: 32px;\n",
              "      padding: 0 0 0 0;\n",
              "      width: 32px;\n",
              "    }\n",
              "\n",
              "    .colab-df-convert:hover {\n",
              "      background-color: #E2EBFA;\n",
              "      box-shadow: 0px 1px 2px rgba(60, 64, 67, 0.3), 0px 1px 3px 1px rgba(60, 64, 67, 0.15);\n",
              "      fill: #174EA6;\n",
              "    }\n",
              "\n",
              "    [theme=dark] .colab-df-convert {\n",
              "      background-color: #3B4455;\n",
              "      fill: #D2E3FC;\n",
              "    }\n",
              "\n",
              "    [theme=dark] .colab-df-convert:hover {\n",
              "      background-color: #434B5C;\n",
              "      box-shadow: 0px 1px 3px 1px rgba(0, 0, 0, 0.15);\n",
              "      filter: drop-shadow(0px 1px 2px rgba(0, 0, 0, 0.3));\n",
              "      fill: #FFFFFF;\n",
              "    }\n",
              "  </style>\n",
              "\n",
              "      <script>\n",
              "        const buttonEl =\n",
              "          document.querySelector('#df-d630398b-4858-4e4d-8b4c-817f71bbf929 button.colab-df-convert');\n",
              "        buttonEl.style.display =\n",
              "          google.colab.kernel.accessAllowed ? 'block' : 'none';\n",
              "\n",
              "        async function convertToInteractive(key) {\n",
              "          const element = document.querySelector('#df-d630398b-4858-4e4d-8b4c-817f71bbf929');\n",
              "          const dataTable =\n",
              "            await google.colab.kernel.invokeFunction('convertToInteractive',\n",
              "                                                     [key], {});\n",
              "          if (!dataTable) return;\n",
              "\n",
              "          const docLinkHtml = 'Like what you see? Visit the ' +\n",
              "            '<a target=\"_blank\" href=https://colab.research.google.com/notebooks/data_table.ipynb>data table notebook</a>'\n",
              "            + ' to learn more about interactive tables.';\n",
              "          element.innerHTML = '';\n",
              "          dataTable['output_type'] = 'display_data';\n",
              "          await google.colab.output.renderOutput(dataTable, element);\n",
              "          const docLink = document.createElement('div');\n",
              "          docLink.innerHTML = docLinkHtml;\n",
              "          element.appendChild(docLink);\n",
              "        }\n",
              "      </script>\n",
              "    </div>\n",
              "  </div>\n",
              "  "
            ]
          },
          "metadata": {},
          "execution_count": 62
        }
      ],
      "source": [
        "# Select the rows that are duplicated\n",
        "trees[trees['Identifier'].duplicated() == True]"
      ]
    },
    {
      "cell_type": "markdown",
      "id": "a74e447b-7ae5-43f3-a189-94c066fe6fc0",
      "metadata": {
        "id": "a74e447b-7ae5-43f3-a189-94c066fe6fc0"
      },
      "source": [
        "<hr/>\n",
        "\n",
        "### 6.2 Observations\n",
        "\n",
        "<div style=\"background-color:lemonchiffon; border:1px solid; padding:5px; margin:5px; font-weight:bold\"><font color=\"crimson\">\n",
        "TODO: Write down your observations about duplicates in trees.\n",
        "    </font></div>\n",
        "\n",
        "Considering data size, amount of duplicates (15 total) is minimal. However, this could be due to larger volume of null values."
      ]
    },
    {
      "cell_type": "markdown",
      "id": "59990f3e-6f73-46ee-8644-2dc503baa93a",
      "metadata": {
        "id": "59990f3e-6f73-46ee-8644-2dc503baa93a"
      },
      "source": [
        "## Task 7: Identify Geolocation Issues\n",
        "The geographic coordinates (Easting and Northing) can be used to plot the trees on a map.  We can use this approach to see if there are any unusual tree locations!\n",
        "\n",
        "We will make a copy of the original trees dataset and remove any rows that have a missing easting or northing as these can't be plotted on the map.\n",
        "\n",
        "We can copy the DataFrame using:\n",
        "\n",
        "- [pandas.DataFrame.copy](https://pandas.pydata.org/pandas-docs/stable/reference/api/pandas.DataFrame.copy.html)\n",
        "\n",
        "We can use the DataFrame filtering technique we saw before to remove the missing values.  E.g. the following code filters out rows where the value for 'mycolumn' is 100:\n",
        "\n",
        "    mask = df['mycolumn'] != 100\n",
        "    df = df[mask]\n",
        "\n",
        "You can also create masks using a function, e.g. this creates a mask which excludes nulls:\n",
        "\n",
        "    mask = df['mycolumn'].isnull()\n",
        "\n",
        "We can use this function to plot the trees on a map. Set x to \"Easting\" and y to \"Northing\" and set a figsize parameter to (6, 6) to get a square aspect ratio:\n",
        "\n",
        "- [pandas.DataFrame.plot.scatter](https://pandas.pydata.org/pandas-docs/version/0.25.0/reference/api/pandas.DataFrame.plot.scatter.html)\n",
        "\n",
        "\n"
      ]
    },
    {
      "cell_type": "markdown",
      "id": "0bdaf281-68a3-43d4-abb6-f3c42a088f7f",
      "metadata": {
        "id": "0bdaf281-68a3-43d4-abb6-f3c42a088f7f"
      },
      "source": [
        "### 7.1 Remove Trees with Missing Geo-coordinates\n",
        "Check if there are any rows with null or 0 geo-coordinates.  If there are, remove them as we can't plot these.\n",
        "\n",
        "<div style=\"background-color:lemonchiffon; border:1px solid; padding:5px; margin:5px; font-weight:bold\"><font color=\"crimson\">\n",
        "TODO: Complete the following code cells\n",
        "    </font></div>"
      ]
    },
    {
      "cell_type": "code",
      "execution_count": null,
      "id": "913c1d69-b105-44aa-be2f-73b537313c6e",
      "metadata": {
        "id": "913c1d69-b105-44aa-be2f-73b537313c6e"
      },
      "outputs": [],
      "source": [
        "# Make a copy of the trees\n",
        "geotrees = trees.copy()"
      ]
    },
    {
      "cell_type": "code",
      "execution_count": null,
      "id": "3a9b5bf6-bda3-472f-9796-060023cff4e8",
      "metadata": {
        "id": "3a9b5bf6-bda3-472f-9796-060023cff4e8"
      },
      "outputs": [],
      "source": [
        "# Remove null Eastings\n",
        "mask = trees['Easting'] != 100\n",
        "trees = trees[mask]"
      ]
    },
    {
      "cell_type": "code",
      "execution_count": null,
      "id": "7f77324a-f2e4-4d69-a0fe-1d71757c6f6e",
      "metadata": {
        "id": "7f77324a-f2e4-4d69-a0fe-1d71757c6f6e"
      },
      "outputs": [],
      "source": [
        "# Remove 0 Eastings.  \n",
        "mask = trees['Easting'] != 0\n",
        "trees = trees[mask]"
      ]
    },
    {
      "cell_type": "code",
      "execution_count": null,
      "id": "40ccb789-0cab-4218-9caa-e7e08b2b71ae",
      "metadata": {
        "id": "40ccb789-0cab-4218-9caa-e7e08b2b71ae"
      },
      "outputs": [],
      "source": [
        "# Remove null Northings\n",
        "mask = trees['Northing'].isnull()"
      ]
    },
    {
      "cell_type": "code",
      "execution_count": null,
      "id": "c77858c5-99e7-4f1f-affa-bd2370b9aed8",
      "metadata": {
        "id": "c77858c5-99e7-4f1f-affa-bd2370b9aed8"
      },
      "outputs": [],
      "source": [
        "# Remove 0 Northings.  \n",
        "mask = trees['Northing'] != 0\n",
        "trees = trees[mask]"
      ]
    },
    {
      "cell_type": "code",
      "execution_count": null,
      "id": "616a5473-5d71-486a-9ea0-c401fc7f4428",
      "metadata": {
        "id": "616a5473-5d71-486a-9ea0-c401fc7f4428",
        "colab": {
          "base_uri": "https://localhost:8080/"
        },
        "outputId": "43460a5b-f877-439f-e063-95d52f10d4f7"
      },
      "outputs": [
        {
          "output_type": "execute_result",
          "data": {
            "text/plain": [
              "(23388, 17)"
            ]
          },
          "metadata": {},
          "execution_count": 39
        }
      ],
      "source": [
        "# Confirm how many rows we have\n",
        "trees.shape"
      ]
    },
    {
      "cell_type": "markdown",
      "id": "a63dbcfc-e781-4812-9a10-1cf5be028dae",
      "metadata": {
        "id": "a63dbcfc-e781-4812-9a10-1cf5be028dae"
      },
      "source": [
        "<hr/>"
      ]
    },
    {
      "cell_type": "markdown",
      "id": "d1e84a3c-7eed-408a-a724-3944d89e0755",
      "metadata": {
        "id": "d1e84a3c-7eed-408a-a724-3944d89e0755"
      },
      "source": [
        "### 7.2 Plot Map of Trees\n",
        "Now make the plot.  Do a scatter plot of Northing vs Easting. You should obtain an outline of the map of Camden. Compare that outline with a real map of Camden (use good old google maps!). You’ll be able to spot the trees that should not be in that dataset from there!\n",
        "\n",
        "<div style=\"background-color:lemonchiffon; border:1px solid; padding:5px; margin:5px; font-weight:bold\"><font color=\"crimson\">\n",
        "TODO: Complete the following code cell\n",
        "    </font></div>"
      ]
    },
    {
      "cell_type": "code",
      "execution_count": null,
      "id": "b51e227f-bd09-4064-9f60-be766962646d",
      "metadata": {
        "id": "b51e227f-bd09-4064-9f60-be766962646d",
        "colab": {
          "base_uri": "https://localhost:8080/",
          "height": 466
        },
        "outputId": "a0fb9997-6365-4fd9-c399-8bf6c038c013"
      },
      "outputs": [
        {
          "output_type": "execute_result",
          "data": {
            "text/plain": [
              "<Axes: xlabel='Easting', ylabel='Northing'>"
            ]
          },
          "metadata": {},
          "execution_count": 55
        },
        {
          "output_type": "display_data",
          "data": {
            "text/plain": [
              "<Figure size 640x480 with 1 Axes>"
            ],
            "image/png": "[encoded data removed]"
          },
          "metadata": {}
        }
      ],
      "source": [
        "# Plot the trees on a map\n",
        "trees.plot.scatter(\n",
        "    x='Easting',\n",
        "y='Northing',\n",
        ")"
      ]
    },
    {
      "cell_type": "markdown",
      "id": "6914e59e-aaeb-4b9b-8a84-b4007e2ad747",
      "metadata": {
        "id": "6914e59e-aaeb-4b9b-8a84-b4007e2ad747"
      },
      "source": [
        "### 7.3 Find Trees Outside Camden\n",
        "From the scatter plot, you should be able to determine how to select the rows from the trees data set containing the offending trees (using the Easting and Northing values)\n",
        "\n",
        "Select the rows containing trees outside of Camden.  Use the filter technique again.\n",
        "\n",
        "<div style=\"background-color:lemonchiffon; border:1px solid; padding:5px; margin:5px; font-weight:bold\"><font color=\"crimson\">\n",
        "TODO: Complete the following code cells\n",
        "    </font></div>"
      ]
    },
    {
      "cell_type": "code",
      "execution_count": null,
      "id": "4b992a8f-d5be-4adb-a383-4f8e5505b2ed",
      "metadata": {
        "id": "4b992a8f-d5be-4adb-a383-4f8e5505b2ed",
        "colab": {
          "base_uri": "https://localhost:8080/",
          "height": 443
        },
        "outputId": "6530ef88-6115-4378-d6a2-53a684203750"
      },
      "outputs": [
        {
          "output_type": "execute_result",
          "data": {
            "text/plain": [
              "      Identifier  Number Of Trees                  Site Name Contract Area  \\\n",
              "78      00044991              1.0          Bells Hill Estate       Housing   \n",
              "298     00045000              1.0  Estate 167 Furzehill Road       Housing   \n",
              "660     00044992              1.0          Bells Hill Estate       Housing   \n",
              "1526    00044995              1.0          Bells Hill Estate       Housing   \n",
              "5392    00044990              1.0          Bells Hill Estate       Housing   \n",
              "18069   00044993              1.0          Bells Hill Estate       Housing   \n",
              "18078   00044601              1.0          Bells Hill Estate       Housing   \n",
              "19532   00044988              1.0          Bells Hill Estate       Housing   \n",
              "\n",
              "              Scientific Name Inspection Date Inspection Due Date  \\\n",
              "78         Fraxinus excelsior      2017-04-28           2020/2021   \n",
              "298          Pinus sylvestris      2017-04-28           2020/2021   \n",
              "660        Crataegus monogyna      2017-04-28           2020/2021   \n",
              "1526       Fraxinus excelsior      2017-04-28           2020/2021   \n",
              "5392   Aesculus hippocastanum      2017-04-28           2020/2021   \n",
              "18069           Tilia cordata      2017-04-28           2020/2021   \n",
              "18078           Tilia cordata      2017-04-28           2020/2021   \n",
              "19532           Tilia cordata      2017-04-28           2020/2021   \n",
              "\n",
              "       Height In Metres  Spread In Metres  \\\n",
              "78                 20.0              10.0   \n",
              "298                10.0               3.0   \n",
              "660                 4.0               4.0   \n",
              "1526               18.0              12.0   \n",
              "5392               22.0              12.0   \n",
              "18069              23.0              14.0   \n",
              "18078              21.0              12.0   \n",
              "19532              21.0              12.0   \n",
              "\n",
              "       Diameter In Centimetres At Breast Height Ward Code Ward Name  Easting  \\\n",
              "78                                         49.0       NaN       NaN   523883   \n",
              "298                                        41.0       NaN       NaN   520367   \n",
              "660                                         7.0       NaN       NaN   523875   \n",
              "1526                                       54.0       NaN       NaN   523936   \n",
              "5392                                       67.0       NaN       NaN   523889   \n",
              "18069                                      89.0       NaN       NaN   523867   \n",
              "18078                                      56.0       NaN       NaN   523905   \n",
              "19532                                      65.0       NaN       NaN   523909   \n",
              "\n",
              "       Northing  Longitude   Latitude                Location  \n",
              "78       196179  -0.210713  51.650765  (51.650765, -0.210713)  \n",
              "298      195595  -0.261719  51.646283  (51.646283, -0.261719)  \n",
              "660      196170  -0.210830  51.650690    (51.65069, -0.21083)  \n",
              "1526     196127  -0.209969  51.650287  (51.650287, -0.209969)  \n",
              "5392     196188  -0.210618  51.650843  (51.650843, -0.210618)  \n",
              "18069    196159  -0.210957  51.650590   (51.65059, -0.210957)  \n",
              "18078    196174  -0.210394  51.650719  (51.650719, -0.210394)  \n",
              "19532    196169  -0.210340  51.650676   (51.650676, -0.21034)  "
            ],
            "text/html": [
              "\n",
              "  <div id=\"df-cd0202dd-b65e-4336-a8ba-12dbb3b04361\">\n",
              "    <div class=\"colab-df-container\">\n",
              "      <div>\n",
              "<style scoped>\n",
              "    .dataframe tbody tr th:only-of-type {\n",
              "        vertical-align: middle;\n",
              "    }\n",
              "\n",
              "    .dataframe tbody tr th {\n",
              "        vertical-align: top;\n",
              "    }\n",
              "\n",
              "    .dataframe thead th {\n",
              "        text-align: right;\n",
              "    }\n",
              "</style>\n",
              "<table border=\"1\" class=\"dataframe\">\n",
              "  <thead>\n",
              "    <tr style=\"text-align: right;\">\n",
              "      <th></th>\n",
              "      <th>Identifier</th>\n",
              "      <th>Number Of Trees</th>\n",
              "      <th>Site Name</th>\n",
              "      <th>Contract Area</th>\n",
              "      <th>Scientific Name</th>\n",
              "      <th>Inspection Date</th>\n",
              "      <th>Inspection Due Date</th>\n",
              "      <th>Height In Metres</th>\n",
              "      <th>Spread In Metres</th>\n",
              "      <th>Diameter In Centimetres At Breast Height</th>\n",
              "      <th>Ward Code</th>\n",
              "      <th>Ward Name</th>\n",
              "      <th>Easting</th>\n",
              "      <th>Northing</th>\n",
              "      <th>Longitude</th>\n",
              "      <th>Latitude</th>\n",
              "      <th>Location</th>\n",
              "    </tr>\n",
              "  </thead>\n",
              "  <tbody>\n",
              "    <tr>\n",
              "      <th>78</th>\n",
              "      <td>00044991</td>\n",
              "      <td>1.0</td>\n",
              "      <td>Bells Hill Estate</td>\n",
              "      <td>Housing</td>\n",
              "      <td>Fraxinus excelsior</td>\n",
              "      <td>2017-04-28</td>\n",
              "      <td>2020/2021</td>\n",
              "      <td>20.0</td>\n",
              "      <td>10.0</td>\n",
              "      <td>49.0</td>\n",
              "      <td>NaN</td>\n",
              "      <td>NaN</td>\n",
              "      <td>523883</td>\n",
              "      <td>196179</td>\n",
              "      <td>-0.210713</td>\n",
              "      <td>51.650765</td>\n",
              "      <td>(51.650765, -0.210713)</td>\n",
              "    </tr>\n",
              "    <tr>\n",
              "      <th>298</th>\n",
              "      <td>00045000</td>\n",
              "      <td>1.0</td>\n",
              "      <td>Estate 167 Furzehill Road</td>\n",
              "      <td>Housing</td>\n",
              "      <td>Pinus sylvestris</td>\n",
              "      <td>2017-04-28</td>\n",
              "      <td>2020/2021</td>\n",
              "      <td>10.0</td>\n",
              "      <td>3.0</td>\n",
              "      <td>41.0</td>\n",
              "      <td>NaN</td>\n",
              "      <td>NaN</td>\n",
              "      <td>520367</td>\n",
              "      <td>195595</td>\n",
              "      <td>-0.261719</td>\n",
              "      <td>51.646283</td>\n",
              "      <td>(51.646283, -0.261719)</td>\n",
              "    </tr>\n",
              "    <tr>\n",
              "      <th>660</th>\n",
              "      <td>00044992</td>\n",
              "      <td>1.0</td>\n",
              "      <td>Bells Hill Estate</td>\n",
              "      <td>Housing</td>\n",
              "      <td>Crataegus monogyna</td>\n",
              "      <td>2017-04-28</td>\n",
              "      <td>2020/2021</td>\n",
              "      <td>4.0</td>\n",
              "      <td>4.0</td>\n",
              "      <td>7.0</td>\n",
              "      <td>NaN</td>\n",
              "      <td>NaN</td>\n",
              "      <td>523875</td>\n",
              "      <td>196170</td>\n",
              "      <td>-0.210830</td>\n",
              "      <td>51.650690</td>\n",
              "      <td>(51.65069, -0.21083)</td>\n",
              "    </tr>\n",
              "    <tr>\n",
              "      <th>1526</th>\n",
              "      <td>00044995</td>\n",
              "      <td>1.0</td>\n",
              "      <td>Bells Hill Estate</td>\n",
              "      <td>Housing</td>\n",
              "      <td>Fraxinus excelsior</td>\n",
              "      <td>2017-04-28</td>\n",
              "      <td>2020/2021</td>\n",
              "      <td>18.0</td>\n",
              "      <td>12.0</td>\n",
              "      <td>54.0</td>\n",
              "      <td>NaN</td>\n",
              "      <td>NaN</td>\n",
              "      <td>523936</td>\n",
              "      <td>196127</td>\n",
              "      <td>-0.209969</td>\n",
              "      <td>51.650287</td>\n",
              "      <td>(51.650287, -0.209969)</td>\n",
              "    </tr>\n",
              "    <tr>\n",
              "      <th>5392</th>\n",
              "      <td>00044990</td>\n",
              "      <td>1.0</td>\n",
              "      <td>Bells Hill Estate</td>\n",
              "      <td>Housing</td>\n",
              "      <td>Aesculus hippocastanum</td>\n",
              "      <td>2017-04-28</td>\n",
              "      <td>2020/2021</td>\n",
              "      <td>22.0</td>\n",
              "      <td>12.0</td>\n",
              "      <td>67.0</td>\n",
              "      <td>NaN</td>\n",
              "      <td>NaN</td>\n",
              "      <td>523889</td>\n",
              "      <td>196188</td>\n",
              "      <td>-0.210618</td>\n",
              "      <td>51.650843</td>\n",
              "      <td>(51.650843, -0.210618)</td>\n",
              "    </tr>\n",
              "    <tr>\n",
              "      <th>18069</th>\n",
              "      <td>00044993</td>\n",
              "      <td>1.0</td>\n",
              "      <td>Bells Hill Estate</td>\n",
              "      <td>Housing</td>\n",
              "      <td>Tilia cordata</td>\n",
              "      <td>2017-04-28</td>\n",
              "      <td>2020/2021</td>\n",
              "      <td>23.0</td>\n",
              "      <td>14.0</td>\n",
              "      <td>89.0</td>\n",
              "      <td>NaN</td>\n",
              "      <td>NaN</td>\n",
              "      <td>523867</td>\n",
              "      <td>196159</td>\n",
              "      <td>-0.210957</td>\n",
              "      <td>51.650590</td>\n",
              "      <td>(51.65059, -0.210957)</td>\n",
              "    </tr>\n",
              "    <tr>\n",
              "      <th>18078</th>\n",
              "      <td>00044601</td>\n",
              "      <td>1.0</td>\n",
              "      <td>Bells Hill Estate</td>\n",
              "      <td>Housing</td>\n",
              "      <td>Tilia cordata</td>\n",
              "      <td>2017-04-28</td>\n",
              "      <td>2020/2021</td>\n",
              "      <td>21.0</td>\n",
              "      <td>12.0</td>\n",
              "      <td>56.0</td>\n",
              "      <td>NaN</td>\n",
              "      <td>NaN</td>\n",
              "      <td>523905</td>\n",
              "      <td>196174</td>\n",
              "      <td>-0.210394</td>\n",
              "      <td>51.650719</td>\n",
              "      <td>(51.650719, -0.210394)</td>\n",
              "    </tr>\n",
              "    <tr>\n",
              "      <th>19532</th>\n",
              "      <td>00044988</td>\n",
              "      <td>1.0</td>\n",
              "      <td>Bells Hill Estate</td>\n",
              "      <td>Housing</td>\n",
              "      <td>Tilia cordata</td>\n",
              "      <td>2017-04-28</td>\n",
              "      <td>2020/2021</td>\n",
              "      <td>21.0</td>\n",
              "      <td>12.0</td>\n",
              "      <td>65.0</td>\n",
              "      <td>NaN</td>\n",
              "      <td>NaN</td>\n",
              "      <td>523909</td>\n",
              "      <td>196169</td>\n",
              "      <td>-0.210340</td>\n",
              "      <td>51.650676</td>\n",
              "      <td>(51.650676, -0.21034)</td>\n",
              "    </tr>\n",
              "  </tbody>\n",
              "</table>\n",
              "</div>\n",
              "      <button class=\"colab-df-convert\" onclick=\"convertToInteractive('df-cd0202dd-b65e-4336-a8ba-12dbb3b04361')\"\n",
              "              title=\"Convert this dataframe to an interactive table.\"\n",
              "              style=\"display:none;\">\n",
              "        \n",
              "  <svg xmlns=\"http://www.w3.org/2000/svg\" height=\"24px\"viewBox=\"0 0 24 24\"\n",
              "       width=\"24px\">\n",
              "    <path d=\"M0 0h24v24H0V0z\" fill=\"none\"/>\n",
              "    <path d=\"M18.56 5.44l.94 2.06.94-2.06 2.06-.94-2.06-.94-.94-2.06-.94 2.06-2.06.94zm-11 1L8.5 8.5l.94-2.06 2.06-.94-2.06-.94L8.5 2.5l-.94 2.06-2.06.94zm10 10l.94 2.06.94-2.06 2.06-.94-2.06-.94-.94-2.06-.94 2.06-2.06.94z\"/><path d=\"M17.41 7.96l-1.37-1.37c-.4-.4-.92-.59-1.43-.59-.52 0-1.04.2-1.43.59L10.3 9.45l-7.72 7.72c-.78.78-.78 2.05 0 2.83L4 21.41c.39.39.9.59 1.41.59.51 0 1.02-.2 1.41-.59l7.78-7.78 2.81-2.81c.8-.78.8-2.07 0-2.86zM5.41 20L4 18.59l7.72-7.72 1.47 1.35L5.41 20z\"/>\n",
              "  </svg>\n",
              "      </button>\n",
              "      \n",
              "  <style>\n",
              "    .colab-df-container {\n",
              "      display:flex;\n",
              "      flex-wrap:wrap;\n",
              "      gap: 12px;\n",
              "    }\n",
              "\n",
              "    .colab-df-convert {\n",
              "      background-color: #E8F0FE;\n",
              "      border: none;\n",
              "      border-radius: 50%;\n",
              "      cursor: pointer;\n",
              "      display: none;\n",
              "      fill: #1967D2;\n",
              "      height: 32px;\n",
              "      padding: 0 0 0 0;\n",
              "      width: 32px;\n",
              "    }\n",
              "\n",
              "    .colab-df-convert:hover {\n",
              "      background-color: #E2EBFA;\n",
              "      box-shadow: 0px 1px 2px rgba(60, 64, 67, 0.3), 0px 1px 3px 1px rgba(60, 64, 67, 0.15);\n",
              "      fill: #174EA6;\n",
              "    }\n",
              "\n",
              "    [theme=dark] .colab-df-convert {\n",
              "      background-color: #3B4455;\n",
              "      fill: #D2E3FC;\n",
              "    }\n",
              "\n",
              "    [theme=dark] .colab-df-convert:hover {\n",
              "      background-color: #434B5C;\n",
              "      box-shadow: 0px 1px 3px 1px rgba(0, 0, 0, 0.15);\n",
              "      filter: drop-shadow(0px 1px 2px rgba(0, 0, 0, 0.3));\n",
              "      fill: #FFFFFF;\n",
              "    }\n",
              "  </style>\n",
              "\n",
              "      <script>\n",
              "        const buttonEl =\n",
              "          document.querySelector('#df-cd0202dd-b65e-4336-a8ba-12dbb3b04361 button.colab-df-convert');\n",
              "        buttonEl.style.display =\n",
              "          google.colab.kernel.accessAllowed ? 'block' : 'none';\n",
              "\n",
              "        async function convertToInteractive(key) {\n",
              "          const element = document.querySelector('#df-cd0202dd-b65e-4336-a8ba-12dbb3b04361');\n",
              "          const dataTable =\n",
              "            await google.colab.kernel.invokeFunction('convertToInteractive',\n",
              "                                                     [key], {});\n",
              "          if (!dataTable) return;\n",
              "\n",
              "          const docLinkHtml = 'Like what you see? Visit the ' +\n",
              "            '<a target=\"_blank\" href=https://colab.research.google.com/notebooks/data_table.ipynb>data table notebook</a>'\n",
              "            + ' to learn more about interactive tables.';\n",
              "          element.innerHTML = '';\n",
              "          dataTable['output_type'] = 'display_data';\n",
              "          await google.colab.output.renderOutput(dataTable, element);\n",
              "          const docLink = document.createElement('div');\n",
              "          docLink.innerHTML = docLinkHtml;\n",
              "          element.appendChild(docLink);\n",
              "        }\n",
              "      </script>\n",
              "    </div>\n",
              "  </div>\n",
              "  "
            ]
          },
          "metadata": {},
          "execution_count": 56
        }
      ],
      "source": [
        "# Select the outlier rows\n",
        "mask = trees[\"Northing\"] > 194000\n",
        "trees[mask]"
      ]
    },
    {
      "cell_type": "code",
      "execution_count": 14,
      "id": "0270dae9-9bcf-4b63-95cf-13b7c5184424",
      "metadata": {
        "id": "0270dae9-9bcf-4b63-95cf-13b7c5184424",
        "colab": {
          "base_uri": "https://localhost:8080/"
        },
        "outputId": "3666c442-5bf6-4e23-a9ca-2a9d5c6b8038"
      },
      "outputs": [
        {
          "output_type": "execute_result",
          "data": {
            "text/plain": [
              "23444"
            ]
          },
          "metadata": {},
          "execution_count": 14
        }
      ],
      "source": [
        "# Confirm how many rows we have\n",
        "len(trees[\"Northing\"])"
      ]
    },
    {
      "cell_type": "markdown",
      "id": "ee3f0cff-17bb-4f75-a92c-876c56e230c5",
      "metadata": {
        "id": "ee3f0cff-17bb-4f75-a92c-876c56e230c5"
      },
      "source": [
        "<hr/>\n",
        "\n",
        "### 7.4 Observations\n",
        "\n",
        "\n",
        "<div style=\"background-color:lemonchiffon; border:1px solid; padding:5px; margin:5px; font-weight:bold\"><font color=\"crimson\">\n",
        "TODO: Write down your observation about geolocation issues.\n",
        "    </font></div>\n"
      ]
    },
    {
      "cell_type": "markdown",
      "id": "3f5a1605-de7e-4cb7-8190-c643122c104e",
      "metadata": {
        "id": "3f5a1605-de7e-4cb7-8190-c643122c104e"
      },
      "source": [
        "ENTER MARKDOWN HERE"
      ]
    },
    {
      "cell_type": "markdown",
      "id": "0680cf79-2a3a-4e9c-8332-609680b69040",
      "metadata": {
        "id": "0680cf79-2a3a-4e9c-8332-609680b69040"
      },
      "source": [
        "<hr/>"
      ]
    },
    {
      "cell_type": "markdown",
      "id": "2c6f941f-e14a-4a51-aa29-66010910009a",
      "metadata": {
        "tags": [],
        "id": "2c6f941f-e14a-4a51-aa29-66010910009a"
      },
      "source": [
        "## Task 8: Identify Unmatched Data\n",
        "We have multiple datasets that will need to be joined together to produce the analyses required by the Camden Parks and Open Spaces team.  The data will need to be joined in the following way:\n",
        "\n",
        "- Use the `Identifier` column in the trees dataset to match to the `Identifier` column in the environmental data set (so we can bring in the environmental data for each tree)\n",
        "- Use the `Scientific Name` column in the trees dataset to match to the `Scientific Name` column in the common names data set (so we can look up the `Common Name`)\n",
        "\n",
        "There may be mismatches in the data.  Of particular concern we want to check\n",
        "\n",
        "- That every tree in the trees dataset has matching environmental data in the environmental data set\n",
        "- That every environmental row in the environmental dataset has matching tree data in the tree data set\n",
        "- That every scientific name in the trees dataset has a matching common name in the common names data set\n",
        "\n",
        "We aren't too concerned about the reverse of the last scenario (if we have extra names in the common names dataset that aren't in the trees data set).  We don't expect Camden to have a specimen of every tree that exists!  \n",
        "\n",
        "There are a few ways this can be done, but one technique is to use the `isin` function to check if some column in one dataframe contains values that are in another column in another dataframe.  This creates a mask containing rows that match between the two dataframes:\n",
        "\n",
        "    mask = df1['column_name1'].isin(df2['column_name2'])\n",
        "    \n",
        "To select the non-matching rows, we can use Python's bitwise not operator ~:\n",
        "\n",
        "    mask = ~df1['column_name1'].isin(df2['column_name2'])\n",
        "    \n",
        "As we have seen before, the mask can be used to select that subset of rows back from the original dataframe."
      ]
    },
    {
      "cell_type": "markdown",
      "id": "1f5064f7-e956-4420-b80c-f14c2d2d3427",
      "metadata": {
        "id": "1f5064f7-e956-4420-b80c-f14c2d2d3427"
      },
      "source": [
        "### 8.1 Find Trees that Don't have Matching Environmental Data\n",
        "<div style=\"background-color:lemonchiffon; border:1px solid; padding:5px; margin:5px; font-weight:bold\"><font color=\"crimson\">\n",
        "TODO: Complete the following code cells\n",
        "    </font></div>"
      ]
    },
    {
      "cell_type": "code",
      "execution_count": 25,
      "id": "ec5e5506-1c6f-4f33-92d1-420ea57b6da5",
      "metadata": {
        "id": "ec5e5506-1c6f-4f33-92d1-420ea57b6da5",
        "colab": {
          "base_uri": "https://localhost:8080/"
        },
        "outputId": "8465db05-3a31-4843-a813-be2b7f142972"
      },
      "outputs": [
        {
          "output_type": "execute_result",
          "data": {
            "text/plain": [
              "0        True\n",
              "1        True\n",
              "2        True\n",
              "3        True\n",
              "4        True\n",
              "         ... \n",
              "23439    True\n",
              "23440    True\n",
              "23441    True\n",
              "23442    True\n",
              "23443    True\n",
              "Name: Identifier, Length: 23444, dtype: bool"
            ]
          },
          "metadata": {},
          "execution_count": 25
        }
      ],
      "source": [
        "# Find trees that don't have matching environmental data\n",
        "trees['Identifier'].isin(camden_trees_environmental['Identifier'])"
      ]
    },
    {
      "cell_type": "code",
      "source": [
        "~trees['Scientific Name'].isin(tree_common_names['Scientific Name'])"
      ],
      "metadata": {
        "colab": {
          "base_uri": "https://localhost:8080/"
        },
        "id": "Xy3rZuLZtCgE",
        "outputId": "70235337-6fdd-4269-cb01-3e2b831cc259"
      },
      "id": "Xy3rZuLZtCgE",
      "execution_count": 21,
      "outputs": [
        {
          "output_type": "execute_result",
          "data": {
            "text/plain": [
              "0        False\n",
              "1        False\n",
              "2        False\n",
              "3        False\n",
              "4        False\n",
              "         ...  \n",
              "23439    False\n",
              "23440    False\n",
              "23441    False\n",
              "23442    False\n",
              "23443    False\n",
              "Name: Scientific Name, Length: 23444, dtype: bool"
            ]
          },
          "metadata": {},
          "execution_count": 21
        }
      ]
    },
    {
      "cell_type": "code",
      "execution_count": 10,
      "id": "36cabc0b-2d67-4a8d-8d85-6d3d3b40acfb",
      "metadata": {
        "id": "36cabc0b-2d67-4a8d-8d85-6d3d3b40acfb",
        "colab": {
          "base_uri": "https://localhost:8080/"
        },
        "outputId": "ceb15dc8-93b8-446d-d9b1-94b1cdafe92b"
      },
      "outputs": [
        {
          "output_type": "execute_result",
          "data": {
            "text/plain": [
              "23444"
            ]
          },
          "metadata": {},
          "execution_count": 10
        }
      ],
      "source": [
        "# Confirm how many rows we have\n",
        "len(trees)"
      ]
    },
    {
      "cell_type": "markdown",
      "id": "163e0301-fae2-41cc-a7a7-11a31b9e0499",
      "metadata": {
        "id": "163e0301-fae2-41cc-a7a7-11a31b9e0499"
      },
      "source": [
        "### 8.2 Find Environmental Data that Doesn't have Matching Tree Data\n",
        "<div style=\"background-color:lemonchiffon; border:1px solid; padding:5px; margin:5px; font-weight:bold\"><font color=\"crimson\">\n",
        "TODO: Complete the following code cells\n",
        "    </font></div>"
      ]
    },
    {
      "cell_type": "code",
      "execution_count": 23,
      "id": "17727576-c7c3-487a-87d1-d27d326f661c",
      "metadata": {
        "id": "17727576-c7c3-487a-87d1-d27d326f661c",
        "colab": {
          "base_uri": "https://localhost:8080/"
        },
        "outputId": "6b05c2e2-929b-4ec5-e12f-ada96ccf196e"
      },
      "outputs": [
        {
          "output_type": "execute_result",
          "data": {
            "text/plain": [
              "0        True\n",
              "1        True\n",
              "2        True\n",
              "3        True\n",
              "4        True\n",
              "         ... \n",
              "23410    True\n",
              "23411    True\n",
              "23412    True\n",
              "23413    True\n",
              "23414    True\n",
              "Name: Identifier, Length: 23415, dtype: bool"
            ]
          },
          "metadata": {},
          "execution_count": 23
        }
      ],
      "source": [
        "# Find environmental data that doesn't have matching tree data\n",
        "camden_trees_environmental['Identifier'].isin(trees['Identifier'])"
      ]
    },
    {
      "cell_type": "code",
      "execution_count": 24,
      "id": "7c562a4f-6a70-4e53-8dc5-c2ebd3a1417f",
      "metadata": {
        "id": "7c562a4f-6a70-4e53-8dc5-c2ebd3a1417f",
        "colab": {
          "base_uri": "https://localhost:8080/"
        },
        "outputId": "0c7ba3c2-5abb-4f3e-8472-397e16e40f66"
      },
      "outputs": [
        {
          "output_type": "execute_result",
          "data": {
            "text/plain": [
              "23415"
            ]
          },
          "metadata": {},
          "execution_count": 24
        }
      ],
      "source": [
        "# Confirm how many rows we have\n",
        "len(camden_trees_environmental)"
      ]
    },
    {
      "cell_type": "markdown",
      "id": "ce4445b4-53db-4d95-82b6-4af1088046bf",
      "metadata": {
        "id": "ce4445b4-53db-4d95-82b6-4af1088046bf"
      },
      "source": [
        "### 8.3 Find Trees that Don't have Matching Common Names Data\n",
        "<div style=\"background-color:lemonchiffon; border:1px solid; padding:5px; margin:5px; font-weight:bold\"><font color=\"crimson\">\n",
        "TODO: Complete the following code cells\n",
        "    </font></div>"
      ]
    },
    {
      "cell_type": "code",
      "execution_count": null,
      "id": "f66f9bfd-6bfc-4faf-946e-d5d8f6cbb4b6",
      "metadata": {
        "id": "f66f9bfd-6bfc-4faf-946e-d5d8f6cbb4b6"
      },
      "outputs": [],
      "source": [
        "# Find trees with scientific names that don't have matching common names data\n",
        "# TODO"
      ]
    },
    {
      "cell_type": "code",
      "execution_count": null,
      "id": "183f5951-2c4e-486a-beb9-68abc8be8674",
      "metadata": {
        "id": "183f5951-2c4e-486a-beb9-68abc8be8674"
      },
      "outputs": [],
      "source": [
        "# Confirm how many rows we have\n",
        "# TODO"
      ]
    },
    {
      "cell_type": "markdown",
      "id": "28a9ce1a-e0d6-42b2-b83a-bfb1c1a21f75",
      "metadata": {
        "id": "28a9ce1a-e0d6-42b2-b83a-bfb1c1a21f75"
      },
      "source": [
        "<hr/>\n",
        "\n",
        "### 8.4 Observations\n",
        "\n",
        "<div style=\"background-color:lemonchiffon; border:1px solid; padding:5px; margin:5px; font-weight:bold\"><font color=\"crimson\">\n",
        "TODO: Write down your observation about unmatched data issues.\n",
        "    </font></div>\n"
      ]
    },
    {
      "cell_type": "markdown",
      "id": "80b550e2-3d7e-44af-990a-cc59b070c269",
      "metadata": {
        "id": "80b550e2-3d7e-44af-990a-cc59b070c269"
      },
      "source": [
        "ENTER MARKDOWN HERE"
      ]
    },
    {
      "cell_type": "markdown",
      "id": "663f0130-1aee-4590-b6d3-ddc531035415",
      "metadata": {
        "id": "663f0130-1aee-4590-b6d3-ddc531035415"
      },
      "source": [
        "<hr/>"
      ]
    },
    {
      "cell_type": "markdown",
      "id": "ecb4c78f-147a-4cb7-b646-1de2d365c5e5",
      "metadata": {
        "id": "ecb4c78f-147a-4cb7-b646-1de2d365c5e5"
      },
      "source": [
        "# END OF NOTEBOOK"
      ]
    },
    {
      "cell_type": "code",
      "execution_count": null,
      "id": "23027640-3750-4ea5-9057-e81626698bdb",
      "metadata": {
        "id": "23027640-3750-4ea5-9057-e81626698bdb"
      },
      "outputs": [],
      "source": []
    }
  ],
  "metadata": {
    "kernelspec": {
      "display_name": "Python 3",
      "language": "python",
      "name": "python3"
    },
    "language_info": {
      "codemirror_mode": {
        "name": "ipython",
        "version": 3
      },
      "file_extension": ".py",
      "mimetype": "text/x-python",
      "name": "python",
      "nbconvert_exporter": "python",
      "pygments_lexer": "ipython3",
      "version": "3.8.8"
    },
    "colab": {
      "provenance": [],
      "toc_visible": true,
      "include_colab_link": true
    }
  },
  "nbformat": 4,
  "nbformat_minor": 5
}